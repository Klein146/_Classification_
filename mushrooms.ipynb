{
 "cells": [
  {
   "cell_type": "markdown",
   "source": "##### 23 espèces de champignons branchiaux de la famille (Agaricus & Lepiota)  appartienent a 2 Classes Toxique / non-Toxique",
   "metadata": {
    "cell_id": "ac55632c71ba42d6956a0e3810067616",
    "tags": [],
    "deepnote_cell_type": "markdown",
    "deepnote_cell_height": 54
   }
  },
  {
   "cell_type": "markdown",
   "source": "##### Objectifs\n• Quels types de modèles d'apprentissage fonctionnent le mieux sur cet ensemble de données ?\n \n• Quelles sont les caractéristiques les plus indicatives d'un champignon toxique ? ",
   "metadata": {
    "cell_id": "027b3669f83a4403bf37a5c48fb121f7",
    "tags": [],
    "deepnote_cell_type": "markdown",
    "deepnote_cell_height": 124
   }
  },
  {
   "cell_type": "markdown",
   "source": "# ___IMPORTATION___",
   "metadata": {
    "cell_id": "2aacdc43cde54d7baae383bf3f484cb1",
    "tags": [],
    "deepnote_cell_type": "markdown",
    "deepnote_cell_height": 82
   }
  },
  {
   "cell_type": "code",
   "metadata": {
    "cell_id": "6d7347cdcdad4505bb70bbd349daace1",
    "tags": [],
    "deepnote_to_be_reexecuted": false,
    "source_hash": "bcf93ba8",
    "execution_start": 1649015266174,
    "execution_millis": 4051,
    "deepnote_cell_type": "code",
    "deepnote_cell_height": 423
   },
   "source": "import numpy as np\nimport pandas as pd\nimport seaborn as sb\nimport matplotlib.pyplot as plt\nfrom sklearn.preprocessing import LabelEncoder, StandardScaler\nfrom sklearn.model_selection import train_test_split\nfrom sklearn.neighbors import KNeighborsClassifier\nimport math\nfrom sklearn.svm import SVC\nfrom sklearn.metrics import confusion_matrix, ConfusionMatrixDisplay\nfrom sklearn.metrics import accuracy_score, f1_score, classification_report\nfrom sklearn.metrics import roc_curve,RocCurveDisplay\nfrom sklearn import metrics\nfrom sklearn.model_selection import cross_val_score, learning_curve\nfrom sklearn import svm\nfrom sklearn.tree import DecisionTreeClassifier\nfrom sklearn.ensemble import RandomForestClassifier\nfrom sklearn.linear_model import SGDClassifier, LogisticRegression\nfrom sklearn.naive_bayes import GaussianNB\nfrom sklearn.feature_selection import SelectFromModel",
   "execution_count": 1,
   "outputs": []
  },
  {
   "cell_type": "code",
   "metadata": {
    "cell_id": "be7b684d0ace40da80c7c9dd8ed26c12",
    "tags": [],
    "deepnote_to_be_reexecuted": false,
    "source_hash": "a6831bef",
    "execution_start": 1649015270228,
    "execution_millis": 208,
    "deepnote_cell_type": "code",
    "deepnote_cell_height": 598
   },
   "source": "df = pd.read_csv(\"mushrooms.csv\");df",
   "execution_count": 2,
   "outputs": [
    {
     "output_type": "execute_result",
     "execution_count": 2,
     "data": {
      "application/vnd.deepnote.dataframe.v3+json": {
       "column_count": 23,
       "row_count": 8124,
       "columns": [
        {
         "name": "class",
         "dtype": "object",
         "stats": {
          "unique_count": 2,
          "nan_count": 0,
          "categories": [
           {
            "name": "e",
            "count": 4208
           },
           {
            "name": "p",
            "count": 3916
           }
          ]
         }
        },
        {
         "name": "cap-shape",
         "dtype": "object",
         "stats": {
          "unique_count": 6,
          "nan_count": 0,
          "categories": [
           {
            "name": "x",
            "count": 3656
           },
           {
            "name": "f",
            "count": 3152
           },
           {
            "name": "4 others",
            "count": 1316
           }
          ]
         }
        },
        {
         "name": "cap-surface",
         "dtype": "object",
         "stats": {
          "unique_count": 4,
          "nan_count": 0,
          "categories": [
           {
            "name": "y",
            "count": 3244
           },
           {
            "name": "s",
            "count": 2556
           },
           {
            "name": "2 others",
            "count": 2324
           }
          ]
         }
        },
        {
         "name": "cap-color",
         "dtype": "object",
         "stats": {
          "unique_count": 10,
          "nan_count": 0,
          "categories": [
           {
            "name": "n",
            "count": 2284
           },
           {
            "name": "g",
            "count": 1840
           },
           {
            "name": "8 others",
            "count": 4000
           }
          ]
         }
        },
        {
         "name": "bruises",
         "dtype": "object",
         "stats": {
          "unique_count": 2,
          "nan_count": 0,
          "categories": [
           {
            "name": "f",
            "count": 4748
           },
           {
            "name": "t",
            "count": 3376
           }
          ]
         }
        },
        {
         "name": "odor",
         "dtype": "object",
         "stats": {
          "unique_count": 9,
          "nan_count": 0,
          "categories": [
           {
            "name": "n",
            "count": 3528
           },
           {
            "name": "f",
            "count": 2160
           },
           {
            "name": "7 others",
            "count": 2436
           }
          ]
         }
        },
        {
         "name": "gill-attachment",
         "dtype": "object",
         "stats": {
          "unique_count": 2,
          "nan_count": 0,
          "categories": [
           {
            "name": "f",
            "count": 7914
           },
           {
            "name": "a",
            "count": 210
           }
          ]
         }
        },
        {
         "name": "gill-spacing",
         "dtype": "object",
         "stats": {
          "unique_count": 2,
          "nan_count": 0,
          "categories": [
           {
            "name": "c",
            "count": 6812
           },
           {
            "name": "w",
            "count": 1312
           }
          ]
         }
        },
        {
         "name": "gill-size",
         "dtype": "object",
         "stats": {
          "unique_count": 2,
          "nan_count": 0,
          "categories": [
           {
            "name": "b",
            "count": 5612
           },
           {
            "name": "n",
            "count": 2512
           }
          ]
         }
        },
        {
         "name": "gill-color",
         "dtype": "object",
         "stats": {
          "unique_count": 12,
          "nan_count": 0,
          "categories": [
           {
            "name": "b",
            "count": 1728
           },
           {
            "name": "p",
            "count": 1492
           },
           {
            "name": "10 others",
            "count": 4904
           }
          ]
         }
        },
        {
         "name": "stalk-shape",
         "dtype": "object",
         "stats": {
          "unique_count": 2,
          "nan_count": 0,
          "categories": [
           {
            "name": "t",
            "count": 4608
           },
           {
            "name": "e",
            "count": 3516
           }
          ]
         }
        },
        {
         "name": "stalk-root",
         "dtype": "object",
         "stats": {
          "unique_count": 5,
          "nan_count": 0,
          "categories": [
           {
            "name": "b",
            "count": 3776
           },
           {
            "name": "?",
            "count": 2480
           },
           {
            "name": "3 others",
            "count": 1868
           }
          ]
         }
        },
        {
         "name": "stalk-surface-above-ring",
         "dtype": "object"
        },
        {
         "name": "stalk-surface-below-ring",
         "dtype": "object"
        },
        {
         "name": "stalk-color-above-ring",
         "dtype": "object"
        },
        {
         "name": "stalk-color-below-ring",
         "dtype": "object"
        },
        {
         "name": "veil-type",
         "dtype": "object"
        },
        {
         "name": "veil-color",
         "dtype": "object"
        },
        {
         "name": "ring-number",
         "dtype": "object"
        },
        {
         "name": "ring-type",
         "dtype": "object"
        },
        {
         "name": "spore-print-color",
         "dtype": "object"
        },
        {
         "name": "population",
         "dtype": "object"
        },
        {
         "name": "habitat",
         "dtype": "object"
        },
        {
         "name": "_deepnote_index_column",
         "dtype": "int64"
        }
       ],
       "rows": [
        {
         "class": "p",
         "cap-shape": "x",
         "cap-surface": "s",
         "cap-color": "n",
         "bruises": "t",
         "odor": "p",
         "gill-attachment": "f",
         "gill-spacing": "c",
         "gill-size": "n",
         "gill-color": "k",
         "stalk-shape": "e",
         "stalk-root": "e",
         "stalk-surface-above-ring": "s",
         "stalk-surface-below-ring": "s",
         "stalk-color-above-ring": "w",
         "stalk-color-below-ring": "w",
         "veil-type": "p",
         "veil-color": "w",
         "ring-number": "o",
         "ring-type": "p",
         "spore-print-color": "k",
         "population": "s",
         "habitat": "u",
         "_deepnote_index_column": 0
        },
        {
         "class": "e",
         "cap-shape": "x",
         "cap-surface": "s",
         "cap-color": "y",
         "bruises": "t",
         "odor": "a",
         "gill-attachment": "f",
         "gill-spacing": "c",
         "gill-size": "b",
         "gill-color": "k",
         "stalk-shape": "e",
         "stalk-root": "c",
         "stalk-surface-above-ring": "s",
         "stalk-surface-below-ring": "s",
         "stalk-color-above-ring": "w",
         "stalk-color-below-ring": "w",
         "veil-type": "p",
         "veil-color": "w",
         "ring-number": "o",
         "ring-type": "p",
         "spore-print-color": "n",
         "population": "n",
         "habitat": "g",
         "_deepnote_index_column": 1
        },
        {
         "class": "e",
         "cap-shape": "b",
         "cap-surface": "s",
         "cap-color": "w",
         "bruises": "t",
         "odor": "l",
         "gill-attachment": "f",
         "gill-spacing": "c",
         "gill-size": "b",
         "gill-color": "n",
         "stalk-shape": "e",
         "stalk-root": "c",
         "stalk-surface-above-ring": "s",
         "stalk-surface-below-ring": "s",
         "stalk-color-above-ring": "w",
         "stalk-color-below-ring": "w",
         "veil-type": "p",
         "veil-color": "w",
         "ring-number": "o",
         "ring-type": "p",
         "spore-print-color": "n",
         "population": "n",
         "habitat": "m",
         "_deepnote_index_column": 2
        },
        {
         "class": "p",
         "cap-shape": "x",
         "cap-surface": "y",
         "cap-color": "w",
         "bruises": "t",
         "odor": "p",
         "gill-attachment": "f",
         "gill-spacing": "c",
         "gill-size": "n",
         "gill-color": "n",
         "stalk-shape": "e",
         "stalk-root": "e",
         "stalk-surface-above-ring": "s",
         "stalk-surface-below-ring": "s",
         "stalk-color-above-ring": "w",
         "stalk-color-below-ring": "w",
         "veil-type": "p",
         "veil-color": "w",
         "ring-number": "o",
         "ring-type": "p",
         "spore-print-color": "k",
         "population": "s",
         "habitat": "u",
         "_deepnote_index_column": 3
        },
        {
         "class": "e",
         "cap-shape": "x",
         "cap-surface": "s",
         "cap-color": "g",
         "bruises": "f",
         "odor": "n",
         "gill-attachment": "f",
         "gill-spacing": "w",
         "gill-size": "b",
         "gill-color": "k",
         "stalk-shape": "t",
         "stalk-root": "e",
         "stalk-surface-above-ring": "s",
         "stalk-surface-below-ring": "s",
         "stalk-color-above-ring": "w",
         "stalk-color-below-ring": "w",
         "veil-type": "p",
         "veil-color": "w",
         "ring-number": "o",
         "ring-type": "e",
         "spore-print-color": "n",
         "population": "a",
         "habitat": "g",
         "_deepnote_index_column": 4
        },
        {
         "class": "e",
         "cap-shape": "x",
         "cap-surface": "y",
         "cap-color": "y",
         "bruises": "t",
         "odor": "a",
         "gill-attachment": "f",
         "gill-spacing": "c",
         "gill-size": "b",
         "gill-color": "n",
         "stalk-shape": "e",
         "stalk-root": "c",
         "stalk-surface-above-ring": "s",
         "stalk-surface-below-ring": "s",
         "stalk-color-above-ring": "w",
         "stalk-color-below-ring": "w",
         "veil-type": "p",
         "veil-color": "w",
         "ring-number": "o",
         "ring-type": "p",
         "spore-print-color": "k",
         "population": "n",
         "habitat": "g",
         "_deepnote_index_column": 5
        },
        {
         "class": "e",
         "cap-shape": "b",
         "cap-surface": "s",
         "cap-color": "w",
         "bruises": "t",
         "odor": "a",
         "gill-attachment": "f",
         "gill-spacing": "c",
         "gill-size": "b",
         "gill-color": "g",
         "stalk-shape": "e",
         "stalk-root": "c",
         "stalk-surface-above-ring": "s",
         "stalk-surface-below-ring": "s",
         "stalk-color-above-ring": "w",
         "stalk-color-below-ring": "w",
         "veil-type": "p",
         "veil-color": "w",
         "ring-number": "o",
         "ring-type": "p",
         "spore-print-color": "k",
         "population": "n",
         "habitat": "m",
         "_deepnote_index_column": 6
        },
        {
         "class": "e",
         "cap-shape": "b",
         "cap-surface": "y",
         "cap-color": "w",
         "bruises": "t",
         "odor": "l",
         "gill-attachment": "f",
         "gill-spacing": "c",
         "gill-size": "b",
         "gill-color": "n",
         "stalk-shape": "e",
         "stalk-root": "c",
         "stalk-surface-above-ring": "s",
         "stalk-surface-below-ring": "s",
         "stalk-color-above-ring": "w",
         "stalk-color-below-ring": "w",
         "veil-type": "p",
         "veil-color": "w",
         "ring-number": "o",
         "ring-type": "p",
         "spore-print-color": "n",
         "population": "s",
         "habitat": "m",
         "_deepnote_index_column": 7
        },
        {
         "class": "p",
         "cap-shape": "x",
         "cap-surface": "y",
         "cap-color": "w",
         "bruises": "t",
         "odor": "p",
         "gill-attachment": "f",
         "gill-spacing": "c",
         "gill-size": "n",
         "gill-color": "p",
         "stalk-shape": "e",
         "stalk-root": "e",
         "stalk-surface-above-ring": "s",
         "stalk-surface-below-ring": "s",
         "stalk-color-above-ring": "w",
         "stalk-color-below-ring": "w",
         "veil-type": "p",
         "veil-color": "w",
         "ring-number": "o",
         "ring-type": "p",
         "spore-print-color": "k",
         "population": "v",
         "habitat": "g",
         "_deepnote_index_column": 8
        },
        {
         "class": "e",
         "cap-shape": "b",
         "cap-surface": "s",
         "cap-color": "y",
         "bruises": "t",
         "odor": "a",
         "gill-attachment": "f",
         "gill-spacing": "c",
         "gill-size": "b",
         "gill-color": "g",
         "stalk-shape": "e",
         "stalk-root": "c",
         "stalk-surface-above-ring": "s",
         "stalk-surface-below-ring": "s",
         "stalk-color-above-ring": "w",
         "stalk-color-below-ring": "w",
         "veil-type": "p",
         "veil-color": "w",
         "ring-number": "o",
         "ring-type": "p",
         "spore-print-color": "k",
         "population": "s",
         "habitat": "m",
         "_deepnote_index_column": 9
        }
       ]
      },
      "text/plain": "     class cap-shape cap-surface cap-color bruises odor gill-attachment  \\\n0        p         x           s         n       t    p               f   \n1        e         x           s         y       t    a               f   \n2        e         b           s         w       t    l               f   \n3        p         x           y         w       t    p               f   \n4        e         x           s         g       f    n               f   \n...    ...       ...         ...       ...     ...  ...             ...   \n8119     e         k           s         n       f    n               a   \n8120     e         x           s         n       f    n               a   \n8121     e         f           s         n       f    n               a   \n8122     p         k           y         n       f    y               f   \n8123     e         x           s         n       f    n               a   \n\n     gill-spacing gill-size gill-color  ... stalk-surface-below-ring  \\\n0               c         n          k  ...                        s   \n1               c         b          k  ...                        s   \n2               c         b          n  ...                        s   \n3               c         n          n  ...                        s   \n4               w         b          k  ...                        s   \n...           ...       ...        ...  ...                      ...   \n8119            c         b          y  ...                        s   \n8120            c         b          y  ...                        s   \n8121            c         b          n  ...                        s   \n8122            c         n          b  ...                        k   \n8123            c         b          y  ...                        s   \n\n     stalk-color-above-ring stalk-color-below-ring veil-type veil-color  \\\n0                         w                      w         p          w   \n1                         w                      w         p          w   \n2                         w                      w         p          w   \n3                         w                      w         p          w   \n4                         w                      w         p          w   \n...                     ...                    ...       ...        ...   \n8119                      o                      o         p          o   \n8120                      o                      o         p          n   \n8121                      o                      o         p          o   \n8122                      w                      w         p          w   \n8123                      o                      o         p          o   \n\n     ring-number ring-type spore-print-color population habitat  \n0              o         p                 k          s       u  \n1              o         p                 n          n       g  \n2              o         p                 n          n       m  \n3              o         p                 k          s       u  \n4              o         e                 n          a       g  \n...          ...       ...               ...        ...     ...  \n8119           o         p                 b          c       l  \n8120           o         p                 b          v       l  \n8121           o         p                 b          c       l  \n8122           o         e                 w          v       l  \n8123           o         p                 o          c       l  \n\n[8124 rows x 23 columns]",
      "text/html": "<div>\n<style scoped>\n    .dataframe tbody tr th:only-of-type {\n        vertical-align: middle;\n    }\n\n    .dataframe tbody tr th {\n        vertical-align: top;\n    }\n\n    .dataframe thead th {\n        text-align: right;\n    }\n</style>\n<table border=\"1\" class=\"dataframe\">\n  <thead>\n    <tr style=\"text-align: right;\">\n      <th></th>\n      <th>class</th>\n      <th>cap-shape</th>\n      <th>cap-surface</th>\n      <th>cap-color</th>\n      <th>bruises</th>\n      <th>odor</th>\n      <th>gill-attachment</th>\n      <th>gill-spacing</th>\n      <th>gill-size</th>\n      <th>gill-color</th>\n      <th>...</th>\n      <th>stalk-surface-below-ring</th>\n      <th>stalk-color-above-ring</th>\n      <th>stalk-color-below-ring</th>\n      <th>veil-type</th>\n      <th>veil-color</th>\n      <th>ring-number</th>\n      <th>ring-type</th>\n      <th>spore-print-color</th>\n      <th>population</th>\n      <th>habitat</th>\n    </tr>\n  </thead>\n  <tbody>\n    <tr>\n      <th>0</th>\n      <td>p</td>\n      <td>x</td>\n      <td>s</td>\n      <td>n</td>\n      <td>t</td>\n      <td>p</td>\n      <td>f</td>\n      <td>c</td>\n      <td>n</td>\n      <td>k</td>\n      <td>...</td>\n      <td>s</td>\n      <td>w</td>\n      <td>w</td>\n      <td>p</td>\n      <td>w</td>\n      <td>o</td>\n      <td>p</td>\n      <td>k</td>\n      <td>s</td>\n      <td>u</td>\n    </tr>\n    <tr>\n      <th>1</th>\n      <td>e</td>\n      <td>x</td>\n      <td>s</td>\n      <td>y</td>\n      <td>t</td>\n      <td>a</td>\n      <td>f</td>\n      <td>c</td>\n      <td>b</td>\n      <td>k</td>\n      <td>...</td>\n      <td>s</td>\n      <td>w</td>\n      <td>w</td>\n      <td>p</td>\n      <td>w</td>\n      <td>o</td>\n      <td>p</td>\n      <td>n</td>\n      <td>n</td>\n      <td>g</td>\n    </tr>\n    <tr>\n      <th>2</th>\n      <td>e</td>\n      <td>b</td>\n      <td>s</td>\n      <td>w</td>\n      <td>t</td>\n      <td>l</td>\n      <td>f</td>\n      <td>c</td>\n      <td>b</td>\n      <td>n</td>\n      <td>...</td>\n      <td>s</td>\n      <td>w</td>\n      <td>w</td>\n      <td>p</td>\n      <td>w</td>\n      <td>o</td>\n      <td>p</td>\n      <td>n</td>\n      <td>n</td>\n      <td>m</td>\n    </tr>\n    <tr>\n      <th>3</th>\n      <td>p</td>\n      <td>x</td>\n      <td>y</td>\n      <td>w</td>\n      <td>t</td>\n      <td>p</td>\n      <td>f</td>\n      <td>c</td>\n      <td>n</td>\n      <td>n</td>\n      <td>...</td>\n      <td>s</td>\n      <td>w</td>\n      <td>w</td>\n      <td>p</td>\n      <td>w</td>\n      <td>o</td>\n      <td>p</td>\n      <td>k</td>\n      <td>s</td>\n      <td>u</td>\n    </tr>\n    <tr>\n      <th>4</th>\n      <td>e</td>\n      <td>x</td>\n      <td>s</td>\n      <td>g</td>\n      <td>f</td>\n      <td>n</td>\n      <td>f</td>\n      <td>w</td>\n      <td>b</td>\n      <td>k</td>\n      <td>...</td>\n      <td>s</td>\n      <td>w</td>\n      <td>w</td>\n      <td>p</td>\n      <td>w</td>\n      <td>o</td>\n      <td>e</td>\n      <td>n</td>\n      <td>a</td>\n      <td>g</td>\n    </tr>\n    <tr>\n      <th>...</th>\n      <td>...</td>\n      <td>...</td>\n      <td>...</td>\n      <td>...</td>\n      <td>...</td>\n      <td>...</td>\n      <td>...</td>\n      <td>...</td>\n      <td>...</td>\n      <td>...</td>\n      <td>...</td>\n      <td>...</td>\n      <td>...</td>\n      <td>...</td>\n      <td>...</td>\n      <td>...</td>\n      <td>...</td>\n      <td>...</td>\n      <td>...</td>\n      <td>...</td>\n      <td>...</td>\n    </tr>\n    <tr>\n      <th>8119</th>\n      <td>e</td>\n      <td>k</td>\n      <td>s</td>\n      <td>n</td>\n      <td>f</td>\n      <td>n</td>\n      <td>a</td>\n      <td>c</td>\n      <td>b</td>\n      <td>y</td>\n      <td>...</td>\n      <td>s</td>\n      <td>o</td>\n      <td>o</td>\n      <td>p</td>\n      <td>o</td>\n      <td>o</td>\n      <td>p</td>\n      <td>b</td>\n      <td>c</td>\n      <td>l</td>\n    </tr>\n    <tr>\n      <th>8120</th>\n      <td>e</td>\n      <td>x</td>\n      <td>s</td>\n      <td>n</td>\n      <td>f</td>\n      <td>n</td>\n      <td>a</td>\n      <td>c</td>\n      <td>b</td>\n      <td>y</td>\n      <td>...</td>\n      <td>s</td>\n      <td>o</td>\n      <td>o</td>\n      <td>p</td>\n      <td>n</td>\n      <td>o</td>\n      <td>p</td>\n      <td>b</td>\n      <td>v</td>\n      <td>l</td>\n    </tr>\n    <tr>\n      <th>8121</th>\n      <td>e</td>\n      <td>f</td>\n      <td>s</td>\n      <td>n</td>\n      <td>f</td>\n      <td>n</td>\n      <td>a</td>\n      <td>c</td>\n      <td>b</td>\n      <td>n</td>\n      <td>...</td>\n      <td>s</td>\n      <td>o</td>\n      <td>o</td>\n      <td>p</td>\n      <td>o</td>\n      <td>o</td>\n      <td>p</td>\n      <td>b</td>\n      <td>c</td>\n      <td>l</td>\n    </tr>\n    <tr>\n      <th>8122</th>\n      <td>p</td>\n      <td>k</td>\n      <td>y</td>\n      <td>n</td>\n      <td>f</td>\n      <td>y</td>\n      <td>f</td>\n      <td>c</td>\n      <td>n</td>\n      <td>b</td>\n      <td>...</td>\n      <td>k</td>\n      <td>w</td>\n      <td>w</td>\n      <td>p</td>\n      <td>w</td>\n      <td>o</td>\n      <td>e</td>\n      <td>w</td>\n      <td>v</td>\n      <td>l</td>\n    </tr>\n    <tr>\n      <th>8123</th>\n      <td>e</td>\n      <td>x</td>\n      <td>s</td>\n      <td>n</td>\n      <td>f</td>\n      <td>n</td>\n      <td>a</td>\n      <td>c</td>\n      <td>b</td>\n      <td>y</td>\n      <td>...</td>\n      <td>s</td>\n      <td>o</td>\n      <td>o</td>\n      <td>p</td>\n      <td>o</td>\n      <td>o</td>\n      <td>p</td>\n      <td>o</td>\n      <td>c</td>\n      <td>l</td>\n    </tr>\n  </tbody>\n</table>\n<p>8124 rows × 23 columns</p>\n</div>"
     },
     "metadata": {}
    }
   ]
  },
  {
   "cell_type": "markdown",
   "source": "# ___EXPLORATION___",
   "metadata": {
    "cell_id": "caac88aac3f748b9b88a1f1628ce6627",
    "tags": [],
    "deepnote_cell_type": "markdown",
    "deepnote_cell_height": 82
   }
  },
  {
   "cell_type": "code",
   "metadata": {
    "cell_id": "d167fd53c33a41608de40a6506d9bdd2",
    "tags": [],
    "deepnote_to_be_reexecuted": false,
    "source_hash": "f3dd26da",
    "execution_start": 1649015270450,
    "execution_millis": 10,
    "deepnote_cell_type": "code",
    "deepnote_cell_height": 555,
    "deepnote_output_heights": [
     458
    ]
   },
   "source": "df.isnull().sum()",
   "execution_count": 3,
   "outputs": [
    {
     "output_type": "execute_result",
     "execution_count": 3,
     "data": {
      "text/plain": "class                       0\ncap-shape                   0\ncap-surface                 0\ncap-color                   0\nbruises                     0\nodor                        0\ngill-attachment             0\ngill-spacing                0\ngill-size                   0\ngill-color                  0\nstalk-shape                 0\nstalk-root                  0\nstalk-surface-above-ring    0\nstalk-surface-below-ring    0\nstalk-color-above-ring      0\nstalk-color-below-ring      0\nveil-type                   0\nveil-color                  0\nring-number                 0\nring-type                   0\nspore-print-color           0\npopulation                  0\nhabitat                     0\ndtype: int64"
     },
     "metadata": {}
    }
   ]
  },
  {
   "cell_type": "code",
   "metadata": {
    "cell_id": "520e296e009a4f13a2a9ecd82527fbf5",
    "tags": [],
    "deepnote_to_be_reexecuted": false,
    "source_hash": "f88152d9",
    "execution_start": 1649015270468,
    "execution_millis": 283,
    "deepnote_cell_type": "code",
    "deepnote_cell_height": 352
   },
   "source": "df.describe()",
   "execution_count": 4,
   "outputs": [
    {
     "output_type": "execute_result",
     "execution_count": 4,
     "data": {
      "application/vnd.deepnote.dataframe.v3+json": {
       "column_count": 23,
       "row_count": 4,
       "columns": [
        {
         "name": "class",
         "dtype": "object",
         "stats": {
          "unique_count": 4,
          "nan_count": 0,
          "categories": [
           {
            "name": "8124",
            "count": 1
           },
           {
            "name": "2",
            "count": 1
           },
           {
            "name": "2 others",
            "count": 2
           }
          ]
         }
        },
        {
         "name": "cap-shape",
         "dtype": "object",
         "stats": {
          "unique_count": 4,
          "nan_count": 0,
          "categories": [
           {
            "name": "8124",
            "count": 1
           },
           {
            "name": "6",
            "count": 1
           },
           {
            "name": "2 others",
            "count": 2
           }
          ]
         }
        },
        {
         "name": "cap-surface",
         "dtype": "object",
         "stats": {
          "unique_count": 4,
          "nan_count": 0,
          "categories": [
           {
            "name": "8124",
            "count": 1
           },
           {
            "name": "4",
            "count": 1
           },
           {
            "name": "2 others",
            "count": 2
           }
          ]
         }
        },
        {
         "name": "cap-color",
         "dtype": "object",
         "stats": {
          "unique_count": 4,
          "nan_count": 0,
          "categories": [
           {
            "name": "8124",
            "count": 1
           },
           {
            "name": "10",
            "count": 1
           },
           {
            "name": "2 others",
            "count": 2
           }
          ]
         }
        },
        {
         "name": "bruises",
         "dtype": "object",
         "stats": {
          "unique_count": 4,
          "nan_count": 0,
          "categories": [
           {
            "name": "8124",
            "count": 1
           },
           {
            "name": "2",
            "count": 1
           },
           {
            "name": "2 others",
            "count": 2
           }
          ]
         }
        },
        {
         "name": "odor",
         "dtype": "object",
         "stats": {
          "unique_count": 4,
          "nan_count": 0,
          "categories": [
           {
            "name": "8124",
            "count": 1
           },
           {
            "name": "9",
            "count": 1
           },
           {
            "name": "2 others",
            "count": 2
           }
          ]
         }
        },
        {
         "name": "gill-attachment",
         "dtype": "object",
         "stats": {
          "unique_count": 4,
          "nan_count": 0,
          "categories": [
           {
            "name": "8124",
            "count": 1
           },
           {
            "name": "2",
            "count": 1
           },
           {
            "name": "2 others",
            "count": 2
           }
          ]
         }
        },
        {
         "name": "gill-spacing",
         "dtype": "object",
         "stats": {
          "unique_count": 4,
          "nan_count": 0,
          "categories": [
           {
            "name": "8124",
            "count": 1
           },
           {
            "name": "2",
            "count": 1
           },
           {
            "name": "2 others",
            "count": 2
           }
          ]
         }
        },
        {
         "name": "gill-size",
         "dtype": "object",
         "stats": {
          "unique_count": 4,
          "nan_count": 0,
          "categories": [
           {
            "name": "8124",
            "count": 1
           },
           {
            "name": "2",
            "count": 1
           },
           {
            "name": "2 others",
            "count": 2
           }
          ]
         }
        },
        {
         "name": "gill-color",
         "dtype": "object",
         "stats": {
          "unique_count": 4,
          "nan_count": 0,
          "categories": [
           {
            "name": "8124",
            "count": 1
           },
           {
            "name": "12",
            "count": 1
           },
           {
            "name": "2 others",
            "count": 2
           }
          ]
         }
        },
        {
         "name": "stalk-shape",
         "dtype": "object",
         "stats": {
          "unique_count": 4,
          "nan_count": 0,
          "categories": [
           {
            "name": "8124",
            "count": 1
           },
           {
            "name": "2",
            "count": 1
           },
           {
            "name": "2 others",
            "count": 2
           }
          ]
         }
        },
        {
         "name": "stalk-root",
         "dtype": "object",
         "stats": {
          "unique_count": 4,
          "nan_count": 0,
          "categories": [
           {
            "name": "8124",
            "count": 1
           },
           {
            "name": "5",
            "count": 1
           },
           {
            "name": "2 others",
            "count": 2
           }
          ]
         }
        },
        {
         "name": "stalk-surface-above-ring",
         "dtype": "object",
         "stats": {
          "unique_count": 4,
          "nan_count": 0,
          "categories": [
           {
            "name": "8124",
            "count": 1
           },
           {
            "name": "4",
            "count": 1
           },
           {
            "name": "2 others",
            "count": 2
           }
          ]
         }
        },
        {
         "name": "stalk-surface-below-ring",
         "dtype": "object",
         "stats": {
          "unique_count": 4,
          "nan_count": 0,
          "categories": [
           {
            "name": "8124",
            "count": 1
           },
           {
            "name": "4",
            "count": 1
           },
           {
            "name": "2 others",
            "count": 2
           }
          ]
         }
        },
        {
         "name": "stalk-color-above-ring",
         "dtype": "object",
         "stats": {
          "unique_count": 4,
          "nan_count": 0,
          "categories": [
           {
            "name": "8124",
            "count": 1
           },
           {
            "name": "9",
            "count": 1
           },
           {
            "name": "2 others",
            "count": 2
           }
          ]
         }
        },
        {
         "name": "stalk-color-below-ring",
         "dtype": "object",
         "stats": {
          "unique_count": 4,
          "nan_count": 0,
          "categories": [
           {
            "name": "8124",
            "count": 1
           },
           {
            "name": "9",
            "count": 1
           },
           {
            "name": "2 others",
            "count": 2
           }
          ]
         }
        },
        {
         "name": "veil-type",
         "dtype": "object",
         "stats": {
          "unique_count": 3,
          "nan_count": 0,
          "categories": [
           {
            "name": "8124",
            "count": 2
           },
           {
            "name": "1",
            "count": 1
           },
           {
            "name": "p",
            "count": 1
           }
          ]
         }
        },
        {
         "name": "veil-color",
         "dtype": "object",
         "stats": {
          "unique_count": 4,
          "nan_count": 0,
          "categories": [
           {
            "name": "8124",
            "count": 1
           },
           {
            "name": "4",
            "count": 1
           },
           {
            "name": "2 others",
            "count": 2
           }
          ]
         }
        },
        {
         "name": "ring-number",
         "dtype": "object",
         "stats": {
          "unique_count": 4,
          "nan_count": 0,
          "categories": [
           {
            "name": "8124",
            "count": 1
           },
           {
            "name": "3",
            "count": 1
           },
           {
            "name": "2 others",
            "count": 2
           }
          ]
         }
        },
        {
         "name": "ring-type",
         "dtype": "object",
         "stats": {
          "unique_count": 4,
          "nan_count": 0,
          "categories": [
           {
            "name": "8124",
            "count": 1
           },
           {
            "name": "5",
            "count": 1
           },
           {
            "name": "2 others",
            "count": 2
           }
          ]
         }
        },
        {
         "name": "spore-print-color",
         "dtype": "object",
         "stats": {
          "unique_count": 4,
          "nan_count": 0,
          "categories": [
           {
            "name": "8124",
            "count": 1
           },
           {
            "name": "9",
            "count": 1
           },
           {
            "name": "2 others",
            "count": 2
           }
          ]
         }
        },
        {
         "name": "population",
         "dtype": "object",
         "stats": {
          "unique_count": 4,
          "nan_count": 0,
          "categories": [
           {
            "name": "8124",
            "count": 1
           },
           {
            "name": "6",
            "count": 1
           },
           {
            "name": "2 others",
            "count": 2
           }
          ]
         }
        },
        {
         "name": "habitat",
         "dtype": "object",
         "stats": {
          "unique_count": 4,
          "nan_count": 0,
          "categories": [
           {
            "name": "8124",
            "count": 1
           },
           {
            "name": "7",
            "count": 1
           },
           {
            "name": "2 others",
            "count": 2
           }
          ]
         }
        },
        {
         "name": "_deepnote_index_column",
         "dtype": "object"
        }
       ],
       "rows": [
        {
         "class": "8124",
         "cap-shape": "8124",
         "cap-surface": "8124",
         "cap-color": "8124",
         "bruises": "8124",
         "odor": "8124",
         "gill-attachment": "8124",
         "gill-spacing": "8124",
         "gill-size": "8124",
         "gill-color": "8124",
         "stalk-shape": "8124",
         "stalk-root": "8124",
         "stalk-surface-above-ring": "8124",
         "stalk-surface-below-ring": "8124",
         "stalk-color-above-ring": "8124",
         "stalk-color-below-ring": "8124",
         "veil-type": "8124",
         "veil-color": "8124",
         "ring-number": "8124",
         "ring-type": "8124",
         "spore-print-color": "8124",
         "population": "8124",
         "habitat": "8124",
         "_deepnote_index_column": "count"
        },
        {
         "class": "2",
         "cap-shape": "6",
         "cap-surface": "4",
         "cap-color": "10",
         "bruises": "2",
         "odor": "9",
         "gill-attachment": "2",
         "gill-spacing": "2",
         "gill-size": "2",
         "gill-color": "12",
         "stalk-shape": "2",
         "stalk-root": "5",
         "stalk-surface-above-ring": "4",
         "stalk-surface-below-ring": "4",
         "stalk-color-above-ring": "9",
         "stalk-color-below-ring": "9",
         "veil-type": "1",
         "veil-color": "4",
         "ring-number": "3",
         "ring-type": "5",
         "spore-print-color": "9",
         "population": "6",
         "habitat": "7",
         "_deepnote_index_column": "unique"
        },
        {
         "class": "e",
         "cap-shape": "x",
         "cap-surface": "y",
         "cap-color": "n",
         "bruises": "f",
         "odor": "n",
         "gill-attachment": "f",
         "gill-spacing": "c",
         "gill-size": "b",
         "gill-color": "b",
         "stalk-shape": "t",
         "stalk-root": "b",
         "stalk-surface-above-ring": "s",
         "stalk-surface-below-ring": "s",
         "stalk-color-above-ring": "w",
         "stalk-color-below-ring": "w",
         "veil-type": "p",
         "veil-color": "w",
         "ring-number": "o",
         "ring-type": "p",
         "spore-print-color": "w",
         "population": "v",
         "habitat": "d",
         "_deepnote_index_column": "top"
        },
        {
         "class": "4208",
         "cap-shape": "3656",
         "cap-surface": "3244",
         "cap-color": "2284",
         "bruises": "4748",
         "odor": "3528",
         "gill-attachment": "7914",
         "gill-spacing": "6812",
         "gill-size": "5612",
         "gill-color": "1728",
         "stalk-shape": "4608",
         "stalk-root": "3776",
         "stalk-surface-above-ring": "5176",
         "stalk-surface-below-ring": "4936",
         "stalk-color-above-ring": "4464",
         "stalk-color-below-ring": "4384",
         "veil-type": "8124",
         "veil-color": "7924",
         "ring-number": "7488",
         "ring-type": "3968",
         "spore-print-color": "2388",
         "population": "4040",
         "habitat": "3148",
         "_deepnote_index_column": "freq"
        }
       ]
      },
      "text/plain": "       class cap-shape cap-surface cap-color bruises  odor gill-attachment  \\\ncount   8124      8124        8124      8124    8124  8124            8124   \nunique     2         6           4        10       2     9               2   \ntop        e         x           y         n       f     n               f   \nfreq    4208      3656        3244      2284    4748  3528            7914   \n\n       gill-spacing gill-size gill-color  ... stalk-surface-below-ring  \\\ncount          8124      8124       8124  ...                     8124   \nunique            2         2         12  ...                        4   \ntop               c         b          b  ...                        s   \nfreq           6812      5612       1728  ...                     4936   \n\n       stalk-color-above-ring stalk-color-below-ring veil-type veil-color  \\\ncount                    8124                   8124      8124       8124   \nunique                      9                      9         1          4   \ntop                         w                      w         p          w   \nfreq                     4464                   4384      8124       7924   \n\n       ring-number ring-type spore-print-color population habitat  \ncount         8124      8124              8124       8124    8124  \nunique           3         5                 9          6       7  \ntop              o         p                 w          v       d  \nfreq          7488      3968              2388       4040    3148  \n\n[4 rows x 23 columns]",
      "text/html": "<div>\n<style scoped>\n    .dataframe tbody tr th:only-of-type {\n        vertical-align: middle;\n    }\n\n    .dataframe tbody tr th {\n        vertical-align: top;\n    }\n\n    .dataframe thead th {\n        text-align: right;\n    }\n</style>\n<table border=\"1\" class=\"dataframe\">\n  <thead>\n    <tr style=\"text-align: right;\">\n      <th></th>\n      <th>class</th>\n      <th>cap-shape</th>\n      <th>cap-surface</th>\n      <th>cap-color</th>\n      <th>bruises</th>\n      <th>odor</th>\n      <th>gill-attachment</th>\n      <th>gill-spacing</th>\n      <th>gill-size</th>\n      <th>gill-color</th>\n      <th>...</th>\n      <th>stalk-surface-below-ring</th>\n      <th>stalk-color-above-ring</th>\n      <th>stalk-color-below-ring</th>\n      <th>veil-type</th>\n      <th>veil-color</th>\n      <th>ring-number</th>\n      <th>ring-type</th>\n      <th>spore-print-color</th>\n      <th>population</th>\n      <th>habitat</th>\n    </tr>\n  </thead>\n  <tbody>\n    <tr>\n      <th>count</th>\n      <td>8124</td>\n      <td>8124</td>\n      <td>8124</td>\n      <td>8124</td>\n      <td>8124</td>\n      <td>8124</td>\n      <td>8124</td>\n      <td>8124</td>\n      <td>8124</td>\n      <td>8124</td>\n      <td>...</td>\n      <td>8124</td>\n      <td>8124</td>\n      <td>8124</td>\n      <td>8124</td>\n      <td>8124</td>\n      <td>8124</td>\n      <td>8124</td>\n      <td>8124</td>\n      <td>8124</td>\n      <td>8124</td>\n    </tr>\n    <tr>\n      <th>unique</th>\n      <td>2</td>\n      <td>6</td>\n      <td>4</td>\n      <td>10</td>\n      <td>2</td>\n      <td>9</td>\n      <td>2</td>\n      <td>2</td>\n      <td>2</td>\n      <td>12</td>\n      <td>...</td>\n      <td>4</td>\n      <td>9</td>\n      <td>9</td>\n      <td>1</td>\n      <td>4</td>\n      <td>3</td>\n      <td>5</td>\n      <td>9</td>\n      <td>6</td>\n      <td>7</td>\n    </tr>\n    <tr>\n      <th>top</th>\n      <td>e</td>\n      <td>x</td>\n      <td>y</td>\n      <td>n</td>\n      <td>f</td>\n      <td>n</td>\n      <td>f</td>\n      <td>c</td>\n      <td>b</td>\n      <td>b</td>\n      <td>...</td>\n      <td>s</td>\n      <td>w</td>\n      <td>w</td>\n      <td>p</td>\n      <td>w</td>\n      <td>o</td>\n      <td>p</td>\n      <td>w</td>\n      <td>v</td>\n      <td>d</td>\n    </tr>\n    <tr>\n      <th>freq</th>\n      <td>4208</td>\n      <td>3656</td>\n      <td>3244</td>\n      <td>2284</td>\n      <td>4748</td>\n      <td>3528</td>\n      <td>7914</td>\n      <td>6812</td>\n      <td>5612</td>\n      <td>1728</td>\n      <td>...</td>\n      <td>4936</td>\n      <td>4464</td>\n      <td>4384</td>\n      <td>8124</td>\n      <td>7924</td>\n      <td>7488</td>\n      <td>3968</td>\n      <td>2388</td>\n      <td>4040</td>\n      <td>3148</td>\n    </tr>\n  </tbody>\n</table>\n<p>4 rows × 23 columns</p>\n</div>"
     },
     "metadata": {}
    }
   ]
  },
  {
   "cell_type": "code",
   "metadata": {
    "cell_id": "5532997145444a81a4c286b56950b694",
    "tags": [],
    "deepnote_to_be_reexecuted": false,
    "source_hash": "de1e323c",
    "execution_start": 1649015270755,
    "execution_millis": 53,
    "deepnote_cell_type": "code",
    "deepnote_cell_height": 692
   },
   "source": "df.info()",
   "execution_count": 5,
   "outputs": [
    {
     "name": "stdout",
     "text": "<class 'pandas.core.frame.DataFrame'>\nRangeIndex: 8124 entries, 0 to 8123\nData columns (total 23 columns):\n #   Column                    Non-Null Count  Dtype \n---  ------                    --------------  ----- \n 0   class                     8124 non-null   object\n 1   cap-shape                 8124 non-null   object\n 2   cap-surface               8124 non-null   object\n 3   cap-color                 8124 non-null   object\n 4   bruises                   8124 non-null   object\n 5   odor                      8124 non-null   object\n 6   gill-attachment           8124 non-null   object\n 7   gill-spacing              8124 non-null   object\n 8   gill-size                 8124 non-null   object\n 9   gill-color                8124 non-null   object\n 10  stalk-shape               8124 non-null   object\n 11  stalk-root                8124 non-null   object\n 12  stalk-surface-above-ring  8124 non-null   object\n 13  stalk-surface-below-ring  8124 non-null   object\n 14  stalk-color-above-ring    8124 non-null   object\n 15  stalk-color-below-ring    8124 non-null   object\n 16  veil-type                 8124 non-null   object\n 17  veil-color                8124 non-null   object\n 18  ring-number               8124 non-null   object\n 19  ring-type                 8124 non-null   object\n 20  spore-print-color         8124 non-null   object\n 21  population                8124 non-null   object\n 22  habitat                   8124 non-null   object\ndtypes: object(23)\nmemory usage: 1.4+ MB\n",
     "output_type": "stream"
    }
   ]
  },
  {
   "cell_type": "code",
   "metadata": {
    "cell_id": "cd4e878c66334855972a153f3dbc1c2d",
    "tags": [],
    "deepnote_to_be_reexecuted": false,
    "source_hash": "1248f4e5",
    "execution_start": 1649015270806,
    "execution_millis": 5189,
    "deepnote_cell_type": "code",
    "deepnote_cell_height": 633.03125,
    "deepnote_output_heights": [
     410.03125
    ]
   },
   "source": "X = df[df.columns[:]].values\n\nfig = plt.figure(figsize=(30, 14))\n\nfor i in range(X.shape[1]):\n    ax = fig.add_subplot(3,8, (i+1))\n    h = ax.hist(X[:, i], bins=25, density=True, edgecolor='none')\n    ax.set_title(df.columns[i], fontsize=14)",
   "execution_count": 6,
   "outputs": [
    {
     "data": {
      "text/plain": "<Figure size 2160x1008 with 23 Axes>",
      "image/png": "[encoded data removed]"
     },
     "metadata": {
      "needs_background": "light",
      "image/png": {
       "width": 1717,
       "height": 809
      }
     },
     "output_type": "display_data"
    }
   ]
  },
  {
   "cell_type": "markdown",
   "source": "### ___Encoding___",
   "metadata": {
    "cell_id": "d24e084c039346e8be0fbad39b6483fc",
    "tags": [],
    "deepnote_cell_type": "markdown",
    "deepnote_cell_height": 62
   }
  },
  {
   "cell_type": "code",
   "metadata": {
    "cell_id": "b7ee8c016bfa45c08a21e33850787418",
    "tags": [],
    "deepnote_to_be_reexecuted": false,
    "source_hash": "644c6086",
    "execution_start": 1649015276014,
    "execution_millis": 64,
    "deepnote_cell_type": "code",
    "deepnote_cell_height": 135
   },
   "source": "#encoding every columns\nle = LabelEncoder()\nfor col in df.columns:\n    df[col] = LabelEncoder().fit_transform(df[col])",
   "execution_count": 7,
   "outputs": []
  },
  {
   "cell_type": "code",
   "metadata": {
    "cell_id": "a87050a1083f497da2f3d41d2688a737",
    "tags": [],
    "deepnote_to_be_reexecuted": false,
    "source_hash": "f88152d9",
    "execution_start": 1649015276085,
    "execution_millis": 189,
    "deepnote_cell_type": "code",
    "deepnote_cell_height": 516
   },
   "source": "df.describe()",
   "execution_count": 8,
   "outputs": [
    {
     "output_type": "execute_result",
     "execution_count": 8,
     "data": {
      "application/vnd.deepnote.dataframe.v3+json": {
       "column_count": 23,
       "row_count": 8,
       "columns": [
        {
         "name": "class",
         "dtype": "float64",
         "stats": {
          "unique_count": 5,
          "nan_count": 0,
          "min": "0.0",
          "max": "8124.0",
          "histogram": [
           {
            "bin_start": 0,
            "bin_end": 812.4,
            "count": 7
           },
           {
            "bin_start": 812.4,
            "bin_end": 1624.8,
            "count": 0
           },
           {
            "bin_start": 1624.8,
            "bin_end": 2437.2,
            "count": 0
           },
           {
            "bin_start": 2437.2,
            "bin_end": 3249.6,
            "count": 0
           },
           {
            "bin_start": 3249.6,
            "bin_end": 4062,
            "count": 0
           },
           {
            "bin_start": 4062,
            "bin_end": 4874.4,
            "count": 0
           },
           {
            "bin_start": 4874.4,
            "bin_end": 5686.8,
            "count": 0
           },
           {
            "bin_start": 5686.8,
            "bin_end": 6499.2,
            "count": 0
           },
           {
            "bin_start": 6499.2,
            "bin_end": 7311.599999999999,
            "count": 0
           },
           {
            "bin_start": 7311.599999999999,
            "bin_end": 8124,
            "count": 1
           }
          ]
         }
        },
        {
         "name": "cap-shape",
         "dtype": "float64",
         "stats": {
          "unique_count": 7,
          "nan_count": 0,
          "min": "0.0",
          "max": "8124.0",
          "histogram": [
           {
            "bin_start": 0,
            "bin_end": 812.4,
            "count": 7
           },
           {
            "bin_start": 812.4,
            "bin_end": 1624.8,
            "count": 0
           },
           {
            "bin_start": 1624.8,
            "bin_end": 2437.2,
            "count": 0
           },
           {
            "bin_start": 2437.2,
            "bin_end": 3249.6,
            "count": 0
           },
           {
            "bin_start": 3249.6,
            "bin_end": 4062,
            "count": 0
           },
           {
            "bin_start": 4062,
            "bin_end": 4874.4,
            "count": 0
           },
           {
            "bin_start": 4874.4,
            "bin_end": 5686.8,
            "count": 0
           },
           {
            "bin_start": 5686.8,
            "bin_end": 6499.2,
            "count": 0
           },
           {
            "bin_start": 6499.2,
            "bin_end": 7311.599999999999,
            "count": 0
           },
           {
            "bin_start": 7311.599999999999,
            "bin_end": 8124,
            "count": 1
           }
          ]
         }
        },
        {
         "name": "cap-surface",
         "dtype": "float64",
         "stats": {
          "unique_count": 6,
          "nan_count": 0,
          "min": "0.0",
          "max": "8124.0",
          "histogram": [
           {
            "bin_start": 0,
            "bin_end": 812.4,
            "count": 7
           },
           {
            "bin_start": 812.4,
            "bin_end": 1624.8,
            "count": 0
           },
           {
            "bin_start": 1624.8,
            "bin_end": 2437.2,
            "count": 0
           },
           {
            "bin_start": 2437.2,
            "bin_end": 3249.6,
            "count": 0
           },
           {
            "bin_start": 3249.6,
            "bin_end": 4062,
            "count": 0
           },
           {
            "bin_start": 4062,
            "bin_end": 4874.4,
            "count": 0
           },
           {
            "bin_start": 4874.4,
            "bin_end": 5686.8,
            "count": 0
           },
           {
            "bin_start": 5686.8,
            "bin_end": 6499.2,
            "count": 0
           },
           {
            "bin_start": 6499.2,
            "bin_end": 7311.599999999999,
            "count": 0
           },
           {
            "bin_start": 7311.599999999999,
            "bin_end": 8124,
            "count": 1
           }
          ]
         }
        },
        {
         "name": "cap-color",
         "dtype": "float64",
         "stats": {
          "unique_count": 8,
          "nan_count": 0,
          "min": "0.0",
          "max": "8124.0",
          "histogram": [
           {
            "bin_start": 0,
            "bin_end": 812.4,
            "count": 7
           },
           {
            "bin_start": 812.4,
            "bin_end": 1624.8,
            "count": 0
           },
           {
            "bin_start": 1624.8,
            "bin_end": 2437.2,
            "count": 0
           },
           {
            "bin_start": 2437.2,
            "bin_end": 3249.6,
            "count": 0
           },
           {
            "bin_start": 3249.6,
            "bin_end": 4062,
            "count": 0
           },
           {
            "bin_start": 4062,
            "bin_end": 4874.4,
            "count": 0
           },
           {
            "bin_start": 4874.4,
            "bin_end": 5686.8,
            "count": 0
           },
           {
            "bin_start": 5686.8,
            "bin_end": 6499.2,
            "count": 0
           },
           {
            "bin_start": 6499.2,
            "bin_end": 7311.599999999999,
            "count": 0
           },
           {
            "bin_start": 7311.599999999999,
            "bin_end": 8124,
            "count": 1
           }
          ]
         }
        },
        {
         "name": "bruises",
         "dtype": "float64",
         "stats": {
          "unique_count": 5,
          "nan_count": 0,
          "min": "0.0",
          "max": "8124.0",
          "histogram": [
           {
            "bin_start": 0,
            "bin_end": 812.4,
            "count": 7
           },
           {
            "bin_start": 812.4,
            "bin_end": 1624.8,
            "count": 0
           },
           {
            "bin_start": 1624.8,
            "bin_end": 2437.2,
            "count": 0
           },
           {
            "bin_start": 2437.2,
            "bin_end": 3249.6,
            "count": 0
           },
           {
            "bin_start": 3249.6,
            "bin_end": 4062,
            "count": 0
           },
           {
            "bin_start": 4062,
            "bin_end": 4874.4,
            "count": 0
           },
           {
            "bin_start": 4874.4,
            "bin_end": 5686.8,
            "count": 0
           },
           {
            "bin_start": 5686.8,
            "bin_end": 6499.2,
            "count": 0
           },
           {
            "bin_start": 6499.2,
            "bin_end": 7311.599999999999,
            "count": 0
           },
           {
            "bin_start": 7311.599999999999,
            "bin_end": 8124,
            "count": 1
           }
          ]
         }
        },
        {
         "name": "odor",
         "dtype": "float64",
         "stats": {
          "unique_count": 7,
          "nan_count": 0,
          "min": "0.0",
          "max": "8124.0",
          "histogram": [
           {
            "bin_start": 0,
            "bin_end": 812.4,
            "count": 7
           },
           {
            "bin_start": 812.4,
            "bin_end": 1624.8,
            "count": 0
           },
           {
            "bin_start": 1624.8,
            "bin_end": 2437.2,
            "count": 0
           },
           {
            "bin_start": 2437.2,
            "bin_end": 3249.6,
            "count": 0
           },
           {
            "bin_start": 3249.6,
            "bin_end": 4062,
            "count": 0
           },
           {
            "bin_start": 4062,
            "bin_end": 4874.4,
            "count": 0
           },
           {
            "bin_start": 4874.4,
            "bin_end": 5686.8,
            "count": 0
           },
           {
            "bin_start": 5686.8,
            "bin_end": 6499.2,
            "count": 0
           },
           {
            "bin_start": 6499.2,
            "bin_end": 7311.599999999999,
            "count": 0
           },
           {
            "bin_start": 7311.599999999999,
            "bin_end": 8124,
            "count": 1
           }
          ]
         }
        },
        {
         "name": "gill-attachment",
         "dtype": "float64",
         "stats": {
          "unique_count": 5,
          "nan_count": 0,
          "min": "0.0",
          "max": "8124.0",
          "histogram": [
           {
            "bin_start": 0,
            "bin_end": 812.4,
            "count": 7
           },
           {
            "bin_start": 812.4,
            "bin_end": 1624.8,
            "count": 0
           },
           {
            "bin_start": 1624.8,
            "bin_end": 2437.2,
            "count": 0
           },
           {
            "bin_start": 2437.2,
            "bin_end": 3249.6,
            "count": 0
           },
           {
            "bin_start": 3249.6,
            "bin_end": 4062,
            "count": 0
           },
           {
            "bin_start": 4062,
            "bin_end": 4874.4,
            "count": 0
           },
           {
            "bin_start": 4874.4,
            "bin_end": 5686.8,
            "count": 0
           },
           {
            "bin_start": 5686.8,
            "bin_end": 6499.2,
            "count": 0
           },
           {
            "bin_start": 6499.2,
            "bin_end": 7311.599999999999,
            "count": 0
           },
           {
            "bin_start": 7311.599999999999,
            "bin_end": 8124,
            "count": 1
           }
          ]
         }
        },
        {
         "name": "gill-spacing",
         "dtype": "float64",
         "stats": {
          "unique_count": 5,
          "nan_count": 0,
          "min": "0.0",
          "max": "8124.0",
          "histogram": [
           {
            "bin_start": 0,
            "bin_end": 812.4,
            "count": 7
           },
           {
            "bin_start": 812.4,
            "bin_end": 1624.8,
            "count": 0
           },
           {
            "bin_start": 1624.8,
            "bin_end": 2437.2,
            "count": 0
           },
           {
            "bin_start": 2437.2,
            "bin_end": 3249.6,
            "count": 0
           },
           {
            "bin_start": 3249.6,
            "bin_end": 4062,
            "count": 0
           },
           {
            "bin_start": 4062,
            "bin_end": 4874.4,
            "count": 0
           },
           {
            "bin_start": 4874.4,
            "bin_end": 5686.8,
            "count": 0
           },
           {
            "bin_start": 5686.8,
            "bin_end": 6499.2,
            "count": 0
           },
           {
            "bin_start": 6499.2,
            "bin_end": 7311.599999999999,
            "count": 0
           },
           {
            "bin_start": 7311.599999999999,
            "bin_end": 8124,
            "count": 1
           }
          ]
         }
        },
        {
         "name": "gill-size",
         "dtype": "float64",
         "stats": {
          "unique_count": 5,
          "nan_count": 0,
          "min": "0.0",
          "max": "8124.0",
          "histogram": [
           {
            "bin_start": 0,
            "bin_end": 812.4,
            "count": 7
           },
           {
            "bin_start": 812.4,
            "bin_end": 1624.8,
            "count": 0
           },
           {
            "bin_start": 1624.8,
            "bin_end": 2437.2,
            "count": 0
           },
           {
            "bin_start": 2437.2,
            "bin_end": 3249.6,
            "count": 0
           },
           {
            "bin_start": 3249.6,
            "bin_end": 4062,
            "count": 0
           },
           {
            "bin_start": 4062,
            "bin_end": 4874.4,
            "count": 0
           },
           {
            "bin_start": 4874.4,
            "bin_end": 5686.8,
            "count": 0
           },
           {
            "bin_start": 5686.8,
            "bin_end": 6499.2,
            "count": 0
           },
           {
            "bin_start": 6499.2,
            "bin_end": 7311.599999999999,
            "count": 0
           },
           {
            "bin_start": 7311.599999999999,
            "bin_end": 8124,
            "count": 1
           }
          ]
         }
        },
        {
         "name": "gill-color",
         "dtype": "float64",
         "stats": {
          "unique_count": 8,
          "nan_count": 0,
          "min": "0.0",
          "max": "8124.0",
          "histogram": [
           {
            "bin_start": 0,
            "bin_end": 812.4,
            "count": 7
           },
           {
            "bin_start": 812.4,
            "bin_end": 1624.8,
            "count": 0
           },
           {
            "bin_start": 1624.8,
            "bin_end": 2437.2,
            "count": 0
           },
           {
            "bin_start": 2437.2,
            "bin_end": 3249.6,
            "count": 0
           },
           {
            "bin_start": 3249.6,
            "bin_end": 4062,
            "count": 0
           },
           {
            "bin_start": 4062,
            "bin_end": 4874.4,
            "count": 0
           },
           {
            "bin_start": 4874.4,
            "bin_end": 5686.8,
            "count": 0
           },
           {
            "bin_start": 5686.8,
            "bin_end": 6499.2,
            "count": 0
           },
           {
            "bin_start": 6499.2,
            "bin_end": 7311.599999999999,
            "count": 0
           },
           {
            "bin_start": 7311.599999999999,
            "bin_end": 8124,
            "count": 1
           }
          ]
         }
        },
        {
         "name": "stalk-shape",
         "dtype": "float64",
         "stats": {
          "unique_count": 5,
          "nan_count": 0,
          "min": "0.0",
          "max": "8124.0",
          "histogram": [
           {
            "bin_start": 0,
            "bin_end": 812.4,
            "count": 7
           },
           {
            "bin_start": 812.4,
            "bin_end": 1624.8,
            "count": 0
           },
           {
            "bin_start": 1624.8,
            "bin_end": 2437.2,
            "count": 0
           },
           {
            "bin_start": 2437.2,
            "bin_end": 3249.6,
            "count": 0
           },
           {
            "bin_start": 3249.6,
            "bin_end": 4062,
            "count": 0
           },
           {
            "bin_start": 4062,
            "bin_end": 4874.4,
            "count": 0
           },
           {
            "bin_start": 4874.4,
            "bin_end": 5686.8,
            "count": 0
           },
           {
            "bin_start": 5686.8,
            "bin_end": 6499.2,
            "count": 0
           },
           {
            "bin_start": 6499.2,
            "bin_end": 7311.599999999999,
            "count": 0
           },
           {
            "bin_start": 7311.599999999999,
            "bin_end": 8124,
            "count": 1
           }
          ]
         }
        },
        {
         "name": "stalk-root",
         "dtype": "float64",
         "stats": {
          "unique_count": 6,
          "nan_count": 0,
          "min": "0.0",
          "max": "8124.0",
          "histogram": [
           {
            "bin_start": 0,
            "bin_end": 812.4,
            "count": 7
           },
           {
            "bin_start": 812.4,
            "bin_end": 1624.8,
            "count": 0
           },
           {
            "bin_start": 1624.8,
            "bin_end": 2437.2,
            "count": 0
           },
           {
            "bin_start": 2437.2,
            "bin_end": 3249.6,
            "count": 0
           },
           {
            "bin_start": 3249.6,
            "bin_end": 4062,
            "count": 0
           },
           {
            "bin_start": 4062,
            "bin_end": 4874.4,
            "count": 0
           },
           {
            "bin_start": 4874.4,
            "bin_end": 5686.8,
            "count": 0
           },
           {
            "bin_start": 5686.8,
            "bin_end": 6499.2,
            "count": 0
           },
           {
            "bin_start": 6499.2,
            "bin_end": 7311.599999999999,
            "count": 0
           },
           {
            "bin_start": 7311.599999999999,
            "bin_end": 8124,
            "count": 1
           }
          ]
         }
        },
        {
         "name": "stalk-surface-above-ring",
         "dtype": "float64",
         "stats": {
          "unique_count": 7,
          "nan_count": 0,
          "min": "0.0",
          "max": "8124.0",
          "histogram": [
           {
            "bin_start": 0,
            "bin_end": 812.4,
            "count": 7
           },
           {
            "bin_start": 812.4,
            "bin_end": 1624.8,
            "count": 0
           },
           {
            "bin_start": 1624.8,
            "bin_end": 2437.2,
            "count": 0
           },
           {
            "bin_start": 2437.2,
            "bin_end": 3249.6,
            "count": 0
           },
           {
            "bin_start": 3249.6,
            "bin_end": 4062,
            "count": 0
           },
           {
            "bin_start": 4062,
            "bin_end": 4874.4,
            "count": 0
           },
           {
            "bin_start": 4874.4,
            "bin_end": 5686.8,
            "count": 0
           },
           {
            "bin_start": 5686.8,
            "bin_end": 6499.2,
            "count": 0
           },
           {
            "bin_start": 6499.2,
            "bin_end": 7311.599999999999,
            "count": 0
           },
           {
            "bin_start": 7311.599999999999,
            "bin_end": 8124,
            "count": 1
           }
          ]
         }
        },
        {
         "name": "stalk-surface-below-ring",
         "dtype": "float64",
         "stats": {
          "unique_count": 7,
          "nan_count": 0,
          "min": "0.0",
          "max": "8124.0",
          "histogram": [
           {
            "bin_start": 0,
            "bin_end": 812.4,
            "count": 7
           },
           {
            "bin_start": 812.4,
            "bin_end": 1624.8,
            "count": 0
           },
           {
            "bin_start": 1624.8,
            "bin_end": 2437.2,
            "count": 0
           },
           {
            "bin_start": 2437.2,
            "bin_end": 3249.6,
            "count": 0
           },
           {
            "bin_start": 3249.6,
            "bin_end": 4062,
            "count": 0
           },
           {
            "bin_start": 4062,
            "bin_end": 4874.4,
            "count": 0
           },
           {
            "bin_start": 4874.4,
            "bin_end": 5686.8,
            "count": 0
           },
           {
            "bin_start": 5686.8,
            "bin_end": 6499.2,
            "count": 0
           },
           {
            "bin_start": 6499.2,
            "bin_end": 7311.599999999999,
            "count": 0
           },
           {
            "bin_start": 7311.599999999999,
            "bin_end": 8124,
            "count": 1
           }
          ]
         }
        },
        {
         "name": "stalk-color-above-ring",
         "dtype": "float64",
         "stats": {
          "unique_count": 7,
          "nan_count": 0,
          "min": "0.0",
          "max": "8124.0",
          "histogram": [
           {
            "bin_start": 0,
            "bin_end": 812.4,
            "count": 7
           },
           {
            "bin_start": 812.4,
            "bin_end": 1624.8,
            "count": 0
           },
           {
            "bin_start": 1624.8,
            "bin_end": 2437.2,
            "count": 0
           },
           {
            "bin_start": 2437.2,
            "bin_end": 3249.6,
            "count": 0
           },
           {
            "bin_start": 3249.6,
            "bin_end": 4062,
            "count": 0
           },
           {
            "bin_start": 4062,
            "bin_end": 4874.4,
            "count": 0
           },
           {
            "bin_start": 4874.4,
            "bin_end": 5686.8,
            "count": 0
           },
           {
            "bin_start": 5686.8,
            "bin_end": 6499.2,
            "count": 0
           },
           {
            "bin_start": 6499.2,
            "bin_end": 7311.599999999999,
            "count": 0
           },
           {
            "bin_start": 7311.599999999999,
            "bin_end": 8124,
            "count": 1
           }
          ]
         }
        },
        {
         "name": "stalk-color-below-ring",
         "dtype": "float64",
         "stats": {
          "unique_count": 7,
          "nan_count": 0,
          "min": "0.0",
          "max": "8124.0",
          "histogram": [
           {
            "bin_start": 0,
            "bin_end": 812.4,
            "count": 7
           },
           {
            "bin_start": 812.4,
            "bin_end": 1624.8,
            "count": 0
           },
           {
            "bin_start": 1624.8,
            "bin_end": 2437.2,
            "count": 0
           },
           {
            "bin_start": 2437.2,
            "bin_end": 3249.6,
            "count": 0
           },
           {
            "bin_start": 3249.6,
            "bin_end": 4062,
            "count": 0
           },
           {
            "bin_start": 4062,
            "bin_end": 4874.4,
            "count": 0
           },
           {
            "bin_start": 4874.4,
            "bin_end": 5686.8,
            "count": 0
           },
           {
            "bin_start": 5686.8,
            "bin_end": 6499.2,
            "count": 0
           },
           {
            "bin_start": 6499.2,
            "bin_end": 7311.599999999999,
            "count": 0
           },
           {
            "bin_start": 7311.599999999999,
            "bin_end": 8124,
            "count": 1
           }
          ]
         }
        },
        {
         "name": "veil-type",
         "dtype": "float64",
         "stats": {
          "unique_count": 2,
          "nan_count": 0,
          "min": "0.0",
          "max": "8124.0",
          "histogram": [
           {
            "bin_start": 0,
            "bin_end": 812.4,
            "count": 7
           },
           {
            "bin_start": 812.4,
            "bin_end": 1624.8,
            "count": 0
           },
           {
            "bin_start": 1624.8,
            "bin_end": 2437.2,
            "count": 0
           },
           {
            "bin_start": 2437.2,
            "bin_end": 3249.6,
            "count": 0
           },
           {
            "bin_start": 3249.6,
            "bin_end": 4062,
            "count": 0
           },
           {
            "bin_start": 4062,
            "bin_end": 4874.4,
            "count": 0
           },
           {
            "bin_start": 4874.4,
            "bin_end": 5686.8,
            "count": 0
           },
           {
            "bin_start": 5686.8,
            "bin_end": 6499.2,
            "count": 0
           },
           {
            "bin_start": 6499.2,
            "bin_end": 7311.599999999999,
            "count": 0
           },
           {
            "bin_start": 7311.599999999999,
            "bin_end": 8124,
            "count": 1
           }
          ]
         }
        },
        {
         "name": "veil-color",
         "dtype": "float64",
         "stats": {
          "unique_count": 6,
          "nan_count": 0,
          "min": "0.0",
          "max": "8124.0",
          "histogram": [
           {
            "bin_start": 0,
            "bin_end": 812.4,
            "count": 7
           },
           {
            "bin_start": 812.4,
            "bin_end": 1624.8,
            "count": 0
           },
           {
            "bin_start": 1624.8,
            "bin_end": 2437.2,
            "count": 0
           },
           {
            "bin_start": 2437.2,
            "bin_end": 3249.6,
            "count": 0
           },
           {
            "bin_start": 3249.6,
            "bin_end": 4062,
            "count": 0
           },
           {
            "bin_start": 4062,
            "bin_end": 4874.4,
            "count": 0
           },
           {
            "bin_start": 4874.4,
            "bin_end": 5686.8,
            "count": 0
           },
           {
            "bin_start": 5686.8,
            "bin_end": 6499.2,
            "count": 0
           },
           {
            "bin_start": 6499.2,
            "bin_end": 7311.599999999999,
            "count": 0
           },
           {
            "bin_start": 7311.599999999999,
            "bin_end": 8124,
            "count": 1
           }
          ]
         }
        },
        {
         "name": "ring-number",
         "dtype": "float64",
         "stats": {
          "unique_count": 6,
          "nan_count": 0,
          "min": "0.0",
          "max": "8124.0",
          "histogram": [
           {
            "bin_start": 0,
            "bin_end": 812.4,
            "count": 7
           },
           {
            "bin_start": 812.4,
            "bin_end": 1624.8,
            "count": 0
           },
           {
            "bin_start": 1624.8,
            "bin_end": 2437.2,
            "count": 0
           },
           {
            "bin_start": 2437.2,
            "bin_end": 3249.6,
            "count": 0
           },
           {
            "bin_start": 3249.6,
            "bin_end": 4062,
            "count": 0
           },
           {
            "bin_start": 4062,
            "bin_end": 4874.4,
            "count": 0
           },
           {
            "bin_start": 4874.4,
            "bin_end": 5686.8,
            "count": 0
           },
           {
            "bin_start": 5686.8,
            "bin_end": 6499.2,
            "count": 0
           },
           {
            "bin_start": 6499.2,
            "bin_end": 7311.599999999999,
            "count": 0
           },
           {
            "bin_start": 7311.599999999999,
            "bin_end": 8124,
            "count": 1
           }
          ]
         }
        },
        {
         "name": "ring-type",
         "dtype": "float64",
         "stats": {
          "unique_count": 6,
          "nan_count": 0,
          "min": "0.0",
          "max": "8124.0",
          "histogram": [
           {
            "bin_start": 0,
            "bin_end": 812.4,
            "count": 7
           },
           {
            "bin_start": 812.4,
            "bin_end": 1624.8,
            "count": 0
           },
           {
            "bin_start": 1624.8,
            "bin_end": 2437.2,
            "count": 0
           },
           {
            "bin_start": 2437.2,
            "bin_end": 3249.6,
            "count": 0
           },
           {
            "bin_start": 3249.6,
            "bin_end": 4062,
            "count": 0
           },
           {
            "bin_start": 4062,
            "bin_end": 4874.4,
            "count": 0
           },
           {
            "bin_start": 4874.4,
            "bin_end": 5686.8,
            "count": 0
           },
           {
            "bin_start": 5686.8,
            "bin_end": 6499.2,
            "count": 0
           },
           {
            "bin_start": 6499.2,
            "bin_end": 7311.599999999999,
            "count": 0
           },
           {
            "bin_start": 7311.599999999999,
            "bin_end": 8124,
            "count": 1
           }
          ]
         }
        },
        {
         "name": "spore-print-color",
         "dtype": "float64",
         "stats": {
          "unique_count": 8,
          "nan_count": 0,
          "min": "0.0",
          "max": "8124.0",
          "histogram": [
           {
            "bin_start": 0,
            "bin_end": 812.4,
            "count": 7
           },
           {
            "bin_start": 812.4,
            "bin_end": 1624.8,
            "count": 0
           },
           {
            "bin_start": 1624.8,
            "bin_end": 2437.2,
            "count": 0
           },
           {
            "bin_start": 2437.2,
            "bin_end": 3249.6,
            "count": 0
           },
           {
            "bin_start": 3249.6,
            "bin_end": 4062,
            "count": 0
           },
           {
            "bin_start": 4062,
            "bin_end": 4874.4,
            "count": 0
           },
           {
            "bin_start": 4874.4,
            "bin_end": 5686.8,
            "count": 0
           },
           {
            "bin_start": 5686.8,
            "bin_end": 6499.2,
            "count": 0
           },
           {
            "bin_start": 6499.2,
            "bin_end": 7311.599999999999,
            "count": 0
           },
           {
            "bin_start": 7311.599999999999,
            "bin_end": 8124,
            "count": 1
           }
          ]
         }
        },
        {
         "name": "population",
         "dtype": "float64",
         "stats": {
          "unique_count": 7,
          "nan_count": 0,
          "min": "0.0",
          "max": "8124.0",
          "histogram": [
           {
            "bin_start": 0,
            "bin_end": 812.4,
            "count": 7
           },
           {
            "bin_start": 812.4,
            "bin_end": 1624.8,
            "count": 0
           },
           {
            "bin_start": 1624.8,
            "bin_end": 2437.2,
            "count": 0
           },
           {
            "bin_start": 2437.2,
            "bin_end": 3249.6,
            "count": 0
           },
           {
            "bin_start": 3249.6,
            "bin_end": 4062,
            "count": 0
           },
           {
            "bin_start": 4062,
            "bin_end": 4874.4,
            "count": 0
           },
           {
            "bin_start": 4874.4,
            "bin_end": 5686.8,
            "count": 0
           },
           {
            "bin_start": 5686.8,
            "bin_end": 6499.2,
            "count": 0
           },
           {
            "bin_start": 6499.2,
            "bin_end": 7311.599999999999,
            "count": 0
           },
           {
            "bin_start": 7311.599999999999,
            "bin_end": 8124,
            "count": 1
           }
          ]
         }
        },
        {
         "name": "habitat",
         "dtype": "float64",
         "stats": {
          "unique_count": 7,
          "nan_count": 0,
          "min": "0.0",
          "max": "8124.0",
          "histogram": [
           {
            "bin_start": 0,
            "bin_end": 812.4,
            "count": 7
           },
           {
            "bin_start": 812.4,
            "bin_end": 1624.8,
            "count": 0
           },
           {
            "bin_start": 1624.8,
            "bin_end": 2437.2,
            "count": 0
           },
           {
            "bin_start": 2437.2,
            "bin_end": 3249.6,
            "count": 0
           },
           {
            "bin_start": 3249.6,
            "bin_end": 4062,
            "count": 0
           },
           {
            "bin_start": 4062,
            "bin_end": 4874.4,
            "count": 0
           },
           {
            "bin_start": 4874.4,
            "bin_end": 5686.8,
            "count": 0
           },
           {
            "bin_start": 5686.8,
            "bin_end": 6499.2,
            "count": 0
           },
           {
            "bin_start": 6499.2,
            "bin_end": 7311.599999999999,
            "count": 0
           },
           {
            "bin_start": 7311.599999999999,
            "bin_end": 8124,
            "count": 1
           }
          ]
         }
        },
        {
         "name": "_deepnote_index_column",
         "dtype": "object"
        }
       ],
       "rows": [
        {
         "class": 8124,
         "cap-shape": 8124,
         "cap-surface": 8124,
         "cap-color": 8124,
         "bruises": 8124,
         "odor": 8124,
         "gill-attachment": 8124,
         "gill-spacing": 8124,
         "gill-size": 8124,
         "gill-color": 8124,
         "stalk-shape": 8124,
         "stalk-root": 8124,
         "stalk-surface-above-ring": 8124,
         "stalk-surface-below-ring": 8124,
         "stalk-color-above-ring": 8124,
         "stalk-color-below-ring": 8124,
         "veil-type": 8124,
         "veil-color": 8124,
         "ring-number": 8124,
         "ring-type": 8124,
         "spore-print-color": 8124,
         "population": 8124,
         "habitat": 8124,
         "_deepnote_index_column": "count"
        },
        {
         "class": 0.48202855736090594,
         "cap-shape": 3.348104382077794,
         "cap-surface": 1.82767109798129,
         "cap-color": 4.504677498769079,
         "bruises": 0.4155588380108321,
         "odor": 4.144756277695716,
         "gill-attachment": 0.9741506646971935,
         "gill-spacing": 0.16149679960610536,
         "gill-size": 0.30920728705071393,
         "gill-color": 4.81068439192516,
         "stalk-shape": 0.5672082717872969,
         "stalk-root": 1.1097981290004924,
         "stalk-surface-above-ring": 1.5750861644510095,
         "stalk-surface-below-ring": 1.603643525356967,
         "stalk-color-above-ring": 5.816346627277204,
         "stalk-color-below-ring": 5.794682422451994,
         "veil-type": 0,
         "veil-color": 1.965534219596258,
         "ring-number": 1.069423929098966,
         "ring-type": 2.291974396848843,
         "spore-print-color": 3.5967503692762186,
         "population": 3.6440177252584935,
         "habitat": 1.5086164451009354,
         "_deepnote_index_column": "mean"
        },
        {
         "class": 0.49970767884413053,
         "cap-shape": 1.6043290877114995,
         "cap-surface": 1.2298725242273254,
         "cap-color": 2.5458209415209643,
         "bruises": 0.4928484444287616,
         "odor": 2.1037290837439606,
         "gill-attachment": 0.1586954540886246,
         "gill-spacing": 0.3680112144486418,
         "gill-size": 0.4621952359773023,
         "gill-color": 3.540358971422556,
         "stalk-shape": 0.495492955490344,
         "stalk-root": 1.0611060679879334,
         "stalk-surface-above-ring": 0.6214593111785826,
         "stalk-surface-below-ring": 0.6759741491415914,
         "stalk-color-above-ring": 1.9017472922284946,
         "stalk-color-below-ring": 1.9072914601869122,
         "veil-type": 0,
         "veil-color": 0.24266909614468823,
         "ring-number": 0.27106442171094947,
         "ring-type": 1.8016720020685273,
         "spore-print-color": 2.3826632384911703,
         "population": 1.2520818198487118,
         "habitat": 1.719975437386453,
         "_deepnote_index_column": "std"
        },
        {
         "class": 0,
         "cap-shape": 0,
         "cap-surface": 0,
         "cap-color": 0,
         "bruises": 0,
         "odor": 0,
         "gill-attachment": 0,
         "gill-spacing": 0,
         "gill-size": 0,
         "gill-color": 0,
         "stalk-shape": 0,
         "stalk-root": 0,
         "stalk-surface-above-ring": 0,
         "stalk-surface-below-ring": 0,
         "stalk-color-above-ring": 0,
         "stalk-color-below-ring": 0,
         "veil-type": 0,
         "veil-color": 0,
         "ring-number": 0,
         "ring-type": 0,
         "spore-print-color": 0,
         "population": 0,
         "habitat": 0,
         "_deepnote_index_column": "min"
        },
        {
         "class": 0,
         "cap-shape": 2,
         "cap-surface": 0,
         "cap-color": 3,
         "bruises": 0,
         "odor": 2,
         "gill-attachment": 1,
         "gill-spacing": 0,
         "gill-size": 0,
         "gill-color": 2,
         "stalk-shape": 0,
         "stalk-root": 0,
         "stalk-surface-above-ring": 1,
         "stalk-surface-below-ring": 1,
         "stalk-color-above-ring": 6,
         "stalk-color-below-ring": 6,
         "veil-type": 0,
         "veil-color": 2,
         "ring-number": 1,
         "ring-type": 0,
         "spore-print-color": 2,
         "population": 3,
         "habitat": 0,
         "_deepnote_index_column": "25%"
        },
        {
         "class": 0,
         "cap-shape": 3,
         "cap-surface": 2,
         "cap-color": 4,
         "bruises": 0,
         "odor": 5,
         "gill-attachment": 1,
         "gill-spacing": 0,
         "gill-size": 0,
         "gill-color": 5,
         "stalk-shape": 1,
         "stalk-root": 1,
         "stalk-surface-above-ring": 2,
         "stalk-surface-below-ring": 2,
         "stalk-color-above-ring": 7,
         "stalk-color-below-ring": 7,
         "veil-type": 0,
         "veil-color": 2,
         "ring-number": 1,
         "ring-type": 2,
         "spore-print-color": 3,
         "population": 4,
         "habitat": 1,
         "_deepnote_index_column": "50%"
        },
        {
         "class": 1,
         "cap-shape": 5,
         "cap-surface": 3,
         "cap-color": 8,
         "bruises": 1,
         "odor": 5,
         "gill-attachment": 1,
         "gill-spacing": 0,
         "gill-size": 1,
         "gill-color": 7,
         "stalk-shape": 1,
         "stalk-root": 1,
         "stalk-surface-above-ring": 2,
         "stalk-surface-below-ring": 2,
         "stalk-color-above-ring": 7,
         "stalk-color-below-ring": 7,
         "veil-type": 0,
         "veil-color": 2,
         "ring-number": 1,
         "ring-type": 4,
         "spore-print-color": 7,
         "population": 4,
         "habitat": 2,
         "_deepnote_index_column": "75%"
        },
        {
         "class": 1,
         "cap-shape": 5,
         "cap-surface": 3,
         "cap-color": 9,
         "bruises": 1,
         "odor": 8,
         "gill-attachment": 1,
         "gill-spacing": 1,
         "gill-size": 1,
         "gill-color": 11,
         "stalk-shape": 1,
         "stalk-root": 4,
         "stalk-surface-above-ring": 3,
         "stalk-surface-below-ring": 3,
         "stalk-color-above-ring": 8,
         "stalk-color-below-ring": 8,
         "veil-type": 0,
         "veil-color": 3,
         "ring-number": 2,
         "ring-type": 4,
         "spore-print-color": 8,
         "population": 5,
         "habitat": 6,
         "_deepnote_index_column": "max"
        }
       ]
      },
      "text/plain": "             class    cap-shape  cap-surface    cap-color      bruises  \\\ncount  8124.000000  8124.000000  8124.000000  8124.000000  8124.000000   \nmean      0.482029     3.348104     1.827671     4.504677     0.415559   \nstd       0.499708     1.604329     1.229873     2.545821     0.492848   \nmin       0.000000     0.000000     0.000000     0.000000     0.000000   \n25%       0.000000     2.000000     0.000000     3.000000     0.000000   \n50%       0.000000     3.000000     2.000000     4.000000     0.000000   \n75%       1.000000     5.000000     3.000000     8.000000     1.000000   \nmax       1.000000     5.000000     3.000000     9.000000     1.000000   \n\n              odor  gill-attachment  gill-spacing    gill-size   gill-color  \\\ncount  8124.000000      8124.000000   8124.000000  8124.000000  8124.000000   \nmean      4.144756         0.974151      0.161497     0.309207     4.810684   \nstd       2.103729         0.158695      0.368011     0.462195     3.540359   \nmin       0.000000         0.000000      0.000000     0.000000     0.000000   \n25%       2.000000         1.000000      0.000000     0.000000     2.000000   \n50%       5.000000         1.000000      0.000000     0.000000     5.000000   \n75%       5.000000         1.000000      0.000000     1.000000     7.000000   \nmax       8.000000         1.000000      1.000000     1.000000    11.000000   \n\n       ...  stalk-surface-below-ring  stalk-color-above-ring  \\\ncount  ...               8124.000000             8124.000000   \nmean   ...                  1.603644                5.816347   \nstd    ...                  0.675974                1.901747   \nmin    ...                  0.000000                0.000000   \n25%    ...                  1.000000                6.000000   \n50%    ...                  2.000000                7.000000   \n75%    ...                  2.000000                7.000000   \nmax    ...                  3.000000                8.000000   \n\n       stalk-color-below-ring  veil-type   veil-color  ring-number  \\\ncount             8124.000000     8124.0  8124.000000  8124.000000   \nmean                 5.794682        0.0     1.965534     1.069424   \nstd                  1.907291        0.0     0.242669     0.271064   \nmin                  0.000000        0.0     0.000000     0.000000   \n25%                  6.000000        0.0     2.000000     1.000000   \n50%                  7.000000        0.0     2.000000     1.000000   \n75%                  7.000000        0.0     2.000000     1.000000   \nmax                  8.000000        0.0     3.000000     2.000000   \n\n         ring-type  spore-print-color   population      habitat  \ncount  8124.000000        8124.000000  8124.000000  8124.000000  \nmean      2.291974           3.596750     3.644018     1.508616  \nstd       1.801672           2.382663     1.252082     1.719975  \nmin       0.000000           0.000000     0.000000     0.000000  \n25%       0.000000           2.000000     3.000000     0.000000  \n50%       2.000000           3.000000     4.000000     1.000000  \n75%       4.000000           7.000000     4.000000     2.000000  \nmax       4.000000           8.000000     5.000000     6.000000  \n\n[8 rows x 23 columns]",
      "text/html": "<div>\n<style scoped>\n    .dataframe tbody tr th:only-of-type {\n        vertical-align: middle;\n    }\n\n    .dataframe tbody tr th {\n        vertical-align: top;\n    }\n\n    .dataframe thead th {\n        text-align: right;\n    }\n</style>\n<table border=\"1\" class=\"dataframe\">\n  <thead>\n    <tr style=\"text-align: right;\">\n      <th></th>\n      <th>class</th>\n      <th>cap-shape</th>\n      <th>cap-surface</th>\n      <th>cap-color</th>\n      <th>bruises</th>\n      <th>odor</th>\n      <th>gill-attachment</th>\n      <th>gill-spacing</th>\n      <th>gill-size</th>\n      <th>gill-color</th>\n      <th>...</th>\n      <th>stalk-surface-below-ring</th>\n      <th>stalk-color-above-ring</th>\n      <th>stalk-color-below-ring</th>\n      <th>veil-type</th>\n      <th>veil-color</th>\n      <th>ring-number</th>\n      <th>ring-type</th>\n      <th>spore-print-color</th>\n      <th>population</th>\n      <th>habitat</th>\n    </tr>\n  </thead>\n  <tbody>\n    <tr>\n      <th>count</th>\n      <td>8124.000000</td>\n      <td>8124.000000</td>\n      <td>8124.000000</td>\n      <td>8124.000000</td>\n      <td>8124.000000</td>\n      <td>8124.000000</td>\n      <td>8124.000000</td>\n      <td>8124.000000</td>\n      <td>8124.000000</td>\n      <td>8124.000000</td>\n      <td>...</td>\n      <td>8124.000000</td>\n      <td>8124.000000</td>\n      <td>8124.000000</td>\n      <td>8124.0</td>\n      <td>8124.000000</td>\n      <td>8124.000000</td>\n      <td>8124.000000</td>\n      <td>8124.000000</td>\n      <td>8124.000000</td>\n      <td>8124.000000</td>\n    </tr>\n    <tr>\n      <th>mean</th>\n      <td>0.482029</td>\n      <td>3.348104</td>\n      <td>1.827671</td>\n      <td>4.504677</td>\n      <td>0.415559</td>\n      <td>4.144756</td>\n      <td>0.974151</td>\n      <td>0.161497</td>\n      <td>0.309207</td>\n      <td>4.810684</td>\n      <td>...</td>\n      <td>1.603644</td>\n      <td>5.816347</td>\n      <td>5.794682</td>\n      <td>0.0</td>\n      <td>1.965534</td>\n      <td>1.069424</td>\n      <td>2.291974</td>\n      <td>3.596750</td>\n      <td>3.644018</td>\n      <td>1.508616</td>\n    </tr>\n    <tr>\n      <th>std</th>\n      <td>0.499708</td>\n      <td>1.604329</td>\n      <td>1.229873</td>\n      <td>2.545821</td>\n      <td>0.492848</td>\n      <td>2.103729</td>\n      <td>0.158695</td>\n      <td>0.368011</td>\n      <td>0.462195</td>\n      <td>3.540359</td>\n      <td>...</td>\n      <td>0.675974</td>\n      <td>1.901747</td>\n      <td>1.907291</td>\n      <td>0.0</td>\n      <td>0.242669</td>\n      <td>0.271064</td>\n      <td>1.801672</td>\n      <td>2.382663</td>\n      <td>1.252082</td>\n      <td>1.719975</td>\n    </tr>\n    <tr>\n      <th>min</th>\n      <td>0.000000</td>\n      <td>0.000000</td>\n      <td>0.000000</td>\n      <td>0.000000</td>\n      <td>0.000000</td>\n      <td>0.000000</td>\n      <td>0.000000</td>\n      <td>0.000000</td>\n      <td>0.000000</td>\n      <td>0.000000</td>\n      <td>...</td>\n      <td>0.000000</td>\n      <td>0.000000</td>\n      <td>0.000000</td>\n      <td>0.0</td>\n      <td>0.000000</td>\n      <td>0.000000</td>\n      <td>0.000000</td>\n      <td>0.000000</td>\n      <td>0.000000</td>\n      <td>0.000000</td>\n    </tr>\n    <tr>\n      <th>25%</th>\n      <td>0.000000</td>\n      <td>2.000000</td>\n      <td>0.000000</td>\n      <td>3.000000</td>\n      <td>0.000000</td>\n      <td>2.000000</td>\n      <td>1.000000</td>\n      <td>0.000000</td>\n      <td>0.000000</td>\n      <td>2.000000</td>\n      <td>...</td>\n      <td>1.000000</td>\n      <td>6.000000</td>\n      <td>6.000000</td>\n      <td>0.0</td>\n      <td>2.000000</td>\n      <td>1.000000</td>\n      <td>0.000000</td>\n      <td>2.000000</td>\n      <td>3.000000</td>\n      <td>0.000000</td>\n    </tr>\n    <tr>\n      <th>50%</th>\n      <td>0.000000</td>\n      <td>3.000000</td>\n      <td>2.000000</td>\n      <td>4.000000</td>\n      <td>0.000000</td>\n      <td>5.000000</td>\n      <td>1.000000</td>\n      <td>0.000000</td>\n      <td>0.000000</td>\n      <td>5.000000</td>\n      <td>...</td>\n      <td>2.000000</td>\n      <td>7.000000</td>\n      <td>7.000000</td>\n      <td>0.0</td>\n      <td>2.000000</td>\n      <td>1.000000</td>\n      <td>2.000000</td>\n      <td>3.000000</td>\n      <td>4.000000</td>\n      <td>1.000000</td>\n    </tr>\n    <tr>\n      <th>75%</th>\n      <td>1.000000</td>\n      <td>5.000000</td>\n      <td>3.000000</td>\n      <td>8.000000</td>\n      <td>1.000000</td>\n      <td>5.000000</td>\n      <td>1.000000</td>\n      <td>0.000000</td>\n      <td>1.000000</td>\n      <td>7.000000</td>\n      <td>...</td>\n      <td>2.000000</td>\n      <td>7.000000</td>\n      <td>7.000000</td>\n      <td>0.0</td>\n      <td>2.000000</td>\n      <td>1.000000</td>\n      <td>4.000000</td>\n      <td>7.000000</td>\n      <td>4.000000</td>\n      <td>2.000000</td>\n    </tr>\n    <tr>\n      <th>max</th>\n      <td>1.000000</td>\n      <td>5.000000</td>\n      <td>3.000000</td>\n      <td>9.000000</td>\n      <td>1.000000</td>\n      <td>8.000000</td>\n      <td>1.000000</td>\n      <td>1.000000</td>\n      <td>1.000000</td>\n      <td>11.000000</td>\n      <td>...</td>\n      <td>3.000000</td>\n      <td>8.000000</td>\n      <td>8.000000</td>\n      <td>0.0</td>\n      <td>3.000000</td>\n      <td>2.000000</td>\n      <td>4.000000</td>\n      <td>8.000000</td>\n      <td>5.000000</td>\n      <td>6.000000</td>\n    </tr>\n  </tbody>\n</table>\n<p>8 rows × 23 columns</p>\n</div>"
     },
     "metadata": {}
    }
   ]
  },
  {
   "cell_type": "code",
   "metadata": {
    "cell_id": "45ce8cb02df04b0b8c993d95e8bf6a82",
    "tags": [],
    "deepnote_to_be_reexecuted": false,
    "source_hash": "1248f4e5",
    "execution_start": 1649015276330,
    "execution_millis": 4961,
    "deepnote_cell_type": "code",
    "deepnote_cell_height": 632.3125,
    "deepnote_output_heights": [
     409.3125
    ]
   },
   "source": "X = df[df.columns[:]].values\n\nfig = plt.figure(figsize=(30, 14))\n\nfor i in range(X.shape[1]):\n    ax = fig.add_subplot(3,8, (i+1))\n    h = ax.hist(X[:, i], bins=25, density=True, edgecolor='none')\n    ax.set_title(df.columns[i], fontsize=14)",
   "execution_count": 9,
   "outputs": [
    {
     "data": {
      "text/plain": "<Figure size 2160x1008 with 23 Axes>",
      "image/png": "[encoded data removed]"
     },
     "metadata": {
      "needs_background": "light",
      "image/png": {
       "width": 1720,
       "height": 809
      }
     },
     "output_type": "display_data"
    }
   ]
  },
  {
   "cell_type": "markdown",
   "source": "### ___Correlation___",
   "metadata": {
    "cell_id": "3f67dd0e27eb42ef8c771b63f1d72144",
    "tags": [],
    "deepnote_cell_type": "markdown",
    "deepnote_cell_height": 62
   }
  },
  {
   "cell_type": "code",
   "metadata": {
    "cell_id": "82e85738e47145db909224b0983946b3",
    "tags": [],
    "deepnote_to_be_reexecuted": false,
    "source_hash": "79d0cd7f",
    "execution_start": 1649015281293,
    "execution_millis": 1523,
    "deepnote_cell_type": "code",
    "deepnote_cell_height": 726,
    "deepnote_output_heights": [
     611
    ]
   },
   "source": "plt.figure(figsize=(12,10))\nax = sb.heatmap(df.corr())",
   "execution_count": 10,
   "outputs": [
    {
     "data": {
      "text/plain": "<Figure size 864x720 with 2 Axes>",
      "image/png": "[encoded data removed]"
     },
     "metadata": {
      "needs_background": "light",
      "image/png": {
       "width": 770,
       "height": 691
      }
     },
     "output_type": "display_data"
    }
   ]
  },
  {
   "cell_type": "code",
   "metadata": {
    "cell_id": "b6f2139a8f7f4f47bfebe864b1f2d93d",
    "tags": [],
    "deepnote_to_be_reexecuted": false,
    "source_hash": "11d38351",
    "execution_start": 1649015282817,
    "execution_millis": 2,
    "deepnote_cell_type": "code",
    "deepnote_cell_height": 117
   },
   "source": "#erase columns \ndf = df.drop([\"veil-type\"],axis=1)\n",
   "execution_count": 11,
   "outputs": []
  },
  {
   "cell_type": "markdown",
   "source": "##### ___SPLIT DATA___",
   "metadata": {
    "cell_id": "dfbef349bc774cb08e1552250b1d6787",
    "tags": [],
    "deepnote_cell_type": "markdown",
    "deepnote_cell_height": 54
   }
  },
  {
   "cell_type": "code",
   "metadata": {
    "cell_id": "f0d93443026c43d0a99e3561cbfbf43c",
    "tags": [],
    "deepnote_to_be_reexecuted": false,
    "source_hash": "c15e8fff",
    "execution_start": 1649015282825,
    "execution_millis": 2,
    "deepnote_cell_type": "code",
    "deepnote_cell_height": 189
   },
   "source": "#Split our data to train & test set\n\n#Define our Target\ny = df['class']\n#Erase the target on features\nX = df.drop([\"class\"], axis=1) \nx_train, x_test, y_train, y_test = train_test_split(X, y , test_size=0.37, random_state=0)",
   "execution_count": 12,
   "outputs": []
  },
  {
   "cell_type": "markdown",
   "source": "# __K-NN__",
   "metadata": {
    "cell_id": "59696cb1c3ee436f819c33780d486495",
    "tags": [],
    "deepnote_cell_type": "markdown",
    "deepnote_cell_height": 82
   }
  },
  {
   "cell_type": "markdown",
   "source": "### ___Standardisation___",
   "metadata": {
    "cell_id": "ddc1199897484538b0e6c43ca3d4a459",
    "tags": [],
    "deepnote_cell_type": "markdown",
    "deepnote_cell_height": 62
   }
  },
  {
   "cell_type": "code",
   "metadata": {
    "cell_id": "2e8754abeb2544e39f49d8c2419be77e",
    "tags": [],
    "deepnote_to_be_reexecuted": false,
    "source_hash": "619b1866",
    "execution_start": 1649015282830,
    "execution_millis": 8,
    "deepnote_cell_type": "code",
    "deepnote_cell_height": 153
   },
   "source": "#standardisation to get the common scale, make it for each set\n\nstandard = StandardScaler()\nx_train = standard.fit_transform(x_train)\nx_test = standard.transform(x_test)",
   "execution_count": 13,
   "outputs": []
  },
  {
   "cell_type": "markdown",
   "source": "### ___K neighbords___",
   "metadata": {
    "cell_id": "a64860fdea8b4eaf918c5fab99b87362",
    "tags": [],
    "deepnote_cell_type": "markdown",
    "deepnote_cell_height": 62
   }
  },
  {
   "cell_type": "code",
   "metadata": {
    "cell_id": "f8061be81bc54d61bb8b770f71e781f8",
    "tags": [],
    "deepnote_to_be_reexecuted": false,
    "source_hash": "b7717014",
    "execution_start": 1649015282841,
    "execution_millis": 4,
    "deepnote_cell_type": "code",
    "deepnote_cell_height": 172,
    "deepnote_output_heights": [
     21
    ]
   },
   "source": "# K = sqrt(len(set point)) ------> get the right k neighbords\n# we'll use impair number to don't have a coflict so in this case between (53||55)\n\nmath.sqrt(len(y_test))",
   "execution_count": 14,
   "outputs": [
    {
     "output_type": "execute_result",
     "execution_count": 14,
     "data": {
      "text/plain": "54.8270006474912"
     },
     "metadata": {}
    }
   ]
  },
  {
   "cell_type": "markdown",
   "source": "### ___Distance___",
   "metadata": {
    "cell_id": "c1c3aff1c46e4366b6037fdcd20f0cc9",
    "tags": [],
    "deepnote_cell_type": "markdown",
    "deepnote_cell_height": 62
   }
  },
  {
   "cell_type": "code",
   "metadata": {
    "cell_id": "a605d18cd3234103895feeecad009911",
    "tags": [],
    "deepnote_to_be_reexecuted": false,
    "source_hash": "e4df563d",
    "execution_start": 1649015282847,
    "execution_millis": 657,
    "deepnote_cell_type": "code",
    "deepnote_cell_height": 172,
    "deepnote_output_heights": [
     21
    ]
   },
   "source": "#calcule de la distance \nclassifier = KNeighborsClassifier(n_neighbors=53,metric='euclidean')\n#entrainement du model\nclassifier.fit(x_train,y_train)",
   "execution_count": 15,
   "outputs": [
    {
     "output_type": "execute_result",
     "execution_count": 15,
     "data": {
      "text/plain": "KNeighborsClassifier(metric='euclidean', n_neighbors=53)"
     },
     "metadata": {}
    }
   ]
  },
  {
   "cell_type": "markdown",
   "source": "### ___Prediction___",
   "metadata": {
    "cell_id": "b5b937f073fd4e848970d7a5182e6a11",
    "tags": [],
    "deepnote_cell_type": "markdown",
    "deepnote_cell_height": 62
   }
  },
  {
   "cell_type": "code",
   "metadata": {
    "cell_id": "d47ca40dd07e47e68e81b1f540241f5e",
    "tags": [],
    "deepnote_to_be_reexecuted": false,
    "source_hash": "3c495e93",
    "execution_start": 1649015282870,
    "execution_millis": 1132,
    "deepnote_cell_type": "code",
    "deepnote_cell_height": 136,
    "deepnote_output_heights": [
     21
    ]
   },
   "source": "#score d'entrainement\nclassifier.score(x_train,y_train)",
   "execution_count": 16,
   "outputs": [
    {
     "output_type": "execute_result",
     "execution_count": 16,
     "data": {
      "text/plain": "0.9857366158655725"
     },
     "metadata": {}
    }
   ]
  },
  {
   "cell_type": "code",
   "metadata": {
    "cell_id": "3e456c390b0b4e5f821deb49aae55189",
    "tags": [],
    "deepnote_to_be_reexecuted": false,
    "source_hash": "95826891",
    "execution_start": 1649015284007,
    "execution_millis": 634,
    "deepnote_cell_type": "code",
    "deepnote_cell_height": 136,
    "deepnote_output_heights": [
     21
    ]
   },
   "source": "prediction = classifier.predict(x_test)\nprediction",
   "execution_count": 17,
   "outputs": [
    {
     "output_type": "execute_result",
     "execution_count": 17,
     "data": {
      "text/plain": "array([1, 0, 0, ..., 0, 0, 1])"
     },
     "metadata": {}
    }
   ]
  },
  {
   "cell_type": "code",
   "metadata": {
    "cell_id": "1dd51c0c0e4c4b67bdd8b4e3b6a0af24",
    "tags": [],
    "deepnote_to_be_reexecuted": false,
    "source_hash": "407d2bd3",
    "execution_start": 1649015284668,
    "execution_millis": 617,
    "deepnote_cell_type": "code",
    "deepnote_cell_height": 136,
    "deepnote_output_heights": [
     21
    ]
   },
   "source": "#score sur de prediction\nclassifier.score(x_test,y_test)",
   "execution_count": 18,
   "outputs": [
    {
     "output_type": "execute_result",
     "execution_count": 18,
     "data": {
      "text/plain": "0.9873586161011311"
     },
     "metadata": {}
    }
   ]
  },
  {
   "cell_type": "markdown",
   "source": "### ___Confusion Matrix___",
   "metadata": {
    "cell_id": "7cc9c0b08cb84326bffa1b2c550695b6",
    "tags": [],
    "deepnote_cell_type": "markdown",
    "deepnote_cell_height": 62
   }
  },
  {
   "cell_type": "code",
   "metadata": {
    "cell_id": "52780906a9474226867e5135a1a71b4d",
    "tags": [],
    "deepnote_to_be_reexecuted": false,
    "source_hash": "122c6c19",
    "execution_start": 1649015285292,
    "execution_millis": 16,
    "deepnote_cell_type": "code",
    "deepnote_cell_height": 191,
    "deepnote_output_heights": [
     40
    ]
   },
   "source": "#check the accurancy with confusion matrix\n\nc_matrix = confusion_matrix(y_test, prediction)\nc_matrix",
   "execution_count": 19,
   "outputs": [
    {
     "output_type": "execute_result",
     "execution_count": 19,
     "data": {
      "text/plain": "array([[1563,    6],\n       [  32, 1405]])"
     },
     "metadata": {}
    }
   ]
  },
  {
   "cell_type": "code",
   "metadata": {
    "cell_id": "7c1bdd596a07446cb67ba201ba9368dd",
    "tags": [],
    "deepnote_to_be_reexecuted": false,
    "source_hash": "13171f4b",
    "execution_start": 1649015285326,
    "execution_millis": 907,
    "deepnote_cell_type": "code",
    "deepnote_cell_height": 575,
    "deepnote_output_heights": [
     21,
     264
    ]
   },
   "source": "#plot de matrix confusion\n\nclf = SVC(random_state=0)\nclf.fit(x_train, y_train)\n\n#clf_prediction = clf.predict(x_test)\nc_matrix = confusion_matrix(y_test, prediction, labels=clf.classes_)\ndisp = ConfusionMatrixDisplay(confusion_matrix=c_matrix,display_labels=clf.classes_)\ndisp.plot()\nplt.show",
   "execution_count": 20,
   "outputs": [
    {
     "output_type": "execute_result",
     "execution_count": 20,
     "data": {
      "text/plain": "<function matplotlib.pyplot.show(close=None, block=None)>"
     },
     "metadata": {}
    },
    {
     "data": {
      "text/plain": "<Figure size 432x288 with 2 Axes>",
      "image/png": "[encoded data removed]"
     },
     "metadata": {
      "needs_background": "light",
      "image/png": {
       "width": 319,
       "height": 262
      }
     },
     "output_type": "display_data"
    }
   ]
  },
  {
   "cell_type": "code",
   "metadata": {
    "cell_id": "bdce9414d0a64125b34e3ad7ee8ee36e",
    "tags": [],
    "deepnote_to_be_reexecuted": false,
    "source_hash": "53c8eee6",
    "execution_start": 1649015285811,
    "execution_millis": 429,
    "deepnote_cell_type": "code",
    "deepnote_cell_height": 272
   },
   "source": "print(classification_report(y_test, prediction))",
   "execution_count": 21,
   "outputs": [
    {
     "name": "stdout",
     "text": "              precision    recall  f1-score   support\n\n           0       0.98      1.00      0.99      1569\n           1       1.00      0.98      0.99      1437\n\n    accuracy                           0.99      3006\n   macro avg       0.99      0.99      0.99      3006\nweighted avg       0.99      0.99      0.99      3006\n\n",
     "output_type": "stream"
    }
   ]
  },
  {
   "cell_type": "code",
   "metadata": {
    "cell_id": "3927a2d96fdf4882b6b6edfa0dbf8899",
    "tags": [],
    "deepnote_to_be_reexecuted": false,
    "source_hash": "3df92e9e",
    "execution_start": 1649015285827,
    "execution_millis": 3,
    "deepnote_cell_type": "code",
    "deepnote_cell_height": 99
   },
   "source": "#accurancy score TP+TN/Total \n#print(accuracy_score(y_test, prediction))",
   "execution_count": 22,
   "outputs": []
  },
  {
   "cell_type": "code",
   "metadata": {
    "cell_id": "6150191ed7804d5f8a48fd68a2cb2552",
    "tags": [],
    "deepnote_to_be_reexecuted": false,
    "source_hash": "6ae2fa70",
    "execution_start": 1649015285832,
    "execution_millis": 2,
    "deepnote_cell_type": "code",
    "deepnote_cell_height": 99
   },
   "source": "#Evaluate our accurancy with F1-Score = 2*[(Recall*Precision)/(Recall+Precision)]\n#print(f1_score(y_test,prediction))",
   "execution_count": 23,
   "outputs": []
  },
  {
   "cell_type": "code",
   "metadata": {
    "cell_id": "825c9dda669a4ea2859f6efa21050bd4",
    "tags": [],
    "deepnote_to_be_reexecuted": false,
    "source_hash": "ae58e052",
    "execution_start": 1649015285839,
    "execution_millis": 707,
    "deepnote_cell_type": "code",
    "deepnote_cell_height": 783.0625,
    "deepnote_output_heights": [
     null,
     432.0625
    ]
   },
   "source": "#plot a prédiction vs reality\n\nplt.figure(figsize=(15,7))\nax = sb.distplot(df['class'], hist=False, color=\"green\", label=\"Reality\")\nsb.distplot(prediction, hist=False, color=\"b\", label=\"Predicted Values\", ax=ax)\n\nplt.title('Reality vs Precited value for Class')\nplt.legend()\nplt.show()",
   "execution_count": 24,
   "outputs": [
    {
     "name": "stderr",
     "text": "/shared-libs/python3.9/py/lib/python3.9/site-packages/seaborn/distributions.py:2619: FutureWarning: `distplot` is a deprecated function and will be removed in a future version. Please adapt your code to use either `displot` (a figure-level function with similar flexibility) or `kdeplot` (an axes-level function for kernel density plots).\n  warnings.warn(msg, FutureWarning)\n/shared-libs/python3.9/py/lib/python3.9/site-packages/seaborn/distributions.py:2619: FutureWarning: `distplot` is a deprecated function and will be removed in a future version. Please adapt your code to use either `displot` (a figure-level function with similar flexibility) or `kdeplot` (an axes-level function for kernel density plots).\n  warnings.warn(msg, FutureWarning)\n",
     "output_type": "stream"
    },
    {
     "data": {
      "text/plain": "<Figure size 1080x504 with 1 Axes>",
      "image/png": "[encoded data removed]"
     },
     "metadata": {
      "needs_background": "light",
      "image/png": {
       "width": 888,
       "height": 441
      }
     },
     "output_type": "display_data"
    }
   ]
  },
  {
   "cell_type": "markdown",
   "source": "# ___TESTING OUR MODELS___",
   "metadata": {
    "cell_id": "a73f3072fb3449ef93fc9d58699165fc",
    "tags": [],
    "deepnote_cell_type": "markdown",
    "deepnote_cell_height": 82
   }
  },
  {
   "cell_type": "markdown",
   "source": "### ___Cross Validation & Learning Curve___",
   "metadata": {
    "cell_id": "83dbb1f583ff463e9673ad8242620529",
    "tags": [],
    "deepnote_cell_type": "markdown",
    "deepnote_cell_height": 62
   }
  },
  {
   "cell_type": "markdown",
   "source": "###### We will going to test all the classifier model \n###### We want to see their each performances with cross validation \n###### And see the over/underfitting with learning curve ",
   "metadata": {
    "cell_id": "1c2427566f914ce39be26f0d43e35095",
    "tags": [],
    "deepnote_cell_type": "markdown",
    "deepnote_cell_height": 96
   }
  },
  {
   "cell_type": "markdown",
   "source": "###### ___Support vector machine___",
   "metadata": {
    "cell_id": "d728d14963624fa6a31fd5f4980d9975",
    "tags": [],
    "deepnote_cell_type": "markdown",
    "deepnote_cell_height": 52
   }
  },
  {
   "cell_type": "code",
   "metadata": {
    "cell_id": "0a4002083829471c8bdf895293c5ea35",
    "tags": [],
    "deepnote_to_be_reexecuted": false,
    "source_hash": "a3a5c933",
    "execution_start": 1649015286541,
    "execution_millis": 2189,
    "deepnote_cell_type": "code",
    "deepnote_cell_height": 130
   },
   "source": "classifier_svm = svm.SVC()\nprint(cross_val_score(classifier_svm, x_train, y_train, cv=10, scoring='accuracy').mean())",
   "execution_count": 25,
   "outputs": [
    {
     "name": "stdout",
     "text": "1.0\n",
     "output_type": "stream"
    }
   ]
  },
  {
   "cell_type": "markdown",
   "source": "###### ___Decision Tree___",
   "metadata": {
    "cell_id": "f7d19869fc8e472d94899f32b6348b8a",
    "tags": [],
    "deepnote_cell_type": "markdown",
    "deepnote_cell_height": 52
   }
  },
  {
   "cell_type": "code",
   "metadata": {
    "cell_id": "01d99ec8c7d541188255a0b162d445e1",
    "tags": [],
    "deepnote_to_be_reexecuted": false,
    "source_hash": "a33abf80",
    "execution_start": 1649015288517,
    "execution_millis": 351,
    "deepnote_cell_type": "code",
    "deepnote_cell_height": 130
   },
   "source": "classifier_DT = DecisionTreeClassifier()\nprint(cross_val_score(classifier_DT, x_train, y_train, cv=10, scoring='accuracy').mean())",
   "execution_count": 26,
   "outputs": [
    {
     "name": "stdout",
     "text": "1.0\n",
     "output_type": "stream"
    }
   ]
  },
  {
   "cell_type": "markdown",
   "source": "###### ___Random Forest___",
   "metadata": {
    "cell_id": "2373cb5fe92e4560b6e588c8b05b0646",
    "tags": [],
    "deepnote_cell_type": "markdown",
    "deepnote_cell_height": 52
   }
  },
  {
   "cell_type": "code",
   "metadata": {
    "cell_id": "3e95d403f3e44057acd2862cbf41451d",
    "tags": [],
    "deepnote_to_be_reexecuted": false,
    "source_hash": "96998a2a",
    "execution_start": 1649015288730,
    "execution_millis": 3704,
    "deepnote_cell_type": "code",
    "deepnote_cell_height": 130
   },
   "source": "classifier_RF = RandomForestClassifier()\nprint(cross_val_score(classifier_RF, x_train, y_train, cv=10, scoring='accuracy').mean())",
   "execution_count": 27,
   "outputs": [
    {
     "name": "stdout",
     "text": "1.0\n",
     "output_type": "stream"
    }
   ]
  },
  {
   "cell_type": "code",
   "metadata": {
    "cell_id": "f4afbe67666240b79cd86e11c4bf09db",
    "tags": [],
    "deepnote_to_be_reexecuted": false,
    "source_hash": "8dfa09a5",
    "execution_start": 1649015292438,
    "execution_millis": 33277,
    "deepnote_cell_type": "code",
    "deepnote_cell_height": 608.265625,
    "deepnote_output_heights": [
     403.265625
    ]
   },
   "source": "model, train_score, val_score = learning_curve(classifier_RF, x_train, y_train, \n                                            scoring='f1',cv=10, train_sizes=np.linspace(0.1,1,10))\n\nplt.figure(figsize=(15,7))\nplt.plot(model, train_score.mean(axis=1), label='train score')\nplt.plot(model, val_score.mean(axis=1), label='validation score')\nplt.show()",
   "execution_count": 28,
   "outputs": [
    {
     "data": {
      "text/plain": "<Figure size 1080x504 with 1 Axes>",
      "image/png": "[encoded data removed]"
     },
     "metadata": {
      "needs_background": "light",
      "image/png": {
       "width": 887,
       "height": 411
      }
     },
     "output_type": "display_data"
    }
   ]
  },
  {
   "cell_type": "markdown",
   "source": "###### ___KNN___",
   "metadata": {
    "cell_id": "d50d98bdf30c40c7b83a10d2f8a78b1f",
    "tags": [],
    "deepnote_cell_type": "markdown",
    "deepnote_cell_height": 52
   }
  },
  {
   "cell_type": "code",
   "metadata": {
    "cell_id": "3129edb7866e484fae3ccd25b4a5e483",
    "tags": [],
    "deepnote_to_be_reexecuted": false,
    "source_hash": "3f343c4e",
    "execution_start": 1649015325242,
    "execution_millis": 1442,
    "deepnote_cell_type": "code",
    "deepnote_cell_height": 130
   },
   "source": "classifier_knn = KNeighborsClassifier(n_neighbors=53)\nprint(cross_val_score(classifier_knn, x_train, y_train, cv=10, scoring='accuracy').mean())",
   "execution_count": 29,
   "outputs": [
    {
     "name": "stdout",
     "text": "0.9816329806751469\n",
     "output_type": "stream"
    }
   ]
  },
  {
   "cell_type": "code",
   "metadata": {
    "cell_id": "b903bddb60a24dc0b9573cdd22582b54",
    "tags": [],
    "deepnote_to_be_reexecuted": false,
    "source_hash": "1c764fe",
    "execution_start": 1649015326689,
    "execution_millis": 57763,
    "deepnote_cell_type": "code",
    "deepnote_cell_height": 611.453125,
    "deepnote_output_heights": [
     406.453125
    ]
   },
   "source": "model, train_score, val_score = learning_curve(classifier_knn, x_train, y_train, \n                                            scoring='f1',cv=10, train_sizes=np.linspace(0.1,1,10))\n\nplt.figure(figsize=(15,7))\nplt.plot(model, train_score.mean(axis=1), label='train score')\nplt.plot(model, val_score.mean(axis=1), label='validation score')\nplt.show()",
   "execution_count": 30,
   "outputs": [
    {
     "data": {
      "text/plain": "<Figure size 1080x504 with 1 Axes>",
      "image/png": "[encoded data removed]"
     },
     "metadata": {
      "needs_background": "light",
      "image/png": {
       "width": 880,
       "height": 411
      }
     },
     "output_type": "display_data"
    }
   ]
  },
  {
   "cell_type": "markdown",
   "source": "###### ___Stochastic Gradient Descent___",
   "metadata": {
    "cell_id": "9745f83dd4a245d2ac09909b1d6b242a",
    "tags": [],
    "deepnote_cell_type": "markdown",
    "deepnote_cell_height": 52
   }
  },
  {
   "cell_type": "code",
   "metadata": {
    "cell_id": "4a5d455be9214772b20747ef57e73372",
    "tags": [],
    "deepnote_to_be_reexecuted": false,
    "source_hash": "5c81f921",
    "execution_start": 1649015384447,
    "execution_millis": 549,
    "deepnote_cell_type": "code",
    "deepnote_cell_height": 130
   },
   "source": "classifier_SGDC = SGDClassifier()\nprint(cross_val_score(classifier_SGDC, x_train, y_train, cv=10, scoring='accuracy').mean())",
   "execution_count": 31,
   "outputs": [
    {
     "name": "stdout",
     "text": "0.9753806873776909\n",
     "output_type": "stream"
    }
   ]
  },
  {
   "cell_type": "code",
   "metadata": {
    "cell_id": "e0848427a9674a3ab3874b6fe14159d4",
    "tags": [],
    "deepnote_to_be_reexecuted": false,
    "source_hash": "d959dc6e",
    "execution_start": 1649015385015,
    "execution_millis": 4414,
    "deepnote_cell_type": "code",
    "deepnote_cell_height": 611.453125,
    "deepnote_output_heights": [
     406.453125
    ]
   },
   "source": "model, train_score, val_score = learning_curve(classifier_SGDC, x_train, y_train, \n                                            scoring='f1',cv=8, train_sizes=np.linspace(0.1,1,10))\n\nplt.figure(figsize=(15,7))\nplt.plot(model, train_score.mean(axis=1), label='train score')\nplt.plot(model, val_score.mean(axis=1), label='validation score')\nplt.show()",
   "execution_count": 32,
   "outputs": [
    {
     "data": {
      "text/plain": "<Figure size 1080x504 with 1 Axes>",
      "image/png": "[encoded data removed]"
     },
     "metadata": {
      "needs_background": "light",
      "image/png": {
       "width": 880,
       "height": 411
      }
     },
     "output_type": "display_data"
    }
   ]
  },
  {
   "cell_type": "markdown",
   "source": "###### ___Logistic regression___",
   "metadata": {
    "cell_id": "8f434ed9fa944b56bc21df3b371a4d1a",
    "tags": [],
    "deepnote_cell_type": "markdown",
    "deepnote_cell_height": 52
   }
  },
  {
   "cell_type": "code",
   "metadata": {
    "cell_id": "0e2ab5e46f1045bf949ee6f2ece93234",
    "tags": [],
    "deepnote_to_be_reexecuted": false,
    "source_hash": "9cd56600",
    "execution_start": 1649015389277,
    "execution_millis": 3907,
    "deepnote_cell_type": "code",
    "deepnote_cell_height": 166
   },
   "source": "classifier_LR = LogisticRegression()\n#print(\"Accuracy of Logistic Regression model is:\",\n#metrics.accuracy_score(y_test, y_pred)*100)\nprint(cross_val_score(classifier_LR, x_train, y_train, cv=10, scoring='accuracy').mean())",
   "execution_count": 33,
   "outputs": [
    {
     "name": "stdout",
     "text": "0.9536922089041096\n",
     "output_type": "stream"
    }
   ]
  },
  {
   "cell_type": "code",
   "metadata": {
    "cell_id": "0554904011274f6c91e4ca422839f493",
    "tags": [],
    "deepnote_to_be_reexecuted": false,
    "source_hash": "730ca9fc",
    "execution_start": 1649015393199,
    "execution_millis": 33386,
    "deepnote_cell_type": "code",
    "deepnote_cell_height": 606,
    "deepnote_output_heights": [
     400.5625
    ]
   },
   "source": "model, train_score, val_score = learning_curve(classifier_LR, x_train, y_train, \n                                            scoring='f1',cv=10, train_sizes=np.linspace(0.1,1,10))\n\nplt.figure(figsize=(15,7))\nplt.plot(model, train_score.mean(axis=1), label='train score')\nplt.plot(model, val_score.mean(axis=1), label='validation score')\nplt.show()",
   "execution_count": 34,
   "outputs": [
    {
     "data": {
      "text/plain": "<Figure size 1080x504 with 1 Axes>",
      "image/png": "[encoded data removed]"
     },
     "metadata": {
      "needs_background": "light",
      "image/png": {
       "width": 893,
       "height": 411
      }
     },
     "output_type": "display_data"
    }
   ]
  },
  {
   "cell_type": "markdown",
   "source": "###### ___Naive Bayes___",
   "metadata": {
    "cell_id": "ff83a25665cf4ca48988fc4b714993ee",
    "tags": [],
    "deepnote_cell_type": "markdown",
    "deepnote_cell_height": 52
   }
  },
  {
   "cell_type": "code",
   "metadata": {
    "cell_id": "21ff4668ba7e47659d4b0d907f2c24d5",
    "tags": [],
    "deepnote_to_be_reexecuted": false,
    "source_hash": "8922f3d5",
    "execution_start": 1649015426583,
    "execution_millis": 59,
    "deepnote_cell_type": "code",
    "deepnote_cell_height": 130
   },
   "source": "classifier_NB = GaussianNB()\nprint(cross_val_score(classifier_NB, x_train, y_train, cv=10, scoring='accuracy').mean())",
   "execution_count": 35,
   "outputs": [
    {
     "name": "stdout",
     "text": "0.9130511558219178\n",
     "output_type": "stream"
    }
   ]
  },
  {
   "cell_type": "code",
   "metadata": {
    "cell_id": "8780b2f9e2294e329170967dc1663f34",
    "tags": [],
    "deepnote_to_be_reexecuted": false,
    "source_hash": "b5a265c0",
    "execution_start": 1649015426640,
    "execution_millis": 792,
    "deepnote_cell_type": "code",
    "deepnote_cell_height": 611.1875,
    "deepnote_output_heights": [
     406.1875
    ]
   },
   "source": "model, train_score, val_score = learning_curve(classifier_NB, x_train, y_train, \n                                            scoring='f1',cv=5, train_sizes=np.linspace(0.1,1,10))\n\nplt.figure(figsize=(15,7))\nplt.plot(model, train_score.mean(axis=1), label='train score')\nplt.plot(model, val_score.mean(axis=1), label='validation score')\nplt.show()",
   "execution_count": 36,
   "outputs": [
    {
     "data": {
      "text/plain": "<Figure size 1080x504 with 1 Axes>",
      "image/png": "[encoded data removed]"
     },
     "metadata": {
      "needs_background": "light",
      "image/png": {
       "width": 887,
       "height": 414
      }
     },
     "output_type": "display_data"
    }
   ]
  },
  {
   "cell_type": "markdown",
   "source": "# ___Caractéristique___",
   "metadata": {
    "cell_id": "33133eae4d2a41a69f5ccd011185a3c0",
    "tags": [],
    "deepnote_cell_type": "markdown",
    "deepnote_cell_height": 82
   }
  },
  {
   "cell_type": "code",
   "metadata": {
    "cell_id": "82ba14a2652f4417a5183ab4ad223bb4",
    "tags": [],
    "deepnote_to_be_reexecuted": false,
    "source_hash": "6b4d6ed5",
    "execution_start": 1649015427434,
    "execution_millis": 12,
    "deepnote_cell_type": "code",
    "deepnote_cell_height": 118,
    "deepnote_output_heights": [
     21
    ]
   },
   "source": "x_train.shape",
   "execution_count": 37,
   "outputs": [
    {
     "output_type": "execute_result",
     "execution_count": 37,
     "data": {
      "text/plain": "(5118, 21)"
     },
     "metadata": {}
    }
   ]
  },
  {
   "cell_type": "code",
   "metadata": {
    "cell_id": "98709546adf44e1eaa0c2c3e214fd7e3",
    "tags": [],
    "deepnote_to_be_reexecuted": false,
    "source_hash": "48979a49",
    "execution_start": 1649015427444,
    "execution_millis": 44028,
    "deepnote_cell_type": "code",
    "deepnote_cell_height": 263,
    "deepnote_output_heights": [
     40
    ]
   },
   "source": "#select our trasformator ----> apply logistic regression because is the good model & we want to optimise\nfrom sklearn.feature_selection import RFECV\nselectors = RFECV(LogisticRegression(random_state=0),\n                                    step=1, #features delete after each iteration\n                                    min_features_to_select=10, # minimal features we want to add at the end\n                                    cv=10) \nselectors.fit(x_train, y_train)\nselectors.ranking_ #get the place of each features",
   "execution_count": 38,
   "outputs": [
    {
     "output_type": "execute_result",
     "execution_count": 38,
     "data": {
      "text/plain": "array([11,  3,  8, 10,  1,  1,  1,  1,  2,  6,  1,  1,  9,  4,  5,  1,  1,\n        1,  1,  1,  7])"
     },
     "metadata": {}
    }
   ]
  },
  {
   "cell_type": "code",
   "metadata": {
    "cell_id": "d535a70f26a54ae29ac33ccfeb8a2704",
    "tags": [],
    "deepnote_to_be_reexecuted": false,
    "source_hash": "b994e385",
    "execution_start": 1649015471479,
    "execution_millis": 64,
    "deepnote_cell_type": "code",
    "deepnote_cell_height": 156,
    "deepnote_output_heights": [
     59
    ]
   },
   "source": "selectors.get_support() #witch features are selected",
   "execution_count": 39,
   "outputs": [
    {
     "output_type": "execute_result",
     "execution_count": 39,
     "data": {
      "text/plain": "array([False, False, False, False,  True,  True,  True,  True, False,\n       False,  True,  True, False, False, False,  True,  True,  True,\n        True,  True, False])"
     },
     "metadata": {}
    }
   ]
  },
  {
   "cell_type": "code",
   "metadata": {
    "cell_id": "8e4817c6436b4c418a29e34ba56b007d",
    "tags": [],
    "deepnote_to_be_reexecuted": false,
    "source_hash": "9a2af62b",
    "execution_start": 1649015626073,
    "execution_millis": 282,
    "deepnote_cell_type": "code",
    "deepnote_cell_height": 778,
    "deepnote_output_heights": [
     null,
     458
    ]
   },
   "source": "selectors.grid_scores_ #get the score of each iteration",
   "execution_count": 49,
   "outputs": [
    {
     "name": "stderr",
     "text": "/shared-libs/python3.9/py/lib/python3.9/site-packages/sklearn/utils/deprecation.py:103: FutureWarning: The `grid_scores_` attribute is deprecated in version 1.0 in favor of `cv_results_` and will be removed in version 1.2.\n  warnings.warn(msg, category=FutureWarning)\n",
     "output_type": "stream"
    },
    {
     "output_type": "execute_result",
     "execution_count": 49,
     "data": {
      "text/plain": "array([[0.9609375 , 0.9453125 , 0.94921875, 0.95117188, 0.93164062,\n        0.96289062, 0.93359375, 0.94921875, 0.95303327, 0.94520548],\n       [0.9609375 , 0.94726562, 0.95898438, 0.94726562, 0.94726562,\n        0.96875   , 0.95703125, 0.95507812, 0.95107632, 0.95107632],\n       [0.95703125, 0.94921875, 0.953125  , 0.95703125, 0.9453125 ,\n        0.96484375, 0.95507812, 0.94921875, 0.95499022, 0.94911937],\n       [0.95898438, 0.95117188, 0.95898438, 0.953125  , 0.9453125 ,\n        0.96679688, 0.95507812, 0.95507812, 0.95107632, 0.94911937],\n       [0.9609375 , 0.95117188, 0.95507812, 0.94921875, 0.94140625,\n        0.96484375, 0.95117188, 0.953125  , 0.94911937, 0.95303327],\n       [0.95703125, 0.95117188, 0.953125  , 0.94921875, 0.94140625,\n        0.96875   , 0.94921875, 0.95507812, 0.94911937, 0.95303327],\n       [0.95703125, 0.95117188, 0.953125  , 0.953125  , 0.94140625,\n        0.96875   , 0.95507812, 0.95703125, 0.94716243, 0.95303327],\n       [0.95898438, 0.95117188, 0.953125  , 0.94335938, 0.94335938,\n        0.96679688, 0.95507812, 0.95898438, 0.94716243, 0.95499022],\n       [0.95898438, 0.95117188, 0.953125  , 0.9453125 , 0.9453125 ,\n        0.97070312, 0.95507812, 0.95898438, 0.94911937, 0.95499022],\n       [0.95898438, 0.95117188, 0.95507812, 0.9453125 , 0.9453125 ,\n        0.97070312, 0.95507812, 0.95703125, 0.94911937, 0.95499022],\n       [0.95898438, 0.953125  , 0.95117188, 0.94335938, 0.9453125 ,\n        0.96875   , 0.953125  , 0.95703125, 0.94716243, 0.95499022],\n       [0.95898438, 0.953125  , 0.953125  , 0.94335938, 0.9453125 ,\n        0.96875   , 0.953125  , 0.95703125, 0.94911937, 0.95499022]])"
     },
     "metadata": {}
    }
   ]
  },
  {
   "cell_type": "markdown",
   "source": "# Conclusion",
   "metadata": {
    "cell_id": "99a2c7466014404bacf2448bb77f0f94",
    "tags": [],
    "is_collapsed": false,
    "deepnote_cell_type": "text-cell-h1"
   }
  },
  {
   "cell_type": "markdown",
   "source": "##### Quels types de modèles d'apprentissage automatique fonctionnent le mieux sur cet ensemble de données ?\n\nNous avons observers de tres bon model d'apprentissage mais pour eviter des cas d'under/overfitting le meilleur model c'est la regression logistique\n\n\n##### Quelles sont les caractéristiques les plus indicatives d'un champignon toxique ? \n\n\n\n\n    'Odor','Gill-attachment', 'Gill-spacing', \n    'Gill-size', 'Stalk-root', 'Stalk-surface-above-ring',\n    'Veil-color', 'Ring-number', 'Ring-type',\n    'Spore-print-color', 'Population'\n",
   "metadata": {
    "cell_id": "ec0b32474f4343368df03ac529daee78",
    "tags": [],
    "deepnote_cell_type": "markdown",
    "deepnote_cell_height": 266
   }
  },
  {
   "cell_type": "markdown",
   "source": "<a style='text-decoration:none;line-height:16px;display:flex;color:#5B5B62;padding:10px;justify-content:end;' href='https://deepnote.com?utm_source=created-in-deepnote-cell&projectId=e5820e14-f512-439e-8bfb-57003b643a6f' target=\"_blank\">\n<img alt='Created in deepnote.com' style='display:inline;max-height:16px;margin:0px;margin-right:7.5px;' src='data:image/svg+xml;base64,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' > </img>\nCreated in <span style='font-weight:600;margin-left:4px;'>Deepnote</span></a>",
   "metadata": {
    "tags": [],
    "created_in_deepnote_cell": true,
    "deepnote_cell_type": "markdown"
   }
  }
 ],
 "nbformat": 4,
 "nbformat_minor": 2,
 "metadata": {
  "orig_nbformat": 2,
  "deepnote": {
   "is_reactive": false
  },
  "deepnote_notebook_id": "3a7216bf-7030-46f8-a343-70535b789d3c",
  "deepnote_execution_queue": []
 }
}