{
 "cells": [
  {
   "cell_type": "markdown",
   "source": "# ___IMPORTATION___",
   "metadata": {
    "tags": [],
    "cell_id": "78d2db80-5780-4f39-b916-59e7ba42f53f",
    "deepnote_cell_type": "markdown",
    "deepnote_cell_height": 82
   }
  },
  {
   "cell_type": "code",
   "metadata": {
    "tags": [],
    "deepnote_to_be_reexecuted": false,
    "source_hash": "2f40decb",
    "execution_start": 1648424896974,
    "execution_millis": 2506,
    "cell_id": "00001-a50bceac-28cf-46eb-ad9f-781dda903834",
    "deepnote_cell_type": "code",
    "deepnote_cell_height": 261
   },
   "source": "import numpy as np\nimport pandas as pd\nimport seaborn as sb\nimport matplotlib.pyplot as plt\nfrom sklearn.preprocessing import LabelEncoder, StandardScaler\nfrom sklearn.model_selection import train_test_split\nfrom sklearn.neighbors import KNeighborsClassifier\nimport math\nfrom sklearn.metrics import confusion_matrix,accuracy_score,f1_score\nfrom sklearn.metrics import ConfusionMatrixDisplay\nfrom sklearn.svm import SVC",
   "execution_count": null,
   "outputs": []
  },
  {
   "cell_type": "code",
   "metadata": {
    "tags": [],
    "deepnote_to_be_reexecuted": false,
    "source_hash": "a6831bef",
    "execution_start": 1648424899486,
    "execution_millis": 168,
    "cell_id": "00002-ffbcd3e5-ce1f-421c-942d-5fa2cb244051",
    "deepnote_cell_type": "code",
    "deepnote_cell_height": 598
   },
   "source": "df = pd.read_csv(\"mushrooms.csv\");df",
   "execution_count": null,
   "outputs": [
    {
     "output_type": "execute_result",
     "execution_count": 2,
     "data": {
      "application/vnd.deepnote.dataframe.v3+json": {
       "column_count": 23,
       "row_count": 8124,
       "columns": [
        {
         "name": "class",
         "dtype": "object",
         "stats": {
          "unique_count": 2,
          "nan_count": 0,
          "categories": [
           {
            "name": "e",
            "count": 4208
           },
           {
            "name": "p",
            "count": 3916
           }
          ]
         }
        },
        {
         "name": "cap-shape",
         "dtype": "object",
         "stats": {
          "unique_count": 6,
          "nan_count": 0,
          "categories": [
           {
            "name": "x",
            "count": 3656
           },
           {
            "name": "f",
            "count": 3152
           },
           {
            "name": "4 others",
            "count": 1316
           }
          ]
         }
        },
        {
         "name": "cap-surface",
         "dtype": "object",
         "stats": {
          "unique_count": 4,
          "nan_count": 0,
          "categories": [
           {
            "name": "y",
            "count": 3244
           },
           {
            "name": "s",
            "count": 2556
           },
           {
            "name": "2 others",
            "count": 2324
           }
          ]
         }
        },
        {
         "name": "cap-color",
         "dtype": "object",
         "stats": {
          "unique_count": 10,
          "nan_count": 0,
          "categories": [
           {
            "name": "n",
            "count": 2284
           },
           {
            "name": "g",
            "count": 1840
           },
           {
            "name": "8 others",
            "count": 4000
           }
          ]
         }
        },
        {
         "name": "bruises",
         "dtype": "object",
         "stats": {
          "unique_count": 2,
          "nan_count": 0,
          "categories": [
           {
            "name": "f",
            "count": 4748
           },
           {
            "name": "t",
            "count": 3376
           }
          ]
         }
        },
        {
         "name": "odor",
         "dtype": "object",
         "stats": {
          "unique_count": 9,
          "nan_count": 0,
          "categories": [
           {
            "name": "n",
            "count": 3528
           },
           {
            "name": "f",
            "count": 2160
           },
           {
            "name": "7 others",
            "count": 2436
           }
          ]
         }
        },
        {
         "name": "gill-attachment",
         "dtype": "object",
         "stats": {
          "unique_count": 2,
          "nan_count": 0,
          "categories": [
           {
            "name": "f",
            "count": 7914
           },
           {
            "name": "a",
            "count": 210
           }
          ]
         }
        },
        {
         "name": "gill-spacing",
         "dtype": "object",
         "stats": {
          "unique_count": 2,
          "nan_count": 0,
          "categories": [
           {
            "name": "c",
            "count": 6812
           },
           {
            "name": "w",
            "count": 1312
           }
          ]
         }
        },
        {
         "name": "gill-size",
         "dtype": "object",
         "stats": {
          "unique_count": 2,
          "nan_count": 0,
          "categories": [
           {
            "name": "b",
            "count": 5612
           },
           {
            "name": "n",
            "count": 2512
           }
          ]
         }
        },
        {
         "name": "gill-color",
         "dtype": "object",
         "stats": {
          "unique_count": 12,
          "nan_count": 0,
          "categories": [
           {
            "name": "b",
            "count": 1728
           },
           {
            "name": "p",
            "count": 1492
           },
           {
            "name": "10 others",
            "count": 4904
           }
          ]
         }
        },
        {
         "name": "stalk-shape",
         "dtype": "object",
         "stats": {
          "unique_count": 2,
          "nan_count": 0,
          "categories": [
           {
            "name": "t",
            "count": 4608
           },
           {
            "name": "e",
            "count": 3516
           }
          ]
         }
        },
        {
         "name": "stalk-root",
         "dtype": "object",
         "stats": {
          "unique_count": 5,
          "nan_count": 0,
          "categories": [
           {
            "name": "b",
            "count": 3776
           },
           {
            "name": "?",
            "count": 2480
           },
           {
            "name": "3 others",
            "count": 1868
           }
          ]
         }
        },
        {
         "name": "stalk-surface-above-ring",
         "dtype": "object"
        },
        {
         "name": "stalk-surface-below-ring",
         "dtype": "object"
        },
        {
         "name": "stalk-color-above-ring",
         "dtype": "object"
        },
        {
         "name": "stalk-color-below-ring",
         "dtype": "object"
        },
        {
         "name": "veil-type",
         "dtype": "object"
        },
        {
         "name": "veil-color",
         "dtype": "object"
        },
        {
         "name": "ring-number",
         "dtype": "object"
        },
        {
         "name": "ring-type",
         "dtype": "object"
        },
        {
         "name": "spore-print-color",
         "dtype": "object"
        },
        {
         "name": "population",
         "dtype": "object"
        },
        {
         "name": "habitat",
         "dtype": "object"
        },
        {
         "name": "_deepnote_index_column",
         "dtype": "int64"
        }
       ],
       "rows": [
        {
         "class": "p",
         "cap-shape": "x",
         "cap-surface": "s",
         "cap-color": "n",
         "bruises": "t",
         "odor": "p",
         "gill-attachment": "f",
         "gill-spacing": "c",
         "gill-size": "n",
         "gill-color": "k",
         "stalk-shape": "e",
         "stalk-root": "e",
         "stalk-surface-above-ring": "s",
         "stalk-surface-below-ring": "s",
         "stalk-color-above-ring": "w",
         "stalk-color-below-ring": "w",
         "veil-type": "p",
         "veil-color": "w",
         "ring-number": "o",
         "ring-type": "p",
         "spore-print-color": "k",
         "population": "s",
         "habitat": "u",
         "_deepnote_index_column": 0
        },
        {
         "class": "e",
         "cap-shape": "x",
         "cap-surface": "s",
         "cap-color": "y",
         "bruises": "t",
         "odor": "a",
         "gill-attachment": "f",
         "gill-spacing": "c",
         "gill-size": "b",
         "gill-color": "k",
         "stalk-shape": "e",
         "stalk-root": "c",
         "stalk-surface-above-ring": "s",
         "stalk-surface-below-ring": "s",
         "stalk-color-above-ring": "w",
         "stalk-color-below-ring": "w",
         "veil-type": "p",
         "veil-color": "w",
         "ring-number": "o",
         "ring-type": "p",
         "spore-print-color": "n",
         "population": "n",
         "habitat": "g",
         "_deepnote_index_column": 1
        },
        {
         "class": "e",
         "cap-shape": "b",
         "cap-surface": "s",
         "cap-color": "w",
         "bruises": "t",
         "odor": "l",
         "gill-attachment": "f",
         "gill-spacing": "c",
         "gill-size": "b",
         "gill-color": "n",
         "stalk-shape": "e",
         "stalk-root": "c",
         "stalk-surface-above-ring": "s",
         "stalk-surface-below-ring": "s",
         "stalk-color-above-ring": "w",
         "stalk-color-below-ring": "w",
         "veil-type": "p",
         "veil-color": "w",
         "ring-number": "o",
         "ring-type": "p",
         "spore-print-color": "n",
         "population": "n",
         "habitat": "m",
         "_deepnote_index_column": 2
        },
        {
         "class": "p",
         "cap-shape": "x",
         "cap-surface": "y",
         "cap-color": "w",
         "bruises": "t",
         "odor": "p",
         "gill-attachment": "f",
         "gill-spacing": "c",
         "gill-size": "n",
         "gill-color": "n",
         "stalk-shape": "e",
         "stalk-root": "e",
         "stalk-surface-above-ring": "s",
         "stalk-surface-below-ring": "s",
         "stalk-color-above-ring": "w",
         "stalk-color-below-ring": "w",
         "veil-type": "p",
         "veil-color": "w",
         "ring-number": "o",
         "ring-type": "p",
         "spore-print-color": "k",
         "population": "s",
         "habitat": "u",
         "_deepnote_index_column": 3
        },
        {
         "class": "e",
         "cap-shape": "x",
         "cap-surface": "s",
         "cap-color": "g",
         "bruises": "f",
         "odor": "n",
         "gill-attachment": "f",
         "gill-spacing": "w",
         "gill-size": "b",
         "gill-color": "k",
         "stalk-shape": "t",
         "stalk-root": "e",
         "stalk-surface-above-ring": "s",
         "stalk-surface-below-ring": "s",
         "stalk-color-above-ring": "w",
         "stalk-color-below-ring": "w",
         "veil-type": "p",
         "veil-color": "w",
         "ring-number": "o",
         "ring-type": "e",
         "spore-print-color": "n",
         "population": "a",
         "habitat": "g",
         "_deepnote_index_column": 4
        },
        {
         "class": "e",
         "cap-shape": "x",
         "cap-surface": "y",
         "cap-color": "y",
         "bruises": "t",
         "odor": "a",
         "gill-attachment": "f",
         "gill-spacing": "c",
         "gill-size": "b",
         "gill-color": "n",
         "stalk-shape": "e",
         "stalk-root": "c",
         "stalk-surface-above-ring": "s",
         "stalk-surface-below-ring": "s",
         "stalk-color-above-ring": "w",
         "stalk-color-below-ring": "w",
         "veil-type": "p",
         "veil-color": "w",
         "ring-number": "o",
         "ring-type": "p",
         "spore-print-color": "k",
         "population": "n",
         "habitat": "g",
         "_deepnote_index_column": 5
        },
        {
         "class": "e",
         "cap-shape": "b",
         "cap-surface": "s",
         "cap-color": "w",
         "bruises": "t",
         "odor": "a",
         "gill-attachment": "f",
         "gill-spacing": "c",
         "gill-size": "b",
         "gill-color": "g",
         "stalk-shape": "e",
         "stalk-root": "c",
         "stalk-surface-above-ring": "s",
         "stalk-surface-below-ring": "s",
         "stalk-color-above-ring": "w",
         "stalk-color-below-ring": "w",
         "veil-type": "p",
         "veil-color": "w",
         "ring-number": "o",
         "ring-type": "p",
         "spore-print-color": "k",
         "population": "n",
         "habitat": "m",
         "_deepnote_index_column": 6
        },
        {
         "class": "e",
         "cap-shape": "b",
         "cap-surface": "y",
         "cap-color": "w",
         "bruises": "t",
         "odor": "l",
         "gill-attachment": "f",
         "gill-spacing": "c",
         "gill-size": "b",
         "gill-color": "n",
         "stalk-shape": "e",
         "stalk-root": "c",
         "stalk-surface-above-ring": "s",
         "stalk-surface-below-ring": "s",
         "stalk-color-above-ring": "w",
         "stalk-color-below-ring": "w",
         "veil-type": "p",
         "veil-color": "w",
         "ring-number": "o",
         "ring-type": "p",
         "spore-print-color": "n",
         "population": "s",
         "habitat": "m",
         "_deepnote_index_column": 7
        },
        {
         "class": "p",
         "cap-shape": "x",
         "cap-surface": "y",
         "cap-color": "w",
         "bruises": "t",
         "odor": "p",
         "gill-attachment": "f",
         "gill-spacing": "c",
         "gill-size": "n",
         "gill-color": "p",
         "stalk-shape": "e",
         "stalk-root": "e",
         "stalk-surface-above-ring": "s",
         "stalk-surface-below-ring": "s",
         "stalk-color-above-ring": "w",
         "stalk-color-below-ring": "w",
         "veil-type": "p",
         "veil-color": "w",
         "ring-number": "o",
         "ring-type": "p",
         "spore-print-color": "k",
         "population": "v",
         "habitat": "g",
         "_deepnote_index_column": 8
        },
        {
         "class": "e",
         "cap-shape": "b",
         "cap-surface": "s",
         "cap-color": "y",
         "bruises": "t",
         "odor": "a",
         "gill-attachment": "f",
         "gill-spacing": "c",
         "gill-size": "b",
         "gill-color": "g",
         "stalk-shape": "e",
         "stalk-root": "c",
         "stalk-surface-above-ring": "s",
         "stalk-surface-below-ring": "s",
         "stalk-color-above-ring": "w",
         "stalk-color-below-ring": "w",
         "veil-type": "p",
         "veil-color": "w",
         "ring-number": "o",
         "ring-type": "p",
         "spore-print-color": "k",
         "population": "s",
         "habitat": "m",
         "_deepnote_index_column": 9
        }
       ]
      },
      "text/plain": "     class cap-shape cap-surface cap-color bruises odor gill-attachment  \\\n0        p         x           s         n       t    p               f   \n1        e         x           s         y       t    a               f   \n2        e         b           s         w       t    l               f   \n3        p         x           y         w       t    p               f   \n4        e         x           s         g       f    n               f   \n...    ...       ...         ...       ...     ...  ...             ...   \n8119     e         k           s         n       f    n               a   \n8120     e         x           s         n       f    n               a   \n8121     e         f           s         n       f    n               a   \n8122     p         k           y         n       f    y               f   \n8123     e         x           s         n       f    n               a   \n\n     gill-spacing gill-size gill-color  ... stalk-surface-below-ring  \\\n0               c         n          k  ...                        s   \n1               c         b          k  ...                        s   \n2               c         b          n  ...                        s   \n3               c         n          n  ...                        s   \n4               w         b          k  ...                        s   \n...           ...       ...        ...  ...                      ...   \n8119            c         b          y  ...                        s   \n8120            c         b          y  ...                        s   \n8121            c         b          n  ...                        s   \n8122            c         n          b  ...                        k   \n8123            c         b          y  ...                        s   \n\n     stalk-color-above-ring stalk-color-below-ring veil-type veil-color  \\\n0                         w                      w         p          w   \n1                         w                      w         p          w   \n2                         w                      w         p          w   \n3                         w                      w         p          w   \n4                         w                      w         p          w   \n...                     ...                    ...       ...        ...   \n8119                      o                      o         p          o   \n8120                      o                      o         p          n   \n8121                      o                      o         p          o   \n8122                      w                      w         p          w   \n8123                      o                      o         p          o   \n\n     ring-number ring-type spore-print-color population habitat  \n0              o         p                 k          s       u  \n1              o         p                 n          n       g  \n2              o         p                 n          n       m  \n3              o         p                 k          s       u  \n4              o         e                 n          a       g  \n...          ...       ...               ...        ...     ...  \n8119           o         p                 b          c       l  \n8120           o         p                 b          v       l  \n8121           o         p                 b          c       l  \n8122           o         e                 w          v       l  \n8123           o         p                 o          c       l  \n\n[8124 rows x 23 columns]",
      "text/html": "<div>\n<style scoped>\n    .dataframe tbody tr th:only-of-type {\n        vertical-align: middle;\n    }\n\n    .dataframe tbody tr th {\n        vertical-align: top;\n    }\n\n    .dataframe thead th {\n        text-align: right;\n    }\n</style>\n<table border=\"1\" class=\"dataframe\">\n  <thead>\n    <tr style=\"text-align: right;\">\n      <th></th>\n      <th>class</th>\n      <th>cap-shape</th>\n      <th>cap-surface</th>\n      <th>cap-color</th>\n      <th>bruises</th>\n      <th>odor</th>\n      <th>gill-attachment</th>\n      <th>gill-spacing</th>\n      <th>gill-size</th>\n      <th>gill-color</th>\n      <th>...</th>\n      <th>stalk-surface-below-ring</th>\n      <th>stalk-color-above-ring</th>\n      <th>stalk-color-below-ring</th>\n      <th>veil-type</th>\n      <th>veil-color</th>\n      <th>ring-number</th>\n      <th>ring-type</th>\n      <th>spore-print-color</th>\n      <th>population</th>\n      <th>habitat</th>\n    </tr>\n  </thead>\n  <tbody>\n    <tr>\n      <th>0</th>\n      <td>p</td>\n      <td>x</td>\n      <td>s</td>\n      <td>n</td>\n      <td>t</td>\n      <td>p</td>\n      <td>f</td>\n      <td>c</td>\n      <td>n</td>\n      <td>k</td>\n      <td>...</td>\n      <td>s</td>\n      <td>w</td>\n      <td>w</td>\n      <td>p</td>\n      <td>w</td>\n      <td>o</td>\n      <td>p</td>\n      <td>k</td>\n      <td>s</td>\n      <td>u</td>\n    </tr>\n    <tr>\n      <th>1</th>\n      <td>e</td>\n      <td>x</td>\n      <td>s</td>\n      <td>y</td>\n      <td>t</td>\n      <td>a</td>\n      <td>f</td>\n      <td>c</td>\n      <td>b</td>\n      <td>k</td>\n      <td>...</td>\n      <td>s</td>\n      <td>w</td>\n      <td>w</td>\n      <td>p</td>\n      <td>w</td>\n      <td>o</td>\n      <td>p</td>\n      <td>n</td>\n      <td>n</td>\n      <td>g</td>\n    </tr>\n    <tr>\n      <th>2</th>\n      <td>e</td>\n      <td>b</td>\n      <td>s</td>\n      <td>w</td>\n      <td>t</td>\n      <td>l</td>\n      <td>f</td>\n      <td>c</td>\n      <td>b</td>\n      <td>n</td>\n      <td>...</td>\n      <td>s</td>\n      <td>w</td>\n      <td>w</td>\n      <td>p</td>\n      <td>w</td>\n      <td>o</td>\n      <td>p</td>\n      <td>n</td>\n      <td>n</td>\n      <td>m</td>\n    </tr>\n    <tr>\n      <th>3</th>\n      <td>p</td>\n      <td>x</td>\n      <td>y</td>\n      <td>w</td>\n      <td>t</td>\n      <td>p</td>\n      <td>f</td>\n      <td>c</td>\n      <td>n</td>\n      <td>n</td>\n      <td>...</td>\n      <td>s</td>\n      <td>w</td>\n      <td>w</td>\n      <td>p</td>\n      <td>w</td>\n      <td>o</td>\n      <td>p</td>\n      <td>k</td>\n      <td>s</td>\n      <td>u</td>\n    </tr>\n    <tr>\n      <th>4</th>\n      <td>e</td>\n      <td>x</td>\n      <td>s</td>\n      <td>g</td>\n      <td>f</td>\n      <td>n</td>\n      <td>f</td>\n      <td>w</td>\n      <td>b</td>\n      <td>k</td>\n      <td>...</td>\n      <td>s</td>\n      <td>w</td>\n      <td>w</td>\n      <td>p</td>\n      <td>w</td>\n      <td>o</td>\n      <td>e</td>\n      <td>n</td>\n      <td>a</td>\n      <td>g</td>\n    </tr>\n    <tr>\n      <th>...</th>\n      <td>...</td>\n      <td>...</td>\n      <td>...</td>\n      <td>...</td>\n      <td>...</td>\n      <td>...</td>\n      <td>...</td>\n      <td>...</td>\n      <td>...</td>\n      <td>...</td>\n      <td>...</td>\n      <td>...</td>\n      <td>...</td>\n      <td>...</td>\n      <td>...</td>\n      <td>...</td>\n      <td>...</td>\n      <td>...</td>\n      <td>...</td>\n      <td>...</td>\n      <td>...</td>\n    </tr>\n    <tr>\n      <th>8119</th>\n      <td>e</td>\n      <td>k</td>\n      <td>s</td>\n      <td>n</td>\n      <td>f</td>\n      <td>n</td>\n      <td>a</td>\n      <td>c</td>\n      <td>b</td>\n      <td>y</td>\n      <td>...</td>\n      <td>s</td>\n      <td>o</td>\n      <td>o</td>\n      <td>p</td>\n      <td>o</td>\n      <td>o</td>\n      <td>p</td>\n      <td>b</td>\n      <td>c</td>\n      <td>l</td>\n    </tr>\n    <tr>\n      <th>8120</th>\n      <td>e</td>\n      <td>x</td>\n      <td>s</td>\n      <td>n</td>\n      <td>f</td>\n      <td>n</td>\n      <td>a</td>\n      <td>c</td>\n      <td>b</td>\n      <td>y</td>\n      <td>...</td>\n      <td>s</td>\n      <td>o</td>\n      <td>o</td>\n      <td>p</td>\n      <td>n</td>\n      <td>o</td>\n      <td>p</td>\n      <td>b</td>\n      <td>v</td>\n      <td>l</td>\n    </tr>\n    <tr>\n      <th>8121</th>\n      <td>e</td>\n      <td>f</td>\n      <td>s</td>\n      <td>n</td>\n      <td>f</td>\n      <td>n</td>\n      <td>a</td>\n      <td>c</td>\n      <td>b</td>\n      <td>n</td>\n      <td>...</td>\n      <td>s</td>\n      <td>o</td>\n      <td>o</td>\n      <td>p</td>\n      <td>o</td>\n      <td>o</td>\n      <td>p</td>\n      <td>b</td>\n      <td>c</td>\n      <td>l</td>\n    </tr>\n    <tr>\n      <th>8122</th>\n      <td>p</td>\n      <td>k</td>\n      <td>y</td>\n      <td>n</td>\n      <td>f</td>\n      <td>y</td>\n      <td>f</td>\n      <td>c</td>\n      <td>n</td>\n      <td>b</td>\n      <td>...</td>\n      <td>k</td>\n      <td>w</td>\n      <td>w</td>\n      <td>p</td>\n      <td>w</td>\n      <td>o</td>\n      <td>e</td>\n      <td>w</td>\n      <td>v</td>\n      <td>l</td>\n    </tr>\n    <tr>\n      <th>8123</th>\n      <td>e</td>\n      <td>x</td>\n      <td>s</td>\n      <td>n</td>\n      <td>f</td>\n      <td>n</td>\n      <td>a</td>\n      <td>c</td>\n      <td>b</td>\n      <td>y</td>\n      <td>...</td>\n      <td>s</td>\n      <td>o</td>\n      <td>o</td>\n      <td>p</td>\n      <td>o</td>\n      <td>o</td>\n      <td>p</td>\n      <td>o</td>\n      <td>c</td>\n      <td>l</td>\n    </tr>\n  </tbody>\n</table>\n<p>8124 rows × 23 columns</p>\n</div>"
     },
     "metadata": {}
    }
   ]
  },
  {
   "cell_type": "markdown",
   "source": "# ___EXPLORATION___",
   "metadata": {
    "tags": [],
    "cell_id": "00003-da7f7939-c830-4986-a16a-d5a08daa5f3e",
    "deepnote_cell_type": "markdown",
    "deepnote_cell_height": 82
   }
  },
  {
   "cell_type": "code",
   "metadata": {
    "tags": [],
    "deepnote_to_be_reexecuted": false,
    "source_hash": "f3dd26da",
    "execution_start": 1648424899664,
    "execution_millis": 12,
    "cell_id": "00004-c7e5e2b3-0950-4f48-9bc0-30a4a5272c75",
    "deepnote_cell_type": "code",
    "deepnote_cell_height": 555,
    "deepnote_output_heights": [
     458
    ]
   },
   "source": "df.isnull().sum()",
   "execution_count": null,
   "outputs": [
    {
     "output_type": "execute_result",
     "execution_count": 3,
     "data": {
      "text/plain": "class                       0\ncap-shape                   0\ncap-surface                 0\ncap-color                   0\nbruises                     0\nodor                        0\ngill-attachment             0\ngill-spacing                0\ngill-size                   0\ngill-color                  0\nstalk-shape                 0\nstalk-root                  0\nstalk-surface-above-ring    0\nstalk-surface-below-ring    0\nstalk-color-above-ring      0\nstalk-color-below-ring      0\nveil-type                   0\nveil-color                  0\nring-number                 0\nring-type                   0\nspore-print-color           0\npopulation                  0\nhabitat                     0\ndtype: int64"
     },
     "metadata": {}
    }
   ]
  },
  {
   "cell_type": "code",
   "metadata": {
    "tags": [],
    "deepnote_to_be_reexecuted": false,
    "source_hash": "f88152d9",
    "execution_start": 1648424899684,
    "execution_millis": 170,
    "cell_id": "00005-4a435267-0cc5-4944-815f-60125a034110",
    "deepnote_cell_type": "code",
    "deepnote_cell_height": 352
   },
   "source": "df.describe()",
   "execution_count": null,
   "outputs": [
    {
     "output_type": "execute_result",
     "execution_count": 4,
     "data": {
      "application/vnd.deepnote.dataframe.v3+json": {
       "column_count": 23,
       "row_count": 4,
       "columns": [
        {
         "name": "class",
         "dtype": "object",
         "stats": {
          "unique_count": 4,
          "nan_count": 0,
          "categories": [
           {
            "name": "8124",
            "count": 1
           },
           {
            "name": "2",
            "count": 1
           },
           {
            "name": "2 others",
            "count": 2
           }
          ]
         }
        },
        {
         "name": "cap-shape",
         "dtype": "object",
         "stats": {
          "unique_count": 4,
          "nan_count": 0,
          "categories": [
           {
            "name": "8124",
            "count": 1
           },
           {
            "name": "6",
            "count": 1
           },
           {
            "name": "2 others",
            "count": 2
           }
          ]
         }
        },
        {
         "name": "cap-surface",
         "dtype": "object",
         "stats": {
          "unique_count": 4,
          "nan_count": 0,
          "categories": [
           {
            "name": "8124",
            "count": 1
           },
           {
            "name": "4",
            "count": 1
           },
           {
            "name": "2 others",
            "count": 2
           }
          ]
         }
        },
        {
         "name": "cap-color",
         "dtype": "object",
         "stats": {
          "unique_count": 4,
          "nan_count": 0,
          "categories": [
           {
            "name": "8124",
            "count": 1
           },
           {
            "name": "10",
            "count": 1
           },
           {
            "name": "2 others",
            "count": 2
           }
          ]
         }
        },
        {
         "name": "bruises",
         "dtype": "object",
         "stats": {
          "unique_count": 4,
          "nan_count": 0,
          "categories": [
           {
            "name": "8124",
            "count": 1
           },
           {
            "name": "2",
            "count": 1
           },
           {
            "name": "2 others",
            "count": 2
           }
          ]
         }
        },
        {
         "name": "odor",
         "dtype": "object",
         "stats": {
          "unique_count": 4,
          "nan_count": 0,
          "categories": [
           {
            "name": "8124",
            "count": 1
           },
           {
            "name": "9",
            "count": 1
           },
           {
            "name": "2 others",
            "count": 2
           }
          ]
         }
        },
        {
         "name": "gill-attachment",
         "dtype": "object",
         "stats": {
          "unique_count": 4,
          "nan_count": 0,
          "categories": [
           {
            "name": "8124",
            "count": 1
           },
           {
            "name": "2",
            "count": 1
           },
           {
            "name": "2 others",
            "count": 2
           }
          ]
         }
        },
        {
         "name": "gill-spacing",
         "dtype": "object",
         "stats": {
          "unique_count": 4,
          "nan_count": 0,
          "categories": [
           {
            "name": "8124",
            "count": 1
           },
           {
            "name": "2",
            "count": 1
           },
           {
            "name": "2 others",
            "count": 2
           }
          ]
         }
        },
        {
         "name": "gill-size",
         "dtype": "object",
         "stats": {
          "unique_count": 4,
          "nan_count": 0,
          "categories": [
           {
            "name": "8124",
            "count": 1
           },
           {
            "name": "2",
            "count": 1
           },
           {
            "name": "2 others",
            "count": 2
           }
          ]
         }
        },
        {
         "name": "gill-color",
         "dtype": "object",
         "stats": {
          "unique_count": 4,
          "nan_count": 0,
          "categories": [
           {
            "name": "8124",
            "count": 1
           },
           {
            "name": "12",
            "count": 1
           },
           {
            "name": "2 others",
            "count": 2
           }
          ]
         }
        },
        {
         "name": "stalk-shape",
         "dtype": "object",
         "stats": {
          "unique_count": 4,
          "nan_count": 0,
          "categories": [
           {
            "name": "8124",
            "count": 1
           },
           {
            "name": "2",
            "count": 1
           },
           {
            "name": "2 others",
            "count": 2
           }
          ]
         }
        },
        {
         "name": "stalk-root",
         "dtype": "object",
         "stats": {
          "unique_count": 4,
          "nan_count": 0,
          "categories": [
           {
            "name": "8124",
            "count": 1
           },
           {
            "name": "5",
            "count": 1
           },
           {
            "name": "2 others",
            "count": 2
           }
          ]
         }
        },
        {
         "name": "stalk-surface-above-ring",
         "dtype": "object",
         "stats": {
          "unique_count": 4,
          "nan_count": 0,
          "categories": [
           {
            "name": "8124",
            "count": 1
           },
           {
            "name": "4",
            "count": 1
           },
           {
            "name": "2 others",
            "count": 2
           }
          ]
         }
        },
        {
         "name": "stalk-surface-below-ring",
         "dtype": "object",
         "stats": {
          "unique_count": 4,
          "nan_count": 0,
          "categories": [
           {
            "name": "8124",
            "count": 1
           },
           {
            "name": "4",
            "count": 1
           },
           {
            "name": "2 others",
            "count": 2
           }
          ]
         }
        },
        {
         "name": "stalk-color-above-ring",
         "dtype": "object",
         "stats": {
          "unique_count": 4,
          "nan_count": 0,
          "categories": [
           {
            "name": "8124",
            "count": 1
           },
           {
            "name": "9",
            "count": 1
           },
           {
            "name": "2 others",
            "count": 2
           }
          ]
         }
        },
        {
         "name": "stalk-color-below-ring",
         "dtype": "object",
         "stats": {
          "unique_count": 4,
          "nan_count": 0,
          "categories": [
           {
            "name": "8124",
            "count": 1
           },
           {
            "name": "9",
            "count": 1
           },
           {
            "name": "2 others",
            "count": 2
           }
          ]
         }
        },
        {
         "name": "veil-type",
         "dtype": "object",
         "stats": {
          "unique_count": 3,
          "nan_count": 0,
          "categories": [
           {
            "name": "8124",
            "count": 2
           },
           {
            "name": "1",
            "count": 1
           },
           {
            "name": "p",
            "count": 1
           }
          ]
         }
        },
        {
         "name": "veil-color",
         "dtype": "object",
         "stats": {
          "unique_count": 4,
          "nan_count": 0,
          "categories": [
           {
            "name": "8124",
            "count": 1
           },
           {
            "name": "4",
            "count": 1
           },
           {
            "name": "2 others",
            "count": 2
           }
          ]
         }
        },
        {
         "name": "ring-number",
         "dtype": "object",
         "stats": {
          "unique_count": 4,
          "nan_count": 0,
          "categories": [
           {
            "name": "8124",
            "count": 1
           },
           {
            "name": "3",
            "count": 1
           },
           {
            "name": "2 others",
            "count": 2
           }
          ]
         }
        },
        {
         "name": "ring-type",
         "dtype": "object",
         "stats": {
          "unique_count": 4,
          "nan_count": 0,
          "categories": [
           {
            "name": "8124",
            "count": 1
           },
           {
            "name": "5",
            "count": 1
           },
           {
            "name": "2 others",
            "count": 2
           }
          ]
         }
        },
        {
         "name": "spore-print-color",
         "dtype": "object",
         "stats": {
          "unique_count": 4,
          "nan_count": 0,
          "categories": [
           {
            "name": "8124",
            "count": 1
           },
           {
            "name": "9",
            "count": 1
           },
           {
            "name": "2 others",
            "count": 2
           }
          ]
         }
        },
        {
         "name": "population",
         "dtype": "object",
         "stats": {
          "unique_count": 4,
          "nan_count": 0,
          "categories": [
           {
            "name": "8124",
            "count": 1
           },
           {
            "name": "6",
            "count": 1
           },
           {
            "name": "2 others",
            "count": 2
           }
          ]
         }
        },
        {
         "name": "habitat",
         "dtype": "object",
         "stats": {
          "unique_count": 4,
          "nan_count": 0,
          "categories": [
           {
            "name": "8124",
            "count": 1
           },
           {
            "name": "7",
            "count": 1
           },
           {
            "name": "2 others",
            "count": 2
           }
          ]
         }
        },
        {
         "name": "_deepnote_index_column",
         "dtype": "object"
        }
       ],
       "rows": [
        {
         "class": "8124",
         "cap-shape": "8124",
         "cap-surface": "8124",
         "cap-color": "8124",
         "bruises": "8124",
         "odor": "8124",
         "gill-attachment": "8124",
         "gill-spacing": "8124",
         "gill-size": "8124",
         "gill-color": "8124",
         "stalk-shape": "8124",
         "stalk-root": "8124",
         "stalk-surface-above-ring": "8124",
         "stalk-surface-below-ring": "8124",
         "stalk-color-above-ring": "8124",
         "stalk-color-below-ring": "8124",
         "veil-type": "8124",
         "veil-color": "8124",
         "ring-number": "8124",
         "ring-type": "8124",
         "spore-print-color": "8124",
         "population": "8124",
         "habitat": "8124",
         "_deepnote_index_column": "count"
        },
        {
         "class": "2",
         "cap-shape": "6",
         "cap-surface": "4",
         "cap-color": "10",
         "bruises": "2",
         "odor": "9",
         "gill-attachment": "2",
         "gill-spacing": "2",
         "gill-size": "2",
         "gill-color": "12",
         "stalk-shape": "2",
         "stalk-root": "5",
         "stalk-surface-above-ring": "4",
         "stalk-surface-below-ring": "4",
         "stalk-color-above-ring": "9",
         "stalk-color-below-ring": "9",
         "veil-type": "1",
         "veil-color": "4",
         "ring-number": "3",
         "ring-type": "5",
         "spore-print-color": "9",
         "population": "6",
         "habitat": "7",
         "_deepnote_index_column": "unique"
        },
        {
         "class": "e",
         "cap-shape": "x",
         "cap-surface": "y",
         "cap-color": "n",
         "bruises": "f",
         "odor": "n",
         "gill-attachment": "f",
         "gill-spacing": "c",
         "gill-size": "b",
         "gill-color": "b",
         "stalk-shape": "t",
         "stalk-root": "b",
         "stalk-surface-above-ring": "s",
         "stalk-surface-below-ring": "s",
         "stalk-color-above-ring": "w",
         "stalk-color-below-ring": "w",
         "veil-type": "p",
         "veil-color": "w",
         "ring-number": "o",
         "ring-type": "p",
         "spore-print-color": "w",
         "population": "v",
         "habitat": "d",
         "_deepnote_index_column": "top"
        },
        {
         "class": "4208",
         "cap-shape": "3656",
         "cap-surface": "3244",
         "cap-color": "2284",
         "bruises": "4748",
         "odor": "3528",
         "gill-attachment": "7914",
         "gill-spacing": "6812",
         "gill-size": "5612",
         "gill-color": "1728",
         "stalk-shape": "4608",
         "stalk-root": "3776",
         "stalk-surface-above-ring": "5176",
         "stalk-surface-below-ring": "4936",
         "stalk-color-above-ring": "4464",
         "stalk-color-below-ring": "4384",
         "veil-type": "8124",
         "veil-color": "7924",
         "ring-number": "7488",
         "ring-type": "3968",
         "spore-print-color": "2388",
         "population": "4040",
         "habitat": "3148",
         "_deepnote_index_column": "freq"
        }
       ]
      },
      "text/plain": "       class cap-shape cap-surface cap-color bruises  odor gill-attachment  \\\ncount   8124      8124        8124      8124    8124  8124            8124   \nunique     2         6           4        10       2     9               2   \ntop        e         x           y         n       f     n               f   \nfreq    4208      3656        3244      2284    4748  3528            7914   \n\n       gill-spacing gill-size gill-color  ... stalk-surface-below-ring  \\\ncount          8124      8124       8124  ...                     8124   \nunique            2         2         12  ...                        4   \ntop               c         b          b  ...                        s   \nfreq           6812      5612       1728  ...                     4936   \n\n       stalk-color-above-ring stalk-color-below-ring veil-type veil-color  \\\ncount                    8124                   8124      8124       8124   \nunique                      9                      9         1          4   \ntop                         w                      w         p          w   \nfreq                     4464                   4384      8124       7924   \n\n       ring-number ring-type spore-print-color population habitat  \ncount         8124      8124              8124       8124    8124  \nunique           3         5                 9          6       7  \ntop              o         p                 w          v       d  \nfreq          7488      3968              2388       4040    3148  \n\n[4 rows x 23 columns]",
      "text/html": "<div>\n<style scoped>\n    .dataframe tbody tr th:only-of-type {\n        vertical-align: middle;\n    }\n\n    .dataframe tbody tr th {\n        vertical-align: top;\n    }\n\n    .dataframe thead th {\n        text-align: right;\n    }\n</style>\n<table border=\"1\" class=\"dataframe\">\n  <thead>\n    <tr style=\"text-align: right;\">\n      <th></th>\n      <th>class</th>\n      <th>cap-shape</th>\n      <th>cap-surface</th>\n      <th>cap-color</th>\n      <th>bruises</th>\n      <th>odor</th>\n      <th>gill-attachment</th>\n      <th>gill-spacing</th>\n      <th>gill-size</th>\n      <th>gill-color</th>\n      <th>...</th>\n      <th>stalk-surface-below-ring</th>\n      <th>stalk-color-above-ring</th>\n      <th>stalk-color-below-ring</th>\n      <th>veil-type</th>\n      <th>veil-color</th>\n      <th>ring-number</th>\n      <th>ring-type</th>\n      <th>spore-print-color</th>\n      <th>population</th>\n      <th>habitat</th>\n    </tr>\n  </thead>\n  <tbody>\n    <tr>\n      <th>count</th>\n      <td>8124</td>\n      <td>8124</td>\n      <td>8124</td>\n      <td>8124</td>\n      <td>8124</td>\n      <td>8124</td>\n      <td>8124</td>\n      <td>8124</td>\n      <td>8124</td>\n      <td>8124</td>\n      <td>...</td>\n      <td>8124</td>\n      <td>8124</td>\n      <td>8124</td>\n      <td>8124</td>\n      <td>8124</td>\n      <td>8124</td>\n      <td>8124</td>\n      <td>8124</td>\n      <td>8124</td>\n      <td>8124</td>\n    </tr>\n    <tr>\n      <th>unique</th>\n      <td>2</td>\n      <td>6</td>\n      <td>4</td>\n      <td>10</td>\n      <td>2</td>\n      <td>9</td>\n      <td>2</td>\n      <td>2</td>\n      <td>2</td>\n      <td>12</td>\n      <td>...</td>\n      <td>4</td>\n      <td>9</td>\n      <td>9</td>\n      <td>1</td>\n      <td>4</td>\n      <td>3</td>\n      <td>5</td>\n      <td>9</td>\n      <td>6</td>\n      <td>7</td>\n    </tr>\n    <tr>\n      <th>top</th>\n      <td>e</td>\n      <td>x</td>\n      <td>y</td>\n      <td>n</td>\n      <td>f</td>\n      <td>n</td>\n      <td>f</td>\n      <td>c</td>\n      <td>b</td>\n      <td>b</td>\n      <td>...</td>\n      <td>s</td>\n      <td>w</td>\n      <td>w</td>\n      <td>p</td>\n      <td>w</td>\n      <td>o</td>\n      <td>p</td>\n      <td>w</td>\n      <td>v</td>\n      <td>d</td>\n    </tr>\n    <tr>\n      <th>freq</th>\n      <td>4208</td>\n      <td>3656</td>\n      <td>3244</td>\n      <td>2284</td>\n      <td>4748</td>\n      <td>3528</td>\n      <td>7914</td>\n      <td>6812</td>\n      <td>5612</td>\n      <td>1728</td>\n      <td>...</td>\n      <td>4936</td>\n      <td>4464</td>\n      <td>4384</td>\n      <td>8124</td>\n      <td>7924</td>\n      <td>7488</td>\n      <td>3968</td>\n      <td>2388</td>\n      <td>4040</td>\n      <td>3148</td>\n    </tr>\n  </tbody>\n</table>\n<p>4 rows × 23 columns</p>\n</div>"
     },
     "metadata": {}
    }
   ]
  },
  {
   "cell_type": "code",
   "metadata": {
    "tags": [],
    "deepnote_to_be_reexecuted": false,
    "source_hash": "de1e323c",
    "execution_start": 1648424899866,
    "execution_millis": 20,
    "cell_id": "00006-bc59d720-3f11-4f3d-86fd-3a4fb7a17915",
    "deepnote_cell_type": "code",
    "deepnote_cell_height": 692
   },
   "source": "df.info()",
   "execution_count": null,
   "outputs": [
    {
     "name": "stdout",
     "text": "<class 'pandas.core.frame.DataFrame'>\nRangeIndex: 8124 entries, 0 to 8123\nData columns (total 23 columns):\n #   Column                    Non-Null Count  Dtype \n---  ------                    --------------  ----- \n 0   class                     8124 non-null   object\n 1   cap-shape                 8124 non-null   object\n 2   cap-surface               8124 non-null   object\n 3   cap-color                 8124 non-null   object\n 4   bruises                   8124 non-null   object\n 5   odor                      8124 non-null   object\n 6   gill-attachment           8124 non-null   object\n 7   gill-spacing              8124 non-null   object\n 8   gill-size                 8124 non-null   object\n 9   gill-color                8124 non-null   object\n 10  stalk-shape               8124 non-null   object\n 11  stalk-root                8124 non-null   object\n 12  stalk-surface-above-ring  8124 non-null   object\n 13  stalk-surface-below-ring  8124 non-null   object\n 14  stalk-color-above-ring    8124 non-null   object\n 15  stalk-color-below-ring    8124 non-null   object\n 16  veil-type                 8124 non-null   object\n 17  veil-color                8124 non-null   object\n 18  ring-number               8124 non-null   object\n 19  ring-type                 8124 non-null   object\n 20  spore-print-color         8124 non-null   object\n 21  population                8124 non-null   object\n 22  habitat                   8124 non-null   object\ndtypes: object(23)\nmemory usage: 1.4+ MB\n",
     "output_type": "stream"
    }
   ]
  },
  {
   "cell_type": "code",
   "metadata": {
    "tags": [],
    "deepnote_to_be_reexecuted": false,
    "source_hash": "1248f4e5",
    "execution_start": 1648424899894,
    "execution_millis": 5083,
    "cell_id": "00007-1a620594-d91f-4fd9-9380-bfd90646033a",
    "deepnote_cell_type": "code",
    "deepnote_cell_height": 622.1875,
    "deepnote_output_heights": [
     399.1875
    ]
   },
   "source": "X = df[df.columns[:]].values\n\nfig = plt.figure(figsize=(30, 14))\n\nfor i in range(X.shape[1]):\n    ax = fig.add_subplot(3,8, (i+1))\n    h = ax.hist(X[:, i], bins=25, density=True, edgecolor='none')\n    ax.set_title(df.columns[i], fontsize=14)",
   "execution_count": null,
   "outputs": [
    {
     "data": {
      "text/plain": "<Figure size 2160x1008 with 23 Axes>",
      "image/png": "[encoded data removed]"
     },
     "metadata": {
      "needs_background": "light",
      "image/png": {
       "width": 1717,
       "height": 809
      }
     },
     "output_type": "display_data"
    }
   ]
  },
  {
   "cell_type": "markdown",
   "source": "### ___Encoding___",
   "metadata": {
    "tags": [],
    "cell_id": "00008-20f87ac5-9847-4968-8471-4ae24f2bb4ad",
    "deepnote_cell_type": "markdown",
    "deepnote_cell_height": 62
   }
  },
  {
   "cell_type": "code",
   "metadata": {
    "tags": [],
    "deepnote_to_be_reexecuted": false,
    "source_hash": "644c6086",
    "execution_start": 1648424904971,
    "execution_millis": 64,
    "cell_id": "00009-9668fbd3-7d57-459e-84b4-cd32adbe7886",
    "deepnote_cell_type": "code",
    "deepnote_cell_height": 135
   },
   "source": "#encoding every columns\nle = LabelEncoder()\nfor col in df.columns:\n    df[col] = LabelEncoder().fit_transform(df[col])",
   "execution_count": null,
   "outputs": []
  },
  {
   "cell_type": "code",
   "metadata": {
    "tags": [],
    "deepnote_to_be_reexecuted": false,
    "source_hash": "f88152d9",
    "execution_start": 1648424905045,
    "execution_millis": 168,
    "cell_id": "00010-0f731d3a-311a-496f-9ec7-11a3b3162871",
    "deepnote_cell_type": "code",
    "deepnote_cell_height": 516
   },
   "source": "df.describe()",
   "execution_count": null,
   "outputs": [
    {
     "output_type": "execute_result",
     "execution_count": 8,
     "data": {
      "application/vnd.deepnote.dataframe.v3+json": {
       "column_count": 23,
       "row_count": 8,
       "columns": [
        {
         "name": "class",
         "dtype": "float64",
         "stats": {
          "unique_count": 5,
          "nan_count": 0,
          "min": "0.0",
          "max": "8124.0",
          "histogram": [
           {
            "bin_start": 0,
            "bin_end": 812.4,
            "count": 7
           },
           {
            "bin_start": 812.4,
            "bin_end": 1624.8,
            "count": 0
           },
           {
            "bin_start": 1624.8,
            "bin_end": 2437.2,
            "count": 0
           },
           {
            "bin_start": 2437.2,
            "bin_end": 3249.6,
            "count": 0
           },
           {
            "bin_start": 3249.6,
            "bin_end": 4062,
            "count": 0
           },
           {
            "bin_start": 4062,
            "bin_end": 4874.4,
            "count": 0
           },
           {
            "bin_start": 4874.4,
            "bin_end": 5686.8,
            "count": 0
           },
           {
            "bin_start": 5686.8,
            "bin_end": 6499.2,
            "count": 0
           },
           {
            "bin_start": 6499.2,
            "bin_end": 7311.599999999999,
            "count": 0
           },
           {
            "bin_start": 7311.599999999999,
            "bin_end": 8124,
            "count": 1
           }
          ]
         }
        },
        {
         "name": "cap-shape",
         "dtype": "float64",
         "stats": {
          "unique_count": 7,
          "nan_count": 0,
          "min": "0.0",
          "max": "8124.0",
          "histogram": [
           {
            "bin_start": 0,
            "bin_end": 812.4,
            "count": 7
           },
           {
            "bin_start": 812.4,
            "bin_end": 1624.8,
            "count": 0
           },
           {
            "bin_start": 1624.8,
            "bin_end": 2437.2,
            "count": 0
           },
           {
            "bin_start": 2437.2,
            "bin_end": 3249.6,
            "count": 0
           },
           {
            "bin_start": 3249.6,
            "bin_end": 4062,
            "count": 0
           },
           {
            "bin_start": 4062,
            "bin_end": 4874.4,
            "count": 0
           },
           {
            "bin_start": 4874.4,
            "bin_end": 5686.8,
            "count": 0
           },
           {
            "bin_start": 5686.8,
            "bin_end": 6499.2,
            "count": 0
           },
           {
            "bin_start": 6499.2,
            "bin_end": 7311.599999999999,
            "count": 0
           },
           {
            "bin_start": 7311.599999999999,
            "bin_end": 8124,
            "count": 1
           }
          ]
         }
        },
        {
         "name": "cap-surface",
         "dtype": "float64",
         "stats": {
          "unique_count": 6,
          "nan_count": 0,
          "min": "0.0",
          "max": "8124.0",
          "histogram": [
           {
            "bin_start": 0,
            "bin_end": 812.4,
            "count": 7
           },
           {
            "bin_start": 812.4,
            "bin_end": 1624.8,
            "count": 0
           },
           {
            "bin_start": 1624.8,
            "bin_end": 2437.2,
            "count": 0
           },
           {
            "bin_start": 2437.2,
            "bin_end": 3249.6,
            "count": 0
           },
           {
            "bin_start": 3249.6,
            "bin_end": 4062,
            "count": 0
           },
           {
            "bin_start": 4062,
            "bin_end": 4874.4,
            "count": 0
           },
           {
            "bin_start": 4874.4,
            "bin_end": 5686.8,
            "count": 0
           },
           {
            "bin_start": 5686.8,
            "bin_end": 6499.2,
            "count": 0
           },
           {
            "bin_start": 6499.2,
            "bin_end": 7311.599999999999,
            "count": 0
           },
           {
            "bin_start": 7311.599999999999,
            "bin_end": 8124,
            "count": 1
           }
          ]
         }
        },
        {
         "name": "cap-color",
         "dtype": "float64",
         "stats": {
          "unique_count": 8,
          "nan_count": 0,
          "min": "0.0",
          "max": "8124.0",
          "histogram": [
           {
            "bin_start": 0,
            "bin_end": 812.4,
            "count": 7
           },
           {
            "bin_start": 812.4,
            "bin_end": 1624.8,
            "count": 0
           },
           {
            "bin_start": 1624.8,
            "bin_end": 2437.2,
            "count": 0
           },
           {
            "bin_start": 2437.2,
            "bin_end": 3249.6,
            "count": 0
           },
           {
            "bin_start": 3249.6,
            "bin_end": 4062,
            "count": 0
           },
           {
            "bin_start": 4062,
            "bin_end": 4874.4,
            "count": 0
           },
           {
            "bin_start": 4874.4,
            "bin_end": 5686.8,
            "count": 0
           },
           {
            "bin_start": 5686.8,
            "bin_end": 6499.2,
            "count": 0
           },
           {
            "bin_start": 6499.2,
            "bin_end": 7311.599999999999,
            "count": 0
           },
           {
            "bin_start": 7311.599999999999,
            "bin_end": 8124,
            "count": 1
           }
          ]
         }
        },
        {
         "name": "bruises",
         "dtype": "float64",
         "stats": {
          "unique_count": 5,
          "nan_count": 0,
          "min": "0.0",
          "max": "8124.0",
          "histogram": [
           {
            "bin_start": 0,
            "bin_end": 812.4,
            "count": 7
           },
           {
            "bin_start": 812.4,
            "bin_end": 1624.8,
            "count": 0
           },
           {
            "bin_start": 1624.8,
            "bin_end": 2437.2,
            "count": 0
           },
           {
            "bin_start": 2437.2,
            "bin_end": 3249.6,
            "count": 0
           },
           {
            "bin_start": 3249.6,
            "bin_end": 4062,
            "count": 0
           },
           {
            "bin_start": 4062,
            "bin_end": 4874.4,
            "count": 0
           },
           {
            "bin_start": 4874.4,
            "bin_end": 5686.8,
            "count": 0
           },
           {
            "bin_start": 5686.8,
            "bin_end": 6499.2,
            "count": 0
           },
           {
            "bin_start": 6499.2,
            "bin_end": 7311.599999999999,
            "count": 0
           },
           {
            "bin_start": 7311.599999999999,
            "bin_end": 8124,
            "count": 1
           }
          ]
         }
        },
        {
         "name": "odor",
         "dtype": "float64",
         "stats": {
          "unique_count": 7,
          "nan_count": 0,
          "min": "0.0",
          "max": "8124.0",
          "histogram": [
           {
            "bin_start": 0,
            "bin_end": 812.4,
            "count": 7
           },
           {
            "bin_start": 812.4,
            "bin_end": 1624.8,
            "count": 0
           },
           {
            "bin_start": 1624.8,
            "bin_end": 2437.2,
            "count": 0
           },
           {
            "bin_start": 2437.2,
            "bin_end": 3249.6,
            "count": 0
           },
           {
            "bin_start": 3249.6,
            "bin_end": 4062,
            "count": 0
           },
           {
            "bin_start": 4062,
            "bin_end": 4874.4,
            "count": 0
           },
           {
            "bin_start": 4874.4,
            "bin_end": 5686.8,
            "count": 0
           },
           {
            "bin_start": 5686.8,
            "bin_end": 6499.2,
            "count": 0
           },
           {
            "bin_start": 6499.2,
            "bin_end": 7311.599999999999,
            "count": 0
           },
           {
            "bin_start": 7311.599999999999,
            "bin_end": 8124,
            "count": 1
           }
          ]
         }
        },
        {
         "name": "gill-attachment",
         "dtype": "float64",
         "stats": {
          "unique_count": 5,
          "nan_count": 0,
          "min": "0.0",
          "max": "8124.0",
          "histogram": [
           {
            "bin_start": 0,
            "bin_end": 812.4,
            "count": 7
           },
           {
            "bin_start": 812.4,
            "bin_end": 1624.8,
            "count": 0
           },
           {
            "bin_start": 1624.8,
            "bin_end": 2437.2,
            "count": 0
           },
           {
            "bin_start": 2437.2,
            "bin_end": 3249.6,
            "count": 0
           },
           {
            "bin_start": 3249.6,
            "bin_end": 4062,
            "count": 0
           },
           {
            "bin_start": 4062,
            "bin_end": 4874.4,
            "count": 0
           },
           {
            "bin_start": 4874.4,
            "bin_end": 5686.8,
            "count": 0
           },
           {
            "bin_start": 5686.8,
            "bin_end": 6499.2,
            "count": 0
           },
           {
            "bin_start": 6499.2,
            "bin_end": 7311.599999999999,
            "count": 0
           },
           {
            "bin_start": 7311.599999999999,
            "bin_end": 8124,
            "count": 1
           }
          ]
         }
        },
        {
         "name": "gill-spacing",
         "dtype": "float64",
         "stats": {
          "unique_count": 5,
          "nan_count": 0,
          "min": "0.0",
          "max": "8124.0",
          "histogram": [
           {
            "bin_start": 0,
            "bin_end": 812.4,
            "count": 7
           },
           {
            "bin_start": 812.4,
            "bin_end": 1624.8,
            "count": 0
           },
           {
            "bin_start": 1624.8,
            "bin_end": 2437.2,
            "count": 0
           },
           {
            "bin_start": 2437.2,
            "bin_end": 3249.6,
            "count": 0
           },
           {
            "bin_start": 3249.6,
            "bin_end": 4062,
            "count": 0
           },
           {
            "bin_start": 4062,
            "bin_end": 4874.4,
            "count": 0
           },
           {
            "bin_start": 4874.4,
            "bin_end": 5686.8,
            "count": 0
           },
           {
            "bin_start": 5686.8,
            "bin_end": 6499.2,
            "count": 0
           },
           {
            "bin_start": 6499.2,
            "bin_end": 7311.599999999999,
            "count": 0
           },
           {
            "bin_start": 7311.599999999999,
            "bin_end": 8124,
            "count": 1
           }
          ]
         }
        },
        {
         "name": "gill-size",
         "dtype": "float64",
         "stats": {
          "unique_count": 5,
          "nan_count": 0,
          "min": "0.0",
          "max": "8124.0",
          "histogram": [
           {
            "bin_start": 0,
            "bin_end": 812.4,
            "count": 7
           },
           {
            "bin_start": 812.4,
            "bin_end": 1624.8,
            "count": 0
           },
           {
            "bin_start": 1624.8,
            "bin_end": 2437.2,
            "count": 0
           },
           {
            "bin_start": 2437.2,
            "bin_end": 3249.6,
            "count": 0
           },
           {
            "bin_start": 3249.6,
            "bin_end": 4062,
            "count": 0
           },
           {
            "bin_start": 4062,
            "bin_end": 4874.4,
            "count": 0
           },
           {
            "bin_start": 4874.4,
            "bin_end": 5686.8,
            "count": 0
           },
           {
            "bin_start": 5686.8,
            "bin_end": 6499.2,
            "count": 0
           },
           {
            "bin_start": 6499.2,
            "bin_end": 7311.599999999999,
            "count": 0
           },
           {
            "bin_start": 7311.599999999999,
            "bin_end": 8124,
            "count": 1
           }
          ]
         }
        },
        {
         "name": "gill-color",
         "dtype": "float64",
         "stats": {
          "unique_count": 8,
          "nan_count": 0,
          "min": "0.0",
          "max": "8124.0",
          "histogram": [
           {
            "bin_start": 0,
            "bin_end": 812.4,
            "count": 7
           },
           {
            "bin_start": 812.4,
            "bin_end": 1624.8,
            "count": 0
           },
           {
            "bin_start": 1624.8,
            "bin_end": 2437.2,
            "count": 0
           },
           {
            "bin_start": 2437.2,
            "bin_end": 3249.6,
            "count": 0
           },
           {
            "bin_start": 3249.6,
            "bin_end": 4062,
            "count": 0
           },
           {
            "bin_start": 4062,
            "bin_end": 4874.4,
            "count": 0
           },
           {
            "bin_start": 4874.4,
            "bin_end": 5686.8,
            "count": 0
           },
           {
            "bin_start": 5686.8,
            "bin_end": 6499.2,
            "count": 0
           },
           {
            "bin_start": 6499.2,
            "bin_end": 7311.599999999999,
            "count": 0
           },
           {
            "bin_start": 7311.599999999999,
            "bin_end": 8124,
            "count": 1
           }
          ]
         }
        },
        {
         "name": "stalk-shape",
         "dtype": "float64",
         "stats": {
          "unique_count": 5,
          "nan_count": 0,
          "min": "0.0",
          "max": "8124.0",
          "histogram": [
           {
            "bin_start": 0,
            "bin_end": 812.4,
            "count": 7
           },
           {
            "bin_start": 812.4,
            "bin_end": 1624.8,
            "count": 0
           },
           {
            "bin_start": 1624.8,
            "bin_end": 2437.2,
            "count": 0
           },
           {
            "bin_start": 2437.2,
            "bin_end": 3249.6,
            "count": 0
           },
           {
            "bin_start": 3249.6,
            "bin_end": 4062,
            "count": 0
           },
           {
            "bin_start": 4062,
            "bin_end": 4874.4,
            "count": 0
           },
           {
            "bin_start": 4874.4,
            "bin_end": 5686.8,
            "count": 0
           },
           {
            "bin_start": 5686.8,
            "bin_end": 6499.2,
            "count": 0
           },
           {
            "bin_start": 6499.2,
            "bin_end": 7311.599999999999,
            "count": 0
           },
           {
            "bin_start": 7311.599999999999,
            "bin_end": 8124,
            "count": 1
           }
          ]
         }
        },
        {
         "name": "stalk-root",
         "dtype": "float64",
         "stats": {
          "unique_count": 6,
          "nan_count": 0,
          "min": "0.0",
          "max": "8124.0",
          "histogram": [
           {
            "bin_start": 0,
            "bin_end": 812.4,
            "count": 7
           },
           {
            "bin_start": 812.4,
            "bin_end": 1624.8,
            "count": 0
           },
           {
            "bin_start": 1624.8,
            "bin_end": 2437.2,
            "count": 0
           },
           {
            "bin_start": 2437.2,
            "bin_end": 3249.6,
            "count": 0
           },
           {
            "bin_start": 3249.6,
            "bin_end": 4062,
            "count": 0
           },
           {
            "bin_start": 4062,
            "bin_end": 4874.4,
            "count": 0
           },
           {
            "bin_start": 4874.4,
            "bin_end": 5686.8,
            "count": 0
           },
           {
            "bin_start": 5686.8,
            "bin_end": 6499.2,
            "count": 0
           },
           {
            "bin_start": 6499.2,
            "bin_end": 7311.599999999999,
            "count": 0
           },
           {
            "bin_start": 7311.599999999999,
            "bin_end": 8124,
            "count": 1
           }
          ]
         }
        },
        {
         "name": "stalk-surface-above-ring",
         "dtype": "float64",
         "stats": {
          "unique_count": 7,
          "nan_count": 0,
          "min": "0.0",
          "max": "8124.0",
          "histogram": [
           {
            "bin_start": 0,
            "bin_end": 812.4,
            "count": 7
           },
           {
            "bin_start": 812.4,
            "bin_end": 1624.8,
            "count": 0
           },
           {
            "bin_start": 1624.8,
            "bin_end": 2437.2,
            "count": 0
           },
           {
            "bin_start": 2437.2,
            "bin_end": 3249.6,
            "count": 0
           },
           {
            "bin_start": 3249.6,
            "bin_end": 4062,
            "count": 0
           },
           {
            "bin_start": 4062,
            "bin_end": 4874.4,
            "count": 0
           },
           {
            "bin_start": 4874.4,
            "bin_end": 5686.8,
            "count": 0
           },
           {
            "bin_start": 5686.8,
            "bin_end": 6499.2,
            "count": 0
           },
           {
            "bin_start": 6499.2,
            "bin_end": 7311.599999999999,
            "count": 0
           },
           {
            "bin_start": 7311.599999999999,
            "bin_end": 8124,
            "count": 1
           }
          ]
         }
        },
        {
         "name": "stalk-surface-below-ring",
         "dtype": "float64",
         "stats": {
          "unique_count": 7,
          "nan_count": 0,
          "min": "0.0",
          "max": "8124.0",
          "histogram": [
           {
            "bin_start": 0,
            "bin_end": 812.4,
            "count": 7
           },
           {
            "bin_start": 812.4,
            "bin_end": 1624.8,
            "count": 0
           },
           {
            "bin_start": 1624.8,
            "bin_end": 2437.2,
            "count": 0
           },
           {
            "bin_start": 2437.2,
            "bin_end": 3249.6,
            "count": 0
           },
           {
            "bin_start": 3249.6,
            "bin_end": 4062,
            "count": 0
           },
           {
            "bin_start": 4062,
            "bin_end": 4874.4,
            "count": 0
           },
           {
            "bin_start": 4874.4,
            "bin_end": 5686.8,
            "count": 0
           },
           {
            "bin_start": 5686.8,
            "bin_end": 6499.2,
            "count": 0
           },
           {
            "bin_start": 6499.2,
            "bin_end": 7311.599999999999,
            "count": 0
           },
           {
            "bin_start": 7311.599999999999,
            "bin_end": 8124,
            "count": 1
           }
          ]
         }
        },
        {
         "name": "stalk-color-above-ring",
         "dtype": "float64",
         "stats": {
          "unique_count": 7,
          "nan_count": 0,
          "min": "0.0",
          "max": "8124.0",
          "histogram": [
           {
            "bin_start": 0,
            "bin_end": 812.4,
            "count": 7
           },
           {
            "bin_start": 812.4,
            "bin_end": 1624.8,
            "count": 0
           },
           {
            "bin_start": 1624.8,
            "bin_end": 2437.2,
            "count": 0
           },
           {
            "bin_start": 2437.2,
            "bin_end": 3249.6,
            "count": 0
           },
           {
            "bin_start": 3249.6,
            "bin_end": 4062,
            "count": 0
           },
           {
            "bin_start": 4062,
            "bin_end": 4874.4,
            "count": 0
           },
           {
            "bin_start": 4874.4,
            "bin_end": 5686.8,
            "count": 0
           },
           {
            "bin_start": 5686.8,
            "bin_end": 6499.2,
            "count": 0
           },
           {
            "bin_start": 6499.2,
            "bin_end": 7311.599999999999,
            "count": 0
           },
           {
            "bin_start": 7311.599999999999,
            "bin_end": 8124,
            "count": 1
           }
          ]
         }
        },
        {
         "name": "stalk-color-below-ring",
         "dtype": "float64",
         "stats": {
          "unique_count": 7,
          "nan_count": 0,
          "min": "0.0",
          "max": "8124.0",
          "histogram": [
           {
            "bin_start": 0,
            "bin_end": 812.4,
            "count": 7
           },
           {
            "bin_start": 812.4,
            "bin_end": 1624.8,
            "count": 0
           },
           {
            "bin_start": 1624.8,
            "bin_end": 2437.2,
            "count": 0
           },
           {
            "bin_start": 2437.2,
            "bin_end": 3249.6,
            "count": 0
           },
           {
            "bin_start": 3249.6,
            "bin_end": 4062,
            "count": 0
           },
           {
            "bin_start": 4062,
            "bin_end": 4874.4,
            "count": 0
           },
           {
            "bin_start": 4874.4,
            "bin_end": 5686.8,
            "count": 0
           },
           {
            "bin_start": 5686.8,
            "bin_end": 6499.2,
            "count": 0
           },
           {
            "bin_start": 6499.2,
            "bin_end": 7311.599999999999,
            "count": 0
           },
           {
            "bin_start": 7311.599999999999,
            "bin_end": 8124,
            "count": 1
           }
          ]
         }
        },
        {
         "name": "veil-type",
         "dtype": "float64",
         "stats": {
          "unique_count": 2,
          "nan_count": 0,
          "min": "0.0",
          "max": "8124.0",
          "histogram": [
           {
            "bin_start": 0,
            "bin_end": 812.4,
            "count": 7
           },
           {
            "bin_start": 812.4,
            "bin_end": 1624.8,
            "count": 0
           },
           {
            "bin_start": 1624.8,
            "bin_end": 2437.2,
            "count": 0
           },
           {
            "bin_start": 2437.2,
            "bin_end": 3249.6,
            "count": 0
           },
           {
            "bin_start": 3249.6,
            "bin_end": 4062,
            "count": 0
           },
           {
            "bin_start": 4062,
            "bin_end": 4874.4,
            "count": 0
           },
           {
            "bin_start": 4874.4,
            "bin_end": 5686.8,
            "count": 0
           },
           {
            "bin_start": 5686.8,
            "bin_end": 6499.2,
            "count": 0
           },
           {
            "bin_start": 6499.2,
            "bin_end": 7311.599999999999,
            "count": 0
           },
           {
            "bin_start": 7311.599999999999,
            "bin_end": 8124,
            "count": 1
           }
          ]
         }
        },
        {
         "name": "veil-color",
         "dtype": "float64",
         "stats": {
          "unique_count": 6,
          "nan_count": 0,
          "min": "0.0",
          "max": "8124.0",
          "histogram": [
           {
            "bin_start": 0,
            "bin_end": 812.4,
            "count": 7
           },
           {
            "bin_start": 812.4,
            "bin_end": 1624.8,
            "count": 0
           },
           {
            "bin_start": 1624.8,
            "bin_end": 2437.2,
            "count": 0
           },
           {
            "bin_start": 2437.2,
            "bin_end": 3249.6,
            "count": 0
           },
           {
            "bin_start": 3249.6,
            "bin_end": 4062,
            "count": 0
           },
           {
            "bin_start": 4062,
            "bin_end": 4874.4,
            "count": 0
           },
           {
            "bin_start": 4874.4,
            "bin_end": 5686.8,
            "count": 0
           },
           {
            "bin_start": 5686.8,
            "bin_end": 6499.2,
            "count": 0
           },
           {
            "bin_start": 6499.2,
            "bin_end": 7311.599999999999,
            "count": 0
           },
           {
            "bin_start": 7311.599999999999,
            "bin_end": 8124,
            "count": 1
           }
          ]
         }
        },
        {
         "name": "ring-number",
         "dtype": "float64",
         "stats": {
          "unique_count": 6,
          "nan_count": 0,
          "min": "0.0",
          "max": "8124.0",
          "histogram": [
           {
            "bin_start": 0,
            "bin_end": 812.4,
            "count": 7
           },
           {
            "bin_start": 812.4,
            "bin_end": 1624.8,
            "count": 0
           },
           {
            "bin_start": 1624.8,
            "bin_end": 2437.2,
            "count": 0
           },
           {
            "bin_start": 2437.2,
            "bin_end": 3249.6,
            "count": 0
           },
           {
            "bin_start": 3249.6,
            "bin_end": 4062,
            "count": 0
           },
           {
            "bin_start": 4062,
            "bin_end": 4874.4,
            "count": 0
           },
           {
            "bin_start": 4874.4,
            "bin_end": 5686.8,
            "count": 0
           },
           {
            "bin_start": 5686.8,
            "bin_end": 6499.2,
            "count": 0
           },
           {
            "bin_start": 6499.2,
            "bin_end": 7311.599999999999,
            "count": 0
           },
           {
            "bin_start": 7311.599999999999,
            "bin_end": 8124,
            "count": 1
           }
          ]
         }
        },
        {
         "name": "ring-type",
         "dtype": "float64",
         "stats": {
          "unique_count": 6,
          "nan_count": 0,
          "min": "0.0",
          "max": "8124.0",
          "histogram": [
           {
            "bin_start": 0,
            "bin_end": 812.4,
            "count": 7
           },
           {
            "bin_start": 812.4,
            "bin_end": 1624.8,
            "count": 0
           },
           {
            "bin_start": 1624.8,
            "bin_end": 2437.2,
            "count": 0
           },
           {
            "bin_start": 2437.2,
            "bin_end": 3249.6,
            "count": 0
           },
           {
            "bin_start": 3249.6,
            "bin_end": 4062,
            "count": 0
           },
           {
            "bin_start": 4062,
            "bin_end": 4874.4,
            "count": 0
           },
           {
            "bin_start": 4874.4,
            "bin_end": 5686.8,
            "count": 0
           },
           {
            "bin_start": 5686.8,
            "bin_end": 6499.2,
            "count": 0
           },
           {
            "bin_start": 6499.2,
            "bin_end": 7311.599999999999,
            "count": 0
           },
           {
            "bin_start": 7311.599999999999,
            "bin_end": 8124,
            "count": 1
           }
          ]
         }
        },
        {
         "name": "spore-print-color",
         "dtype": "float64",
         "stats": {
          "unique_count": 8,
          "nan_count": 0,
          "min": "0.0",
          "max": "8124.0",
          "histogram": [
           {
            "bin_start": 0,
            "bin_end": 812.4,
            "count": 7
           },
           {
            "bin_start": 812.4,
            "bin_end": 1624.8,
            "count": 0
           },
           {
            "bin_start": 1624.8,
            "bin_end": 2437.2,
            "count": 0
           },
           {
            "bin_start": 2437.2,
            "bin_end": 3249.6,
            "count": 0
           },
           {
            "bin_start": 3249.6,
            "bin_end": 4062,
            "count": 0
           },
           {
            "bin_start": 4062,
            "bin_end": 4874.4,
            "count": 0
           },
           {
            "bin_start": 4874.4,
            "bin_end": 5686.8,
            "count": 0
           },
           {
            "bin_start": 5686.8,
            "bin_end": 6499.2,
            "count": 0
           },
           {
            "bin_start": 6499.2,
            "bin_end": 7311.599999999999,
            "count": 0
           },
           {
            "bin_start": 7311.599999999999,
            "bin_end": 8124,
            "count": 1
           }
          ]
         }
        },
        {
         "name": "population",
         "dtype": "float64",
         "stats": {
          "unique_count": 7,
          "nan_count": 0,
          "min": "0.0",
          "max": "8124.0",
          "histogram": [
           {
            "bin_start": 0,
            "bin_end": 812.4,
            "count": 7
           },
           {
            "bin_start": 812.4,
            "bin_end": 1624.8,
            "count": 0
           },
           {
            "bin_start": 1624.8,
            "bin_end": 2437.2,
            "count": 0
           },
           {
            "bin_start": 2437.2,
            "bin_end": 3249.6,
            "count": 0
           },
           {
            "bin_start": 3249.6,
            "bin_end": 4062,
            "count": 0
           },
           {
            "bin_start": 4062,
            "bin_end": 4874.4,
            "count": 0
           },
           {
            "bin_start": 4874.4,
            "bin_end": 5686.8,
            "count": 0
           },
           {
            "bin_start": 5686.8,
            "bin_end": 6499.2,
            "count": 0
           },
           {
            "bin_start": 6499.2,
            "bin_end": 7311.599999999999,
            "count": 0
           },
           {
            "bin_start": 7311.599999999999,
            "bin_end": 8124,
            "count": 1
           }
          ]
         }
        },
        {
         "name": "habitat",
         "dtype": "float64",
         "stats": {
          "unique_count": 7,
          "nan_count": 0,
          "min": "0.0",
          "max": "8124.0",
          "histogram": [
           {
            "bin_start": 0,
            "bin_end": 812.4,
            "count": 7
           },
           {
            "bin_start": 812.4,
            "bin_end": 1624.8,
            "count": 0
           },
           {
            "bin_start": 1624.8,
            "bin_end": 2437.2,
            "count": 0
           },
           {
            "bin_start": 2437.2,
            "bin_end": 3249.6,
            "count": 0
           },
           {
            "bin_start": 3249.6,
            "bin_end": 4062,
            "count": 0
           },
           {
            "bin_start": 4062,
            "bin_end": 4874.4,
            "count": 0
           },
           {
            "bin_start": 4874.4,
            "bin_end": 5686.8,
            "count": 0
           },
           {
            "bin_start": 5686.8,
            "bin_end": 6499.2,
            "count": 0
           },
           {
            "bin_start": 6499.2,
            "bin_end": 7311.599999999999,
            "count": 0
           },
           {
            "bin_start": 7311.599999999999,
            "bin_end": 8124,
            "count": 1
           }
          ]
         }
        },
        {
         "name": "_deepnote_index_column",
         "dtype": "object"
        }
       ],
       "rows": [
        {
         "class": 8124,
         "cap-shape": 8124,
         "cap-surface": 8124,
         "cap-color": 8124,
         "bruises": 8124,
         "odor": 8124,
         "gill-attachment": 8124,
         "gill-spacing": 8124,
         "gill-size": 8124,
         "gill-color": 8124,
         "stalk-shape": 8124,
         "stalk-root": 8124,
         "stalk-surface-above-ring": 8124,
         "stalk-surface-below-ring": 8124,
         "stalk-color-above-ring": 8124,
         "stalk-color-below-ring": 8124,
         "veil-type": 8124,
         "veil-color": 8124,
         "ring-number": 8124,
         "ring-type": 8124,
         "spore-print-color": 8124,
         "population": 8124,
         "habitat": 8124,
         "_deepnote_index_column": "count"
        },
        {
         "class": 0.48202855736090594,
         "cap-shape": 3.348104382077794,
         "cap-surface": 1.82767109798129,
         "cap-color": 4.504677498769079,
         "bruises": 0.4155588380108321,
         "odor": 4.144756277695716,
         "gill-attachment": 0.9741506646971935,
         "gill-spacing": 0.16149679960610536,
         "gill-size": 0.30920728705071393,
         "gill-color": 4.81068439192516,
         "stalk-shape": 0.5672082717872969,
         "stalk-root": 1.1097981290004924,
         "stalk-surface-above-ring": 1.5750861644510095,
         "stalk-surface-below-ring": 1.603643525356967,
         "stalk-color-above-ring": 5.816346627277204,
         "stalk-color-below-ring": 5.794682422451994,
         "veil-type": 0,
         "veil-color": 1.965534219596258,
         "ring-number": 1.069423929098966,
         "ring-type": 2.291974396848843,
         "spore-print-color": 3.5967503692762186,
         "population": 3.6440177252584935,
         "habitat": 1.5086164451009354,
         "_deepnote_index_column": "mean"
        },
        {
         "class": 0.49970767884413053,
         "cap-shape": 1.6043290877114995,
         "cap-surface": 1.2298725242273254,
         "cap-color": 2.5458209415209643,
         "bruises": 0.4928484444287616,
         "odor": 2.1037290837439606,
         "gill-attachment": 0.1586954540886246,
         "gill-spacing": 0.3680112144486418,
         "gill-size": 0.4621952359773023,
         "gill-color": 3.540358971422556,
         "stalk-shape": 0.495492955490344,
         "stalk-root": 1.0611060679879334,
         "stalk-surface-above-ring": 0.6214593111785826,
         "stalk-surface-below-ring": 0.6759741491415914,
         "stalk-color-above-ring": 1.9017472922284946,
         "stalk-color-below-ring": 1.9072914601869122,
         "veil-type": 0,
         "veil-color": 0.24266909614468823,
         "ring-number": 0.27106442171094947,
         "ring-type": 1.8016720020685273,
         "spore-print-color": 2.3826632384911703,
         "population": 1.2520818198487118,
         "habitat": 1.719975437386453,
         "_deepnote_index_column": "std"
        },
        {
         "class": 0,
         "cap-shape": 0,
         "cap-surface": 0,
         "cap-color": 0,
         "bruises": 0,
         "odor": 0,
         "gill-attachment": 0,
         "gill-spacing": 0,
         "gill-size": 0,
         "gill-color": 0,
         "stalk-shape": 0,
         "stalk-root": 0,
         "stalk-surface-above-ring": 0,
         "stalk-surface-below-ring": 0,
         "stalk-color-above-ring": 0,
         "stalk-color-below-ring": 0,
         "veil-type": 0,
         "veil-color": 0,
         "ring-number": 0,
         "ring-type": 0,
         "spore-print-color": 0,
         "population": 0,
         "habitat": 0,
         "_deepnote_index_column": "min"
        },
        {
         "class": 0,
         "cap-shape": 2,
         "cap-surface": 0,
         "cap-color": 3,
         "bruises": 0,
         "odor": 2,
         "gill-attachment": 1,
         "gill-spacing": 0,
         "gill-size": 0,
         "gill-color": 2,
         "stalk-shape": 0,
         "stalk-root": 0,
         "stalk-surface-above-ring": 1,
         "stalk-surface-below-ring": 1,
         "stalk-color-above-ring": 6,
         "stalk-color-below-ring": 6,
         "veil-type": 0,
         "veil-color": 2,
         "ring-number": 1,
         "ring-type": 0,
         "spore-print-color": 2,
         "population": 3,
         "habitat": 0,
         "_deepnote_index_column": "25%"
        },
        {
         "class": 0,
         "cap-shape": 3,
         "cap-surface": 2,
         "cap-color": 4,
         "bruises": 0,
         "odor": 5,
         "gill-attachment": 1,
         "gill-spacing": 0,
         "gill-size": 0,
         "gill-color": 5,
         "stalk-shape": 1,
         "stalk-root": 1,
         "stalk-surface-above-ring": 2,
         "stalk-surface-below-ring": 2,
         "stalk-color-above-ring": 7,
         "stalk-color-below-ring": 7,
         "veil-type": 0,
         "veil-color": 2,
         "ring-number": 1,
         "ring-type": 2,
         "spore-print-color": 3,
         "population": 4,
         "habitat": 1,
         "_deepnote_index_column": "50%"
        },
        {
         "class": 1,
         "cap-shape": 5,
         "cap-surface": 3,
         "cap-color": 8,
         "bruises": 1,
         "odor": 5,
         "gill-attachment": 1,
         "gill-spacing": 0,
         "gill-size": 1,
         "gill-color": 7,
         "stalk-shape": 1,
         "stalk-root": 1,
         "stalk-surface-above-ring": 2,
         "stalk-surface-below-ring": 2,
         "stalk-color-above-ring": 7,
         "stalk-color-below-ring": 7,
         "veil-type": 0,
         "veil-color": 2,
         "ring-number": 1,
         "ring-type": 4,
         "spore-print-color": 7,
         "population": 4,
         "habitat": 2,
         "_deepnote_index_column": "75%"
        },
        {
         "class": 1,
         "cap-shape": 5,
         "cap-surface": 3,
         "cap-color": 9,
         "bruises": 1,
         "odor": 8,
         "gill-attachment": 1,
         "gill-spacing": 1,
         "gill-size": 1,
         "gill-color": 11,
         "stalk-shape": 1,
         "stalk-root": 4,
         "stalk-surface-above-ring": 3,
         "stalk-surface-below-ring": 3,
         "stalk-color-above-ring": 8,
         "stalk-color-below-ring": 8,
         "veil-type": 0,
         "veil-color": 3,
         "ring-number": 2,
         "ring-type": 4,
         "spore-print-color": 8,
         "population": 5,
         "habitat": 6,
         "_deepnote_index_column": "max"
        }
       ]
      },
      "text/plain": "             class    cap-shape  cap-surface    cap-color      bruises  \\\ncount  8124.000000  8124.000000  8124.000000  8124.000000  8124.000000   \nmean      0.482029     3.348104     1.827671     4.504677     0.415559   \nstd       0.499708     1.604329     1.229873     2.545821     0.492848   \nmin       0.000000     0.000000     0.000000     0.000000     0.000000   \n25%       0.000000     2.000000     0.000000     3.000000     0.000000   \n50%       0.000000     3.000000     2.000000     4.000000     0.000000   \n75%       1.000000     5.000000     3.000000     8.000000     1.000000   \nmax       1.000000     5.000000     3.000000     9.000000     1.000000   \n\n              odor  gill-attachment  gill-spacing    gill-size   gill-color  \\\ncount  8124.000000      8124.000000   8124.000000  8124.000000  8124.000000   \nmean      4.144756         0.974151      0.161497     0.309207     4.810684   \nstd       2.103729         0.158695      0.368011     0.462195     3.540359   \nmin       0.000000         0.000000      0.000000     0.000000     0.000000   \n25%       2.000000         1.000000      0.000000     0.000000     2.000000   \n50%       5.000000         1.000000      0.000000     0.000000     5.000000   \n75%       5.000000         1.000000      0.000000     1.000000     7.000000   \nmax       8.000000         1.000000      1.000000     1.000000    11.000000   \n\n       ...  stalk-surface-below-ring  stalk-color-above-ring  \\\ncount  ...               8124.000000             8124.000000   \nmean   ...                  1.603644                5.816347   \nstd    ...                  0.675974                1.901747   \nmin    ...                  0.000000                0.000000   \n25%    ...                  1.000000                6.000000   \n50%    ...                  2.000000                7.000000   \n75%    ...                  2.000000                7.000000   \nmax    ...                  3.000000                8.000000   \n\n       stalk-color-below-ring  veil-type   veil-color  ring-number  \\\ncount             8124.000000     8124.0  8124.000000  8124.000000   \nmean                 5.794682        0.0     1.965534     1.069424   \nstd                  1.907291        0.0     0.242669     0.271064   \nmin                  0.000000        0.0     0.000000     0.000000   \n25%                  6.000000        0.0     2.000000     1.000000   \n50%                  7.000000        0.0     2.000000     1.000000   \n75%                  7.000000        0.0     2.000000     1.000000   \nmax                  8.000000        0.0     3.000000     2.000000   \n\n         ring-type  spore-print-color   population      habitat  \ncount  8124.000000        8124.000000  8124.000000  8124.000000  \nmean      2.291974           3.596750     3.644018     1.508616  \nstd       1.801672           2.382663     1.252082     1.719975  \nmin       0.000000           0.000000     0.000000     0.000000  \n25%       0.000000           2.000000     3.000000     0.000000  \n50%       2.000000           3.000000     4.000000     1.000000  \n75%       4.000000           7.000000     4.000000     2.000000  \nmax       4.000000           8.000000     5.000000     6.000000  \n\n[8 rows x 23 columns]",
      "text/html": "<div>\n<style scoped>\n    .dataframe tbody tr th:only-of-type {\n        vertical-align: middle;\n    }\n\n    .dataframe tbody tr th {\n        vertical-align: top;\n    }\n\n    .dataframe thead th {\n        text-align: right;\n    }\n</style>\n<table border=\"1\" class=\"dataframe\">\n  <thead>\n    <tr style=\"text-align: right;\">\n      <th></th>\n      <th>class</th>\n      <th>cap-shape</th>\n      <th>cap-surface</th>\n      <th>cap-color</th>\n      <th>bruises</th>\n      <th>odor</th>\n      <th>gill-attachment</th>\n      <th>gill-spacing</th>\n      <th>gill-size</th>\n      <th>gill-color</th>\n      <th>...</th>\n      <th>stalk-surface-below-ring</th>\n      <th>stalk-color-above-ring</th>\n      <th>stalk-color-below-ring</th>\n      <th>veil-type</th>\n      <th>veil-color</th>\n      <th>ring-number</th>\n      <th>ring-type</th>\n      <th>spore-print-color</th>\n      <th>population</th>\n      <th>habitat</th>\n    </tr>\n  </thead>\n  <tbody>\n    <tr>\n      <th>count</th>\n      <td>8124.000000</td>\n      <td>8124.000000</td>\n      <td>8124.000000</td>\n      <td>8124.000000</td>\n      <td>8124.000000</td>\n      <td>8124.000000</td>\n      <td>8124.000000</td>\n      <td>8124.000000</td>\n      <td>8124.000000</td>\n      <td>8124.000000</td>\n      <td>...</td>\n      <td>8124.000000</td>\n      <td>8124.000000</td>\n      <td>8124.000000</td>\n      <td>8124.0</td>\n      <td>8124.000000</td>\n      <td>8124.000000</td>\n      <td>8124.000000</td>\n      <td>8124.000000</td>\n      <td>8124.000000</td>\n      <td>8124.000000</td>\n    </tr>\n    <tr>\n      <th>mean</th>\n      <td>0.482029</td>\n      <td>3.348104</td>\n      <td>1.827671</td>\n      <td>4.504677</td>\n      <td>0.415559</td>\n      <td>4.144756</td>\n      <td>0.974151</td>\n      <td>0.161497</td>\n      <td>0.309207</td>\n      <td>4.810684</td>\n      <td>...</td>\n      <td>1.603644</td>\n      <td>5.816347</td>\n      <td>5.794682</td>\n      <td>0.0</td>\n      <td>1.965534</td>\n      <td>1.069424</td>\n      <td>2.291974</td>\n      <td>3.596750</td>\n      <td>3.644018</td>\n      <td>1.508616</td>\n    </tr>\n    <tr>\n      <th>std</th>\n      <td>0.499708</td>\n      <td>1.604329</td>\n      <td>1.229873</td>\n      <td>2.545821</td>\n      <td>0.492848</td>\n      <td>2.103729</td>\n      <td>0.158695</td>\n      <td>0.368011</td>\n      <td>0.462195</td>\n      <td>3.540359</td>\n      <td>...</td>\n      <td>0.675974</td>\n      <td>1.901747</td>\n      <td>1.907291</td>\n      <td>0.0</td>\n      <td>0.242669</td>\n      <td>0.271064</td>\n      <td>1.801672</td>\n      <td>2.382663</td>\n      <td>1.252082</td>\n      <td>1.719975</td>\n    </tr>\n    <tr>\n      <th>min</th>\n      <td>0.000000</td>\n      <td>0.000000</td>\n      <td>0.000000</td>\n      <td>0.000000</td>\n      <td>0.000000</td>\n      <td>0.000000</td>\n      <td>0.000000</td>\n      <td>0.000000</td>\n      <td>0.000000</td>\n      <td>0.000000</td>\n      <td>...</td>\n      <td>0.000000</td>\n      <td>0.000000</td>\n      <td>0.000000</td>\n      <td>0.0</td>\n      <td>0.000000</td>\n      <td>0.000000</td>\n      <td>0.000000</td>\n      <td>0.000000</td>\n      <td>0.000000</td>\n      <td>0.000000</td>\n    </tr>\n    <tr>\n      <th>25%</th>\n      <td>0.000000</td>\n      <td>2.000000</td>\n      <td>0.000000</td>\n      <td>3.000000</td>\n      <td>0.000000</td>\n      <td>2.000000</td>\n      <td>1.000000</td>\n      <td>0.000000</td>\n      <td>0.000000</td>\n      <td>2.000000</td>\n      <td>...</td>\n      <td>1.000000</td>\n      <td>6.000000</td>\n      <td>6.000000</td>\n      <td>0.0</td>\n      <td>2.000000</td>\n      <td>1.000000</td>\n      <td>0.000000</td>\n      <td>2.000000</td>\n      <td>3.000000</td>\n      <td>0.000000</td>\n    </tr>\n    <tr>\n      <th>50%</th>\n      <td>0.000000</td>\n      <td>3.000000</td>\n      <td>2.000000</td>\n      <td>4.000000</td>\n      <td>0.000000</td>\n      <td>5.000000</td>\n      <td>1.000000</td>\n      <td>0.000000</td>\n      <td>0.000000</td>\n      <td>5.000000</td>\n      <td>...</td>\n      <td>2.000000</td>\n      <td>7.000000</td>\n      <td>7.000000</td>\n      <td>0.0</td>\n      <td>2.000000</td>\n      <td>1.000000</td>\n      <td>2.000000</td>\n      <td>3.000000</td>\n      <td>4.000000</td>\n      <td>1.000000</td>\n    </tr>\n    <tr>\n      <th>75%</th>\n      <td>1.000000</td>\n      <td>5.000000</td>\n      <td>3.000000</td>\n      <td>8.000000</td>\n      <td>1.000000</td>\n      <td>5.000000</td>\n      <td>1.000000</td>\n      <td>0.000000</td>\n      <td>1.000000</td>\n      <td>7.000000</td>\n      <td>...</td>\n      <td>2.000000</td>\n      <td>7.000000</td>\n      <td>7.000000</td>\n      <td>0.0</td>\n      <td>2.000000</td>\n      <td>1.000000</td>\n      <td>4.000000</td>\n      <td>7.000000</td>\n      <td>4.000000</td>\n      <td>2.000000</td>\n    </tr>\n    <tr>\n      <th>max</th>\n      <td>1.000000</td>\n      <td>5.000000</td>\n      <td>3.000000</td>\n      <td>9.000000</td>\n      <td>1.000000</td>\n      <td>8.000000</td>\n      <td>1.000000</td>\n      <td>1.000000</td>\n      <td>1.000000</td>\n      <td>11.000000</td>\n      <td>...</td>\n      <td>3.000000</td>\n      <td>8.000000</td>\n      <td>8.000000</td>\n      <td>0.0</td>\n      <td>3.000000</td>\n      <td>2.000000</td>\n      <td>4.000000</td>\n      <td>8.000000</td>\n      <td>5.000000</td>\n      <td>6.000000</td>\n    </tr>\n  </tbody>\n</table>\n<p>8 rows × 23 columns</p>\n</div>"
     },
     "metadata": {}
    }
   ]
  },
  {
   "cell_type": "code",
   "metadata": {
    "tags": [],
    "deepnote_to_be_reexecuted": false,
    "source_hash": "1248f4e5",
    "execution_start": 1648424905235,
    "execution_millis": 5123,
    "cell_id": "00011-9129e39d-47ee-490e-a628-b63d04573149",
    "deepnote_cell_type": "code",
    "deepnote_cell_height": 621.5,
    "deepnote_output_heights": [
     398.5
    ]
   },
   "source": "X = df[df.columns[:]].values\n\nfig = plt.figure(figsize=(30, 14))\n\nfor i in range(X.shape[1]):\n    ax = fig.add_subplot(3,8, (i+1))\n    h = ax.hist(X[:, i], bins=25, density=True, edgecolor='none')\n    ax.set_title(df.columns[i], fontsize=14)",
   "execution_count": null,
   "outputs": [
    {
     "data": {
      "text/plain": "<Figure size 2160x1008 with 23 Axes>",
      "image/png": "[encoded data removed]"
     },
     "metadata": {
      "needs_background": "light",
      "image/png": {
       "width": 1720,
       "height": 809
      }
     },
     "output_type": "display_data"
    }
   ]
  },
  {
   "cell_type": "markdown",
   "source": "### ___Correlation___",
   "metadata": {
    "tags": [],
    "cell_id": "00012-b786a123-cd8f-45fc-9ed4-28e3030c5e7f",
    "deepnote_cell_type": "markdown",
    "deepnote_cell_height": 62
   }
  },
  {
   "cell_type": "code",
   "metadata": {
    "tags": [],
    "deepnote_to_be_reexecuted": false,
    "source_hash": "79d0cd7f",
    "execution_start": 1648424910359,
    "execution_millis": 1230,
    "cell_id": "00013-425e31fe-0e86-402a-98ca-c315bd3777e5",
    "deepnote_cell_type": "code",
    "deepnote_cell_height": 726,
    "deepnote_output_heights": [
     611
    ]
   },
   "source": "plt.figure(figsize=(12,10))\nax = sb.heatmap(df.corr())",
   "execution_count": null,
   "outputs": [
    {
     "data": {
      "text/plain": "<Figure size 864x720 with 2 Axes>",
      "image/png": "[encoded data removed]"
     },
     "metadata": {
      "needs_background": "light",
      "image/png": {
       "width": 770,
       "height": 691
      }
     },
     "output_type": "display_data"
    }
   ]
  },
  {
   "cell_type": "code",
   "metadata": {
    "tags": [],
    "deepnote_to_be_reexecuted": false,
    "source_hash": "11d38351",
    "execution_start": 1648424911593,
    "execution_millis": 4,
    "cell_id": "00014-4406425e-260b-4c0b-a3d9-927efec4ea79",
    "deepnote_cell_type": "code",
    "deepnote_cell_height": 117
   },
   "source": "#erase columns \ndf = df.drop([\"veil-type\"],axis=1)\n",
   "execution_count": null,
   "outputs": []
  },
  {
   "cell_type": "markdown",
   "source": "## ___SPLIT DATA___",
   "metadata": {
    "tags": [],
    "cell_id": "00015-116e5914-48d9-4e9a-85f7-b10ee3bb0182",
    "deepnote_cell_type": "markdown",
    "deepnote_cell_height": 70
   }
  },
  {
   "cell_type": "code",
   "metadata": {
    "tags": [],
    "deepnote_to_be_reexecuted": false,
    "source_hash": "c15e8fff",
    "execution_start": 1648424911607,
    "execution_millis": 4,
    "cell_id": "00016-cbc481e0-10cb-4743-a339-fc0b135808be",
    "deepnote_cell_type": "code",
    "deepnote_cell_height": 189
   },
   "source": "#Split our data to train & test set\n\n#Define our Target\ny = df['class']\n#Erase the target on features\nX = df.drop([\"class\"], axis=1) \nx_train, x_test, y_train, y_test = train_test_split(X, y , test_size=0.37, random_state=0)",
   "execution_count": null,
   "outputs": []
  },
  {
   "cell_type": "markdown",
   "source": "# __K-NN__",
   "metadata": {
    "tags": [],
    "cell_id": "00017-48326d7f-4b42-4db6-b3b0-a7663d1842ed",
    "deepnote_cell_type": "markdown",
    "deepnote_cell_height": 82
   }
  },
  {
   "cell_type": "markdown",
   "source": "### ___Standardisation___",
   "metadata": {
    "tags": [],
    "cell_id": "00018-ed92a9b5-dfa5-4981-8845-fd545dac099b",
    "deepnote_cell_type": "markdown",
    "deepnote_cell_height": 62
   }
  },
  {
   "cell_type": "code",
   "metadata": {
    "tags": [],
    "deepnote_to_be_reexecuted": false,
    "source_hash": "619b1866",
    "execution_start": 1648424911620,
    "execution_millis": 9,
    "cell_id": "00019-214e0d52-9878-49c0-a1af-0764ef9d9a1a",
    "deepnote_cell_type": "code",
    "deepnote_cell_height": 153
   },
   "source": "#standardisation to get the common scale, make it for each set\n\nstandard = StandardScaler()\nx_train = standard.fit_transform(x_train)\nx_test = standard.transform(x_test)",
   "execution_count": null,
   "outputs": []
  },
  {
   "cell_type": "markdown",
   "source": "### ___K neighbords___",
   "metadata": {
    "tags": [],
    "cell_id": "00020-78b5354a-292b-41d4-84d4-ec307c4508fe",
    "deepnote_cell_type": "markdown",
    "deepnote_cell_height": 62
   }
  },
  {
   "cell_type": "code",
   "metadata": {
    "tags": [],
    "deepnote_to_be_reexecuted": false,
    "source_hash": "2949ff52",
    "execution_start": 1648424911635,
    "execution_millis": 9,
    "cell_id": "00021-9f76a303-5ab5-4421-a9ba-6046c6f491ec",
    "deepnote_cell_type": "code",
    "deepnote_cell_height": 172,
    "deepnote_output_heights": [
     21
    ]
   },
   "source": "# K = sqrt(len(set point)) ------> get the right k neighbords\n# we'll use impair number to don't have a coflict\n\nmath.sqrt(len(y_test))",
   "execution_count": null,
   "outputs": [
    {
     "output_type": "execute_result",
     "execution_count": 14,
     "data": {
      "text/plain": "54.8270006474912"
     },
     "metadata": {}
    }
   ]
  },
  {
   "cell_type": "markdown",
   "source": "### ___Distance___",
   "metadata": {
    "tags": [],
    "cell_id": "00022-0191c4e6-f36d-4c44-9da2-d4bc0edb8b41",
    "deepnote_cell_type": "markdown",
    "deepnote_cell_height": 62
   }
  },
  {
   "cell_type": "code",
   "metadata": {
    "tags": [],
    "deepnote_to_be_reexecuted": false,
    "source_hash": "e4df563d",
    "execution_start": 1648424911647,
    "execution_millis": 108,
    "cell_id": "00023-aa0bdc38-5eab-4c7f-82d0-61139ba7e20b",
    "deepnote_cell_type": "code",
    "deepnote_cell_height": 172,
    "deepnote_output_heights": [
     21
    ]
   },
   "source": "#calcule de la distance \nclassifier = KNeighborsClassifier(n_neighbors=53,metric='euclidean')\n#entrainement du model\nclassifier.fit(x_train,y_train)",
   "execution_count": null,
   "outputs": [
    {
     "output_type": "execute_result",
     "execution_count": 15,
     "data": {
      "text/plain": "KNeighborsClassifier(metric='euclidean', n_neighbors=53)"
     },
     "metadata": {}
    }
   ]
  },
  {
   "cell_type": "markdown",
   "source": "### ___Prediction___",
   "metadata": {
    "tags": [],
    "cell_id": "00024-a73558ba-3b87-48e4-b878-b458a08c874a",
    "deepnote_cell_type": "markdown",
    "deepnote_cell_height": 62
   }
  },
  {
   "cell_type": "code",
   "metadata": {
    "tags": [],
    "deepnote_to_be_reexecuted": false,
    "source_hash": "3c495e93",
    "execution_start": 1648424911758,
    "execution_millis": 942,
    "cell_id": "00025-c0a9722d-091d-4e1a-ab83-c32935b8e19c",
    "deepnote_cell_type": "code",
    "deepnote_cell_height": 136,
    "deepnote_output_heights": [
     21
    ]
   },
   "source": "#score d'entrainement\nclassifier.score(x_train,y_train)",
   "execution_count": null,
   "outputs": [
    {
     "output_type": "execute_result",
     "execution_count": 16,
     "data": {
      "text/plain": "0.9857366158655725"
     },
     "metadata": {}
    }
   ]
  },
  {
   "cell_type": "code",
   "metadata": {
    "tags": [],
    "deepnote_to_be_reexecuted": false,
    "source_hash": "95826891",
    "execution_start": 1648424912711,
    "execution_millis": 985,
    "cell_id": "00026-7da0bd0d-9b67-43d3-a19e-11112efa176f",
    "deepnote_cell_type": "code",
    "deepnote_cell_height": 136,
    "deepnote_output_heights": [
     21
    ]
   },
   "source": "prediction = classifier.predict(x_test)\nprediction",
   "execution_count": null,
   "outputs": [
    {
     "output_type": "execute_result",
     "execution_count": 17,
     "data": {
      "text/plain": "array([1, 0, 0, ..., 0, 0, 1])"
     },
     "metadata": {}
    }
   ]
  },
  {
   "cell_type": "code",
   "metadata": {
    "tags": [],
    "deepnote_to_be_reexecuted": false,
    "source_hash": "7e6ddbea",
    "execution_start": 1648424913343,
    "execution_millis": 590,
    "cell_id": "00027-a60ac427-1531-47d4-ab2b-7a1ffff96723",
    "deepnote_cell_type": "code",
    "deepnote_cell_height": 136,
    "deepnote_output_heights": [
     21
    ]
   },
   "source": "#score sur le test\nclassifier.score(x_test,y_test)",
   "execution_count": null,
   "outputs": [
    {
     "output_type": "execute_result",
     "execution_count": 18,
     "data": {
      "text/plain": "0.9873586161011311"
     },
     "metadata": {}
    }
   ]
  },
  {
   "cell_type": "markdown",
   "source": "### ___Confusion Matrix___",
   "metadata": {
    "tags": [],
    "cell_id": "00028-2d5f880a-5e7b-4407-bc66-65c591d70cdf",
    "deepnote_cell_type": "markdown",
    "deepnote_cell_height": 62
   }
  },
  {
   "cell_type": "code",
   "metadata": {
    "tags": [],
    "deepnote_to_be_reexecuted": false,
    "source_hash": "122c6c19",
    "execution_start": 1648424913944,
    "execution_millis": 6,
    "cell_id": "00029-40194861-8fdc-4933-9243-4e4eee7b4d86",
    "deepnote_cell_type": "code",
    "deepnote_cell_height": 191,
    "deepnote_output_heights": [
     40
    ]
   },
   "source": "#check the accurancy with confusion matrix\n\nc_matrix = confusion_matrix(y_test, prediction)\nc_matrix",
   "execution_count": null,
   "outputs": [
    {
     "output_type": "execute_result",
     "execution_count": 19,
     "data": {
      "text/plain": "array([[1563,    6],\n       [  32, 1405]])"
     },
     "metadata": {}
    }
   ]
  },
  {
   "cell_type": "code",
   "metadata": {
    "tags": [],
    "deepnote_to_be_reexecuted": false,
    "source_hash": "2a48eb84",
    "execution_start": 1648424913956,
    "execution_millis": 639,
    "cell_id": "00030-ec3f8a19-591c-4d61-9426-474590eaff03",
    "deepnote_cell_type": "code",
    "deepnote_cell_height": 575,
    "deepnote_output_heights": [
     21,
     264
    ]
   },
   "source": "#plot de matrix confusion\n\nclf = SVC(random_state=0)\nclf.fit(x_train, y_train)\n\nclf_prediction = clf.predict(x_test)\nc_matrix = confusion_matrix(y_test, prediction, labels=clf.classes_)\ndisp = ConfusionMatrixDisplay(confusion_matrix=c_matrix,display_labels=clf.classes_)\ndisp.plot()\nplt.show",
   "execution_count": null,
   "outputs": [
    {
     "output_type": "execute_result",
     "execution_count": 20,
     "data": {
      "text/plain": "<function matplotlib.pyplot.show(close=None, block=None)>"
     },
     "metadata": {}
    },
    {
     "data": {
      "text/plain": "<Figure size 432x288 with 2 Axes>",
      "image/png": "[encoded data removed]"
     },
     "metadata": {
      "needs_background": "light",
      "image/png": {
       "width": 319,
       "height": 262
      }
     },
     "output_type": "display_data"
    }
   ]
  },
  {
   "cell_type": "code",
   "metadata": {
    "tags": [],
    "deepnote_to_be_reexecuted": false,
    "source_hash": "77d5c53",
    "execution_start": 1648424914604,
    "execution_millis": 4,
    "cell_id": "00031-a971e553-f6ee-4f26-846a-2a9f287c7fc7",
    "deepnote_cell_type": "code",
    "deepnote_cell_height": 130
   },
   "source": "#accurancy score TP+TN/Total\nprint(accuracy_score(y_test, prediction))",
   "execution_count": null,
   "outputs": [
    {
     "name": "stdout",
     "text": "0.9873586161011311\n",
     "output_type": "stream"
    }
   ]
  },
  {
   "cell_type": "code",
   "metadata": {
    "tags": [],
    "deepnote_to_be_reexecuted": false,
    "source_hash": "863b2cd5",
    "execution_start": 1648424914621,
    "execution_millis": 2,
    "cell_id": "00032-f0715029-8999-4ef8-9d4b-510012afe0a0",
    "deepnote_cell_type": "code",
    "deepnote_cell_height": 130
   },
   "source": "#Evaluate our accurancy with F1-Score = 2*[(Recall*Precision)/(Recall+Precision)]\nprint(f1_score(y_test,prediction))",
   "execution_count": null,
   "outputs": [
    {
     "name": "stdout",
     "text": "0.9866573033707865\n",
     "output_type": "stream"
    }
   ]
  },
  {
   "cell_type": "code",
   "metadata": {
    "tags": [],
    "deepnote_to_be_reexecuted": false,
    "source_hash": "ae58e052",
    "execution_start": 1648425356886,
    "execution_millis": 421,
    "cell_id": "00033-845db9ec-466c-46cd-81a9-3c7f28c4faec",
    "deepnote_cell_type": "code",
    "deepnote_cell_height": 771.640625,
    "deepnote_output_heights": [
     null,
     420.640625
    ]
   },
   "source": "#plot a prédiction vs reality\n\nplt.figure(figsize=(15,7))\nax = sb.distplot(df['class'], hist=False, color=\"green\", label=\"Reality\")\nsb.distplot(prediction, hist=False, color=\"b\", label=\"Predicted Values\", ax=ax)\n\nplt.title('Reality vs Precited value for Class')\nplt.legend()\nplt.show()",
   "execution_count": null,
   "outputs": [
    {
     "name": "stderr",
     "text": "/shared-libs/python3.7/py/lib/python3.7/site-packages/seaborn/distributions.py:2619: FutureWarning: `distplot` is a deprecated function and will be removed in a future version. Please adapt your code to use either `displot` (a figure-level function with similar flexibility) or `kdeplot` (an axes-level function for kernel density plots).\n  warnings.warn(msg, FutureWarning)\n/shared-libs/python3.7/py/lib/python3.7/site-packages/seaborn/distributions.py:2619: FutureWarning: `distplot` is a deprecated function and will be removed in a future version. Please adapt your code to use either `displot` (a figure-level function with similar flexibility) or `kdeplot` (an axes-level function for kernel density plots).\n  warnings.warn(msg, FutureWarning)\n",
     "output_type": "stream"
    },
    {
     "data": {
      "text/plain": "<Figure size 1080x504 with 1 Axes>",
      "image/png": "[encoded data removed]"
     },
     "metadata": {
      "needs_background": "light",
      "image/png": {
       "width": 888,
       "height": 441
      }
     },
     "output_type": "display_data"
    }
   ]
  },
  {
   "cell_type": "markdown",
   "source": "<a style='text-decoration:none;line-height:16px;display:flex;color:#5B5B62;padding:10px;justify-content:end;' href='https://deepnote.com?utm_source=created-in-deepnote-cell&projectId=e5820e14-f512-439e-8bfb-57003b643a6f' target=\"_blank\">\n<img alt='Created in deepnote.com' style='display:inline;max-height:16px;margin:0px;margin-right:7.5px;' src='data:image/svg+xml;base64,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' > </img>\nCreated in <span style='font-weight:600;margin-left:4px;'>Deepnote</span></a>",
   "metadata": {
    "tags": [],
    "created_in_deepnote_cell": true,
    "deepnote_cell_type": "markdown"
   }
  }
 ],
 "nbformat": 4,
 "nbformat_minor": 2,
 "metadata": {
  "orig_nbformat": 2,
  "deepnote": {
   "is_reactive": false
  },
  "deepnote_notebook_id": "ff6a12bb-eb19-4aba-86d4-c99c894c9da0",
  "deepnote_execution_queue": []
 }
}